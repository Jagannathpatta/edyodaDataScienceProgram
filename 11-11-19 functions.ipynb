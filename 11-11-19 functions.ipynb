{
 "cells": [
  {
   "cell_type": "markdown",
   "metadata": {},
   "source": [
    "# Problem Statement:\n",
    "    1. Write a function that takes a string.\n",
    "    2. Check if the string contains a vowel (a).\n",
    "    3. if it does, print it once.\n",
    "    4. or, print the word two times."
   ]
  },
  {
   "cell_type": "code",
   "execution_count": 2,
   "metadata": {},
   "outputs": [
    {
     "name": "stdout",
     "output_type": "stream",
     "text": [
      "hyyhyy\n"
     ]
    }
   ],
   "source": [
    "str = \"hyy\"\n",
    "\n",
    "def containVowel(str):\n",
    "    for i in str:\n",
    "        if i in \"aeiou\":\n",
    "            return True\n",
    "            break\n",
    "    else:\n",
    "        return False\n",
    "\n",
    "ans = containVowel(str)\n",
    "if ans:\n",
    "    print(str)\n",
    "else:\n",
    "    print(str * 2)\n",
    "    "
   ]
  },
  {
   "cell_type": "code",
   "execution_count": 10,
   "metadata": {},
   "outputs": [],
   "source": [
    "def oddEve(value):\n",
    "    if value %2 == 0 :\n",
    "        return True\n",
    "    return False"
   ]
  },
  {
   "cell_type": "code",
   "execution_count": 2,
   "metadata": {},
   "outputs": [],
   "source": [
    "def oddEve(value):\n",
    "    if value %2 == 0 :\n",
    "        return True\n",
    "    return False\n",
    "\n",
    "def mySumFunc(*l):\n",
    "    res = 1\n",
    "    for i in l:\n",
    "        check = oddEve(i)\n",
    "        if check:\n",
    "            res *= i\n",
    "    print(res)\n",
    "        "
   ]
  },
  {
   "cell_type": "code",
   "execution_count": 22,
   "metadata": {},
   "outputs": [
    {
     "name": "stdout",
     "output_type": "stream",
     "text": [
      "480\n",
      "None\n"
     ]
    }
   ],
   "source": [
    "print(mySumFunc(2,3,4,5,6,9,10))"
   ]
  },
  {
   "cell_type": "code",
   "execution_count": 3,
   "metadata": {},
   "outputs": [
    {
     "name": "stdout",
     "output_type": "stream",
     "text": [
      "200\n"
     ]
    }
   ],
   "source": [
    "mySumFunc(10,20,11,21,23,445,2323)"
   ]
  },
  {
   "cell_type": "code",
   "execution_count": 6,
   "metadata": {},
   "outputs": [
    {
     "name": "stdout",
     "output_type": "stream",
     "text": [
      " abcd jklm\n"
     ]
    }
   ],
   "source": [
    "def ifWordEven(word):\n",
    "    if len(word) % 2 == 0:\n",
    "        return True\n",
    "    return False\n",
    "\n",
    "def evenWordsCollector(*args):\n",
    "    res = ''\n",
    "    for i in args:\n",
    "        if ifWordEven(i):\n",
    "            res += \" \"+i\n",
    "    print(res)\n",
    "    \n",
    "evenWordsCollector('abc','def','abcd','jklm')\n",
    "\n",
    "\n",
    "            "
   ]
  },
  {
   "cell_type": "code",
   "execution_count": 23,
   "metadata": {},
   "outputs": [
    {
     "data": {
      "text/plain": [
       "[{'name': 'abc', 'age': 20},\n",
       " {'name': 'def', 'age': 20, 'location': 'mumbai'},\n",
       " {'name': 'def', 'age': 20, 'salary': 100000},\n",
       " {'name': 'eff', 'age': 20, 'salary': 10000}]"
      ]
     },
     "execution_count": 23,
     "metadata": {},
     "output_type": "execute_result"
    }
   ],
   "source": [
    "def createEmpData(list_emps , **kwargs):\n",
    "    list_emps.append(kwargs)\n",
    "    \n",
    "list_emps = []\n",
    "\n",
    "createEmpData(list_emps , name='abc' ,age =20)\n",
    "list_emps\n",
    "createEmpData(list_emps , name='def' ,age =20 , location = 'mumbai')\n",
    "list_emps\n",
    "createEmpData(list_emps , name='def' ,age =20 , salary = 100000)\n",
    "list_emps\n",
    "createEmpData(list_emps , name='eff' ,age =20 , salary = 10000)\n",
    "list_emps"
   ]
  },
  {
   "cell_type": "code",
   "execution_count": 20,
   "metadata": {},
   "outputs": [
    {
     "data": {
      "text/plain": [
       "'def'"
      ]
     },
     "execution_count": 20,
     "metadata": {},
     "output_type": "execute_result"
    }
   ],
   "source": [
    "list_emps[1]['name']"
   ]
  },
  {
   "cell_type": "code",
   "execution_count": 28,
   "metadata": {},
   "outputs": [
    {
     "name": "stdout",
     "output_type": "stream",
     "text": [
      "{'name': 'def', 'age': 20, 'salary': 100000}\n",
      "{'name': 'eff', 'age': 20, 'salary': 10000}\n"
     ]
    }
   ],
   "source": [
    "def getPeopleSalary(list_emps , salary = 50000):\n",
    "    for emp in list_emps:\n",
    "        if 'salary' in emp and emp['salary'] >= salary:\n",
    "            print(emp)\n",
    "getPeopleSalary(list_emps ,10000 )"
   ]
  },
  {
   "cell_type": "code",
   "execution_count": 37,
   "metadata": {},
   "outputs": [
    {
     "data": {
      "text/plain": [
       "162"
      ]
     },
     "execution_count": 37,
     "metadata": {},
     "output_type": "execute_result"
    }
   ],
   "source": [
    "def createStudData(list_stud , **kwargs):\n",
    "    list_stud.append(kwargs)\n",
    "    \n",
    "list_stud = []\n",
    "createStudData(list_stud , name = 'abc',maths=70,english = 59)\n",
    "createStudData(list_stud , name = 'def',maths=65,english = 87)\n",
    "createStudData(list_stud , name = 'ghi',maths=80,english = 64)\n",
    "createStudData(list_stud , name = 'jkl',maths=90,english = 72)\n",
    "createStudData(list_stud , name = 'mno',maths=88,english = 66)\n",
    "list_stud\n",
    "\n",
    "def getTopper(list_stud):\n",
    "    aggrigate = []\n",
    "    for stud in list_stud:\n",
    "        aggrigate.append(stud['maths'] + stud['english'])\n",
    "    \n",
    "    return max(aggrigate)\n",
    "    \n",
    "getTopper(list_stud)"
   ]
  },
  {
   "cell_type": "code",
   "execution_count": 38,
   "metadata": {},
   "outputs": [
    {
     "data": {
      "text/plain": [
       "162"
      ]
     },
     "execution_count": 38,
     "metadata": {},
     "output_type": "execute_result"
    }
   ],
   "source": [
    "def getTopper(list_stud):\n",
    "    aggrigate = []\n",
    "    for stud in list_stud:\n",
    "        aggrigate.append(stud['maths'] + stud['english'])\n",
    "    \n",
    "    return max(aggrigate)\n",
    "    \n",
    "getTopper(list_stud)"
   ]
  }
 ],
 "metadata": {
  "kernelspec": {
   "display_name": "Python 3",
   "language": "python",
   "name": "python3"
  },
  "language_info": {
   "codemirror_mode": {
    "name": "ipython",
    "version": 3
   },
   "file_extension": ".py",
   "mimetype": "text/x-python",
   "name": "python",
   "nbconvert_exporter": "python",
   "pygments_lexer": "ipython3",
   "version": "3.7.0"
  }
 },
 "nbformat": 4,
 "nbformat_minor": 2
}
