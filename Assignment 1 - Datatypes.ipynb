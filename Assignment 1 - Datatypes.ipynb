{
 "cells": [
  {
   "cell_type": "markdown",
   "metadata": {},
   "source": [
    "\n",
    "\n",
    "1.In the pre-smartphone era,each number key is assigned a subset of the alphabet {a,b,…,z}.\n",
    "\n",
    "- 2 is assigned {a,b,c}, \n",
    "- 3 is assigned {d,e,f} \n",
    "- 4 is assigned {g,h,i} \n",
    "- 5 is assigned {j,k,l}\n",
    "- 6 is assigned {m,n,o} \n",
    "- 7 is assigned {p,q,r,s}\n",
    "- 8 is assigned {t,u,v} \n",
    "- 9 is assigned {w,x,y,z}\n",
    "\n",
    "Write a function numbers_to_chars() to find the characters generated using key 9999335533. Output should be \"zeke\"\n",
    "\n",
    "Function Name : numbers_to_chars() Input : Integer number sequence Output : Str\n"
   ]
  },
  {
   "cell_type": "code",
   "execution_count": 1,
   "metadata": {},
   "outputs": [
    {
     "name": "stdout",
     "output_type": "stream",
     "text": [
      "{2: ['a', 'b', 'c'], 3: ['d', 'e', 'f'], 4: ['g', 'h', 'i'], 5: ['j', 'k', 'l'], 6: ['m', 'n', 'o'], 7: ['p', 'q', 'r', 's'], 8: ['t', 'u', 'v'], 9: ['w', 'x', 'y', 'z']}\n",
      "Enter the No. :9999335533\n",
      "zeke\n"
     ]
    }
   ],
   "source": [
    "l = {} \n",
    "c = 97\n",
    "for i in range(2,10):\n",
    "    if i == 7 or i == 9:\n",
    "        count = 0\n",
    "        l[i] = []\n",
    "        while(count < 4):\n",
    "            l[i].append(chr(c))\n",
    "            c += 1\n",
    "            count += 1\n",
    "    else:\n",
    "        count = 0\n",
    "        l[i] = [] \n",
    "        while(count < 3):\n",
    "            l[i].append(chr(c))\n",
    "            c += 1\n",
    "            count += 1\n",
    "\n",
    "print(l)\n",
    "\n",
    "def number_to_char(n):\n",
    "    res = 0\n",
    "    str1 = \"\"\n",
    "    \n",
    "    while(n > 0):  \n",
    "        \n",
    "        r = n % 10\n",
    "        res = res*10 + r\n",
    "        n = n//10\n",
    "        \n",
    "        if res%10 != n%10:\n",
    "\n",
    "            str1 = l[res%10][str(res).count(str(res%10)) - 1] + str1\n",
    "            res = 0\n",
    "    \n",
    "    return str1\n",
    "            \n",
    "\n",
    "print(number_to_char(int(input(\"Enter the No. :\"))))\n"
   ]
  },
  {
   "cell_type": "markdown",
   "metadata": {},
   "source": [
    "\n",
    "\n",
    "2.Given a dict of tickets(\"to\":\"from\")\n",
    "\n",
    "{\"Chennai\":\"Banglore\",\"Bombay\":\"Delhi\",\"Goa\":\"Chennai\",\"Delhi\":\"Goa\"} find out the sequence of travel.\n",
    "\n",
    "Expected Output : Bombay->Delhi, Delhi->Goa, Goa->Chennai, Chennai->Banglore\n",
    "\n",
    "Function Name : travel_sequence Input : dict Output : dict\n"
   ]
  },
  {
   "cell_type": "code",
   "execution_count": 3,
   "metadata": {},
   "outputs": [
    {
     "name": "stdout",
     "output_type": "stream",
     "text": [
      "Output : {'Bombay': 'Delhi', 'Delhi': 'Goa', 'Goa': 'Chennai', 'Chennai': 'Banglore'}\n"
     ]
    }
   ],
   "source": [
    "def travel_sequence(d):\n",
    "    d2 = {}\n",
    "\n",
    "    source = [k for k in d.keys() if k not in d.values()]\n",
    "    src = source[0]\n",
    "\n",
    "    for i in range(len(d)):\n",
    "        d2[src] = d[src]\n",
    "        src = d[src]\n",
    "    return d2\n",
    "\n",
    "d = {\"Chennai\":\"Banglore\",\"Bombay\":\"Delhi\",\"Goa\":\"Chennai\",\"Delhi\":\"Goa\"}\n",
    "print(\"Output :\",travel_sequence(d))"
   ]
  },
  {
   "cell_type": "markdown",
   "metadata": {},
   "source": [
    "\n",
    "\n",
    "3.Given a dictionary that associates the names of states with a list of the names of cities that appear in it,write a program that creates a new dictionary that associates the name of a city with the list of states that it appears in.\n",
    "\n",
    "As an example, if the first dictionary is\n",
    "\n",
    "Input : states = {'New Hampshire': ['Concord', 'Hanover'],\n",
    "\n",
    "'Massachusetts': ['Boston', 'Concord', 'Springfield'],\n",
    "\n",
    "'Illinois': ['Chicago', 'Springfield', 'Peoria'] }\n",
    "\n",
    "Output:\n",
    "\n",
    "cities = {'Hanover': ['New Hampshire'],\n",
    "\n",
    "'Chicago': ['Illinois'],'Boston': ['Massachusetts'],\n",
    "\n",
    "'Peoria': ['Illinois'],'Concord': ['New Hampshire','Massachusetts'],\n",
    "\n",
    "'Springfield': ['Massachusetts', 'Illinois'] }\n",
    "\n",
    "Function Name : city_with_states Input : dict Output : dict\n"
   ]
  },
  {
   "cell_type": "code",
   "execution_count": 1,
   "metadata": {},
   "outputs": [
    {
     "name": "stdout",
     "output_type": "stream",
     "text": [
      "Output : {'Concord': ['New Hampshire', 'Massachusetts'], 'Hanover': ['New Hampshire'], 'Boston': ['Massachusetts'], 'Springfield': ['Massachusetts', 'Illinois'], 'Chicago': ['Illinois'], 'Peoria': ['Illinois']}\n"
     ]
    }
   ],
   "source": [
    "def city_with_states(states):\n",
    "    cities = {}\n",
    "    for k , v in states.items():\n",
    "        for i in range(len(v)):\n",
    "            cities.setdefault(v[i] ,[])\n",
    "            \n",
    "    for k , v in cities.items(): \n",
    "        for k1 , v1 in states.items():\n",
    "            if k in v1:\n",
    "                v.append(k1)\n",
    "        \n",
    "    return cities\n",
    "\n",
    "states = {'New Hampshire': ['Concord', 'Hanover'],\n",
    "            'Massachusetts': ['Boston', 'Concord', 'Springfield'],\n",
    "            'Illinois': ['Chicago', 'Springfield', 'Peoria'] }\n",
    "print(\"Output :\",city_with_states(states))"
   ]
  },
  {
   "cell_type": "markdown",
   "metadata": {},
   "source": [
    "\n",
    "\n",
    "4.How do you check if a given String contains valid parentheses? Given a string containing just the characters '(', ')', '{', '}', '[' and ']', write a program in python to check if the input string is valid. The brackets must close in the correct order, \"()\" and \"()[]{}\" are all valid but \"(]\" and \"([)]\" are not.\n",
    "\n",
    "Function Name : check_parentheses Input : str Output : True/False\n"
   ]
  },
  {
   "cell_type": "code",
   "execution_count": 5,
   "metadata": {},
   "outputs": [
    {
     "name": "stdout",
     "output_type": "stream",
     "text": [
      "()[] : True\n",
      "([)] : False\n",
      "()[]{} : True\n",
      "(] : False\n",
      "Input str :([]{[()]})\n",
      "output : True\n"
     ]
    }
   ],
   "source": [
    "def check_parentheses(s):\n",
    "    \n",
    "    if len(s) % 2 == 0:\n",
    "        l = []\n",
    "        \n",
    "        for i,v in enumerate(s):\n",
    "            \n",
    "            if v in \"({[\":\n",
    "                l.append(v)\n",
    "                \n",
    "            elif v in \")}]\":\n",
    "                \n",
    "                if v == \")\" and l[-1] == \"(\":\n",
    "                    l.pop(-1)\n",
    "                elif v == \"}\" and l[-1] == \"{\":\n",
    "                    l.pop(-1)\n",
    "                elif v == \"]\" and l[-1] == \"[\":\n",
    "                    l.pop(-1)\n",
    "        \n",
    "        if l == []:\n",
    "            return True\n",
    "        else:\n",
    "            return False\n",
    "    else:\n",
    "        return False\n",
    "    \n",
    "print(\"()[] :\",check_parentheses(\"()[]\"))\n",
    "print(\"([)] :\",check_parentheses(\"([)]\"))\n",
    "print(\"()[]{} :\",check_parentheses(\"()[]{}\"))\n",
    "print(\"(] :\",check_parentheses(\"(]\"))\n",
    "print(\"output :\",check_parentheses(input(\"Input str :\")))"
   ]
  },
  {
   "cell_type": "markdown",
   "metadata": {},
   "source": [
    "\n",
    "\n",
    "5.Write a program to convert Integer to Roman String. For example, if a given integer is 5 then your program should print \"V\".\n",
    "\n",
    "Function Name : int_roman Input : int Output : str\n"
   ]
  },
  {
   "cell_type": "code",
   "execution_count": 4,
   "metadata": {},
   "outputs": [
    {
     "name": "stdout",
     "output_type": "stream",
     "text": [
      "Enter a No. to convert :75\n",
      "Output : LXXV\n"
     ]
    }
   ],
   "source": [
    "d = {1:'I',2:'II',3:'III',4:'IV',5:'V',6:'VI',\n",
    "     7:'VII',8:'VIII',9:'IX',10:'X',50:'L',100:'C'}\n",
    "\n",
    "def int_roman(n):\n",
    "    str = \"\"\n",
    "    if n in d.keys():\n",
    "        str = d[n]\n",
    "    else:\n",
    "        while(n > 0):\n",
    "            r = n % 10\n",
    "\n",
    "            if r == 0:\n",
    "                if n // 10 == 4:\n",
    "                    str = d[10] + d[50] + str\n",
    "                    break\n",
    "                elif n > 50 and n < 90:\n",
    "                    n = n - 50\n",
    "                    str = d[50] + (d[10] * (n // 10)) + str\n",
    "                    break\n",
    "                elif n // 10 == 9:\n",
    "                    str = d[10] + d[100] + str\n",
    "                    break\n",
    "                else:\n",
    "                    str = (d[10] * (n // 10)) + str\n",
    "                    break\n",
    "            else:\n",
    "                str = d[r] + str\n",
    "                n = n - r\n",
    "                \n",
    "    \n",
    "    return str\n",
    "\n",
    "print(\"Output :\",int_roman(int(input(\"Enter a No. to convert :\"))))\n"
   ]
  },
  {
   "cell_type": "markdown",
   "metadata": {},
   "source": [
    "\n",
    "\n",
    "6.Write a program utility that counts the number of lines of actual python code in a. For the purpose of this exercise, a line is counted if it contains something other than whitespace or text in a comment.\n",
    "\n",
    "remember that comment start sequences that appear inside python strings should be ignored.\n",
    "\n",
    "Function Name : count_code_lines Input : str Output : int\n"
   ]
  },
  {
   "cell_type": "code",
   "execution_count": 3,
   "metadata": {},
   "outputs": [
    {
     "name": "stdout",
     "output_type": "stream",
     "text": [
      "No. of lines of Python Code : 10\n"
     ]
    }
   ],
   "source": [
    "def count_code_lines(str):\n",
    "    import re\n",
    "    lines = str.split(\"\\n\")\n",
    "    r = re.compile(\"^#\")\n",
    "\n",
    "    count = 0\n",
    "    for line in lines:\n",
    "        if re.findall(r,line) == [] and line != '':\n",
    "            count += 1\n",
    "    return count\n",
    "\n",
    "input_code = \"\"\"\n",
    "#Linear search implementation\n",
    "#Takes list and a key as input and returns True or False as answer\n",
    "def linear_saerch(l,key):\n",
    "    for value in l:\n",
    "        if key == value:\n",
    "            return True #Return True is key exist\n",
    "    else:\n",
    "        return False #Return False if key does not exist\n",
    "\n",
    "l = [100,200,300,400,500,600]\n",
    "key = 500\n",
    "result = linear_search(l,key)\n",
    "print(result)\n",
    "\"\"\"\n",
    "print(\"No. of lines of Python Code :\",count_code_lines(input_code)) \n"
   ]
  },
  {
   "cell_type": "markdown",
   "metadata": {},
   "source": [
    "\n",
    "\n",
    "7.Write a program to check the strength of a supplied password\n",
    "\n",
    "The length of the password must be at least 8 characters in length The password must contain at least 1 capital letter The password must contain at least 1 digit The password must contain at least 1 special character and allowed special characters are (!,@,#,$,&)\n",
    "\n",
    "We need to provide feedback to the user about the strength of their password\n",
    "\n",
    "Provide the user with a list of reasons why their password is 'weak'\n",
    "Function Name : check_password_strength Input : str Output : tuple (str,list) eg (\"Weak\",[\"The password must contain at least 1 capital letter\"])\n"
   ]
  },
  {
   "cell_type": "code",
   "execution_count": 4,
   "metadata": {},
   "outputs": [
    {
     "name": "stdout",
     "output_type": "stream",
     "text": [
      "cb1sef$A  : ('Strong', ['The perfact password.'])\n",
      "Acb1!se  : ('Weak', ['The password lenght must be at least 8.'])\n",
      "Acb@#sef  : ('Weak', ['The password must contain at least 1 digit.'])\n",
      "acb1$sef  : ('Weak', ['The password must contain at least 1 capital .'])\n",
      "Acb1sef1  : ('Weak', ['The password must contain at least 1 Special Character.'])\n"
     ]
    }
   ],
   "source": [
    "import re\n",
    "def check_password_strength(str):\n",
    "    r1= re.compile(\"[!,@,#,$,&]\")\n",
    "    r2 = re.compile(\"[A-Z]\")\n",
    "    r3 = re.compile(\"[0-9]\")\n",
    "    if len(str) >= 8:\n",
    "        if re.findall(r1 , str) != [] :\n",
    "            if re.findall(r2 , str) != []:\n",
    "                if re.findall(r3 , str) != []:\n",
    "                    return (\"Strong\",[\"The perfact password.\"])\n",
    "                else:\n",
    "                    return (\"Weak\",[\"The password must contain at least 1 digit.\"])\n",
    "            else:\n",
    "                return (\"Weak\",[\"The password must contain at least 1 capital .\"])\n",
    "        else:\n",
    "            return (\"Weak\",[\"The password must contain at least 1 Special Character.\"])\n",
    "    else:\n",
    "        return (\"Weak\",[\"The password lenght must be at least 8.\"])\n",
    "    \n",
    "    \n",
    "passwords = ['cb1sef$A' ,'Acb1!se' ,'Acb@#sef','acb1$sef','Acb1sef1']\n",
    "for password in passwords:\n",
    "    print( password,\" :\",check_password_strength(password))\n",
    "    "
   ]
  },
  {
   "cell_type": "markdown",
   "metadata": {},
   "source": [
    "\n",
    "\n",
    "8.Check if given sentence is syntactically correct or not\n",
    "\n",
    "A simple sentence if syntactically correct if it fulfills given rules. The following are given rules.\n",
    "\n",
    "    Sentence must start with a Uppercase character (e.g. Noun/ I/ We/ He etc.)\n",
    "    There must be spaces between words.\n",
    "    Then the sentence must end with a full stop(.).\n",
    "    Two continuous spaces are not allowed.\n",
    "    Two continuous uppercase characters are not allowed.\n",
    "    However the sentence can end after an uppercase character.\n",
    "\n",
    "Function Name : check_sentence Input : str Output : tuple (True/False,list) eg (False,[\"There must be spaces between words.\"])\n"
   ]
  },
  {
   "cell_type": "code",
   "execution_count": null,
   "metadata": {},
   "outputs": [],
   "source": [
    "# sir this question is very much confusing for me"
   ]
  },
  {
   "cell_type": "markdown",
   "metadata": {},
   "source": [
    "\n",
    "\n",
    "9.Given an array arr[] of integers and an integer K, the task is to find the greatest contiguous sub-array of size K.\n",
    "\n",
    "Sub-array X is said to be greater than sub-array Y if the first non-matching element in both the sub-arrays has a greater value in X than in Y.\n",
    "\n",
    "For example : Input: arr[] = {1, 4, 3, 2, 5}, K = 4 Output: 4 3 2 5 Two subarrays are {1, 4, 3, 2} and {4, 3, 2, 5}. First non-matching element from array1 and array 2 : 1 and 4 as 4 is greater Hence, the greater one is {4, 3, 2, 5}\n",
    "\n",
    "Function Name : greatest_sub_array() Input : list Output : list\n"
   ]
  },
  {
   "cell_type": "code",
   "execution_count": 16,
   "metadata": {},
   "outputs": [
    {
     "name": "stdout",
     "output_type": "stream",
     "text": [
      "From [1, 4, 3, 2, 5, 6] the greatest subList is [4, 3, 2, 5]\n",
      "From [1, 4, 3, 2, 5, 6] the greatest subList is [4, 3, 2]\n",
      "From [1, 4, 3, 2, 5, 6] the greatest subList is [5, 6]\n"
     ]
    }
   ],
   "source": [
    "def greatest_sub_array(l , k):\n",
    "    list_of_sublists = []\n",
    "    for i in range(len(l)):\n",
    "        if len(l[i:i+k]) == k:\n",
    "            list_of_sublists.append(l[i:i+k])\n",
    "        else:\n",
    "            break\n",
    "    max = list_of_sublists[0]\n",
    "    for i in list_of_sublists:\n",
    "        if max[0] < i[0] :\n",
    "            max = i\n",
    "    return \"From {} the greatest subList is {}\".format(l , max)\n",
    "\n",
    "print(greatest_sub_array([1,4,3,2,5,6] ,4))\n",
    "print(greatest_sub_array([1,4,3,2,5,6] ,3))\n",
    "print(greatest_sub_array([1,4,3,2,5,6] ,2))"
   ]
  },
  {
   "cell_type": "markdown",
   "metadata": {},
   "source": [
    "\n",
    "\n",
    "10.Given a list of N integers. The task is to eliminate the minimum number of elements such that in the resulting list the sum of any two adjacent values is even.\n",
    "\n",
    "Numbers = [1, 3, 5, 4, 2] Output = [1, 3, 5] Total elements removed 2 Elements to be removed [4,2]\n",
    "\n",
    "Function Name : adj_sum_even() Input : list Output : tuple(int,list)\n"
   ]
  },
  {
   "cell_type": "code",
   "execution_count": 2,
   "metadata": {},
   "outputs": [
    {
     "name": "stdout",
     "output_type": "stream",
     "text": [
      "(2, [1, 3, 5])\n",
      "(2, [4, 2, 6, 8])\n",
      "(3, [2, 6, 8])\n"
     ]
    }
   ],
   "source": [
    "def adj_sum_even(l):\n",
    "    even_nums = []\n",
    "    odd_nums = []\n",
    "    for i in l:\n",
    "        \n",
    "        if i % 2 == 0:\n",
    "            even_nums.append(i)\n",
    "        else :\n",
    "            odd_nums.append(i)\n",
    "    \n",
    "    if len(odd_nums) > len(even_nums):\n",
    "        return (len(even_nums) , odd_nums)\n",
    "    elif len(odd_nums) == len(even_nums):\n",
    "        return (len(even_nums) ,max(odd_nums ,even_nums))\n",
    "    else:\n",
    "        return (len(odd_nums) , even_nums)\n",
    "\n",
    "print(adj_sum_even([1, 3, 5, 4, 2]))\n",
    "print(adj_sum_even([4, 3, 2, 1, 6, 8]))\n",
    "print(adj_sum_even([1, 3, 5, 2, 6, 8]))\n"
   ]
  },
  {
   "cell_type": "code",
   "execution_count": null,
   "metadata": {},
   "outputs": [],
   "source": []
  }
 ],
 "metadata": {
  "kernelspec": {
   "display_name": "Python 3",
   "language": "python",
   "name": "python3"
  },
  "language_info": {
   "codemirror_mode": {
    "name": "ipython",
    "version": 3
   },
   "file_extension": ".py",
   "mimetype": "text/x-python",
   "name": "python",
   "nbconvert_exporter": "python",
   "pygments_lexer": "ipython3",
   "version": "3.7.0"
  }
 },
 "nbformat": 4,
 "nbformat_minor": 2
}
