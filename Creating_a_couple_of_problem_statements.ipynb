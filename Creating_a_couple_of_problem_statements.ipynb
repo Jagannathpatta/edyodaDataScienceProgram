{
  "nbformat": 4,
  "nbformat_minor": 0,
  "metadata": {
    "colab": {
      "name": "Creating a couple of problem statements.ipynb",
      "provenance": [],
      "collapsed_sections": []
    },
    "kernelspec": {
      "name": "python3",
      "display_name": "Python 3"
    }
  },
  "cells": [
    {
      "cell_type": "markdown",
      "metadata": {
        "id": "lA6pKeV4xEdd",
        "colab_type": "text"
      },
      "source": [
        "# **Creating a couple of problem statements**"
      ]
    },
    {
      "cell_type": "markdown",
      "metadata": {
        "id": "OqwcGGR44I0O",
        "colab_type": "text"
      },
      "source": [
        "## **Ford GoBike Data (formerly Bay Area Bike Share Data)**"
      ]
    },
    {
      "cell_type": "markdown",
      "metadata": {
        "id": "eOMXjWH-4ZCD",
        "colab_type": "text"
      },
      "source": [
        "Each trip is anonymized and includes:\n",
        "\n",
        "* Trip Duration (seconds)\n",
        "* Start Time and Date\n",
        "* End Time and Date\n",
        "* Start Station ID\n",
        "* Start Station Name\n",
        "* Start Station Latitude\n",
        "* Start Station Longitude\n",
        "* End Station ID\n",
        "* End Station Name\n",
        "* End Station Latitude\n",
        "* End Station Longitude\n",
        "* Bike ID\n",
        "* User Type (Subscriber or Customer – “Subscriber” = Member or “Customer” = Casual)"
      ]
    },
    {
      "cell_type": "code",
      "metadata": {
        "id": "3mc4AjSn4WwJ",
        "colab_type": "code",
        "colab": {
          "resources": {
            "http://localhost:8080/nbextensions/google.colab/files.js": {
              "data": "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",
              "ok": true,
              "headers": [
                [
                  "content-type",
                  "application/javascript"
                ]
              ],
              "status": 200,
              "status_text": ""
            }
          },
          "base_uri": "https://localhost:8080/",
          "height": 75
        },
        "outputId": "863d3640-656e-4ab1-d406-08e2f4492a0a"
      },
      "source": [
        "from google.colab import files\n",
        "uploaded = files.upload()"
      ],
      "execution_count": 1,
      "outputs": [
        {
          "output_type": "display_data",
          "data": {
            "text/html": [
              "\n",
              "     <input type=\"file\" id=\"files-463c5e5c-e31e-4117-a3bf-2a56bec693dc\" name=\"files[]\" multiple disabled />\n",
              "     <output id=\"result-463c5e5c-e31e-4117-a3bf-2a56bec693dc\">\n",
              "      Upload widget is only available when the cell has been executed in the\n",
              "      current browser session. Please rerun this cell to enable.\n",
              "      </output>\n",
              "      <script src=\"/nbextensions/google.colab/files.js\"></script> "
            ],
            "text/plain": [
              "<IPython.core.display.HTML object>"
            ]
          },
          "metadata": {
            "tags": []
          }
        },
        {
          "output_type": "stream",
          "text": [
            "Saving 2017-fordgobike-tripdata.csv to 2017-fordgobike-tripdata.csv\n"
          ],
          "name": "stdout"
        }
      ]
    },
    {
      "cell_type": "code",
      "metadata": {
        "id": "n68KSRv2_S58",
        "colab_type": "code",
        "colab": {}
      },
      "source": [
        "import pandas as pd\n",
        "import numpy as np"
      ],
      "execution_count": 0,
      "outputs": []
    },
    {
      "cell_type": "code",
      "metadata": {
        "id": "5N9wxbuW_ay3",
        "colab_type": "code",
        "colab": {
          "base_uri": "https://localhost:8080/",
          "height": 378
        },
        "outputId": "749c4de9-7384-48ca-edb9-34334e77f45d"
      },
      "source": [
        "data = pd.read_csv('2017-fordgobike-tripdata.csv')\n",
        "data.head()"
      ],
      "execution_count": 3,
      "outputs": [
        {
          "output_type": "execute_result",
          "data": {
            "text/html": [
              "<div>\n",
              "<style scoped>\n",
              "    .dataframe tbody tr th:only-of-type {\n",
              "        vertical-align: middle;\n",
              "    }\n",
              "\n",
              "    .dataframe tbody tr th {\n",
              "        vertical-align: top;\n",
              "    }\n",
              "\n",
              "    .dataframe thead th {\n",
              "        text-align: right;\n",
              "    }\n",
              "</style>\n",
              "<table border=\"1\" class=\"dataframe\">\n",
              "  <thead>\n",
              "    <tr style=\"text-align: right;\">\n",
              "      <th></th>\n",
              "      <th>duration_sec</th>\n",
              "      <th>start_time</th>\n",
              "      <th>end_time</th>\n",
              "      <th>start_station_id</th>\n",
              "      <th>start_station_name</th>\n",
              "      <th>start_station_latitude</th>\n",
              "      <th>start_station_longitude</th>\n",
              "      <th>end_station_id</th>\n",
              "      <th>end_station_name</th>\n",
              "      <th>end_station_latitude</th>\n",
              "      <th>end_station_longitude</th>\n",
              "      <th>bike_id</th>\n",
              "      <th>user_type</th>\n",
              "    </tr>\n",
              "  </thead>\n",
              "  <tbody>\n",
              "    <tr>\n",
              "      <th>0</th>\n",
              "      <td>80110</td>\n",
              "      <td>2017-12-31 16:57:39.6540</td>\n",
              "      <td>2018-01-01 15:12:50.2450</td>\n",
              "      <td>74</td>\n",
              "      <td>Laguna St at Hayes St</td>\n",
              "      <td>37.776435</td>\n",
              "      <td>-122.426244</td>\n",
              "      <td>43</td>\n",
              "      <td>San Francisco Public Library (Grove St at Hyde...</td>\n",
              "      <td>37.778768</td>\n",
              "      <td>-122.415929</td>\n",
              "      <td>96</td>\n",
              "      <td>Customer</td>\n",
              "    </tr>\n",
              "    <tr>\n",
              "      <th>1</th>\n",
              "      <td>78800</td>\n",
              "      <td>2017-12-31 15:56:34.8420</td>\n",
              "      <td>2018-01-01 13:49:55.6170</td>\n",
              "      <td>284</td>\n",
              "      <td>Yerba Buena Center for the Arts (Howard St at ...</td>\n",
              "      <td>37.784872</td>\n",
              "      <td>-122.400876</td>\n",
              "      <td>96</td>\n",
              "      <td>Dolores St at 15th St</td>\n",
              "      <td>37.766210</td>\n",
              "      <td>-122.426614</td>\n",
              "      <td>88</td>\n",
              "      <td>Customer</td>\n",
              "    </tr>\n",
              "    <tr>\n",
              "      <th>2</th>\n",
              "      <td>45768</td>\n",
              "      <td>2017-12-31 22:45:48.4110</td>\n",
              "      <td>2018-01-01 11:28:36.8830</td>\n",
              "      <td>245</td>\n",
              "      <td>Downtown Berkeley BART</td>\n",
              "      <td>37.870348</td>\n",
              "      <td>-122.267764</td>\n",
              "      <td>245</td>\n",
              "      <td>Downtown Berkeley BART</td>\n",
              "      <td>37.870348</td>\n",
              "      <td>-122.267764</td>\n",
              "      <td>1094</td>\n",
              "      <td>Customer</td>\n",
              "    </tr>\n",
              "    <tr>\n",
              "      <th>3</th>\n",
              "      <td>62172</td>\n",
              "      <td>2017-12-31 17:31:10.6360</td>\n",
              "      <td>2018-01-01 10:47:23.5310</td>\n",
              "      <td>60</td>\n",
              "      <td>8th St at Ringold St</td>\n",
              "      <td>37.774520</td>\n",
              "      <td>-122.409449</td>\n",
              "      <td>5</td>\n",
              "      <td>Powell St BART Station (Market St at 5th St)</td>\n",
              "      <td>37.783899</td>\n",
              "      <td>-122.408445</td>\n",
              "      <td>2831</td>\n",
              "      <td>Customer</td>\n",
              "    </tr>\n",
              "    <tr>\n",
              "      <th>4</th>\n",
              "      <td>43603</td>\n",
              "      <td>2017-12-31 14:23:14.0010</td>\n",
              "      <td>2018-01-01 02:29:57.5710</td>\n",
              "      <td>239</td>\n",
              "      <td>Bancroft Way at Telegraph Ave</td>\n",
              "      <td>37.868813</td>\n",
              "      <td>-122.258764</td>\n",
              "      <td>247</td>\n",
              "      <td>Fulton St at Bancroft Way</td>\n",
              "      <td>37.867789</td>\n",
              "      <td>-122.265896</td>\n",
              "      <td>3167</td>\n",
              "      <td>Subscriber</td>\n",
              "    </tr>\n",
              "  </tbody>\n",
              "</table>\n",
              "</div>"
            ],
            "text/plain": [
              "   duration_sec                start_time  ... bike_id   user_type\n",
              "0         80110  2017-12-31 16:57:39.6540  ...      96    Customer\n",
              "1         78800  2017-12-31 15:56:34.8420  ...      88    Customer\n",
              "2         45768  2017-12-31 22:45:48.4110  ...    1094    Customer\n",
              "3         62172  2017-12-31 17:31:10.6360  ...    2831    Customer\n",
              "4         43603  2017-12-31 14:23:14.0010  ...    3167  Subscriber\n",
              "\n",
              "[5 rows x 13 columns]"
            ]
          },
          "metadata": {
            "tags": []
          },
          "execution_count": 3
        }
      ]
    },
    {
      "cell_type": "markdown",
      "metadata": {
        "id": "8DOJD5ZrPuK5",
        "colab_type": "text"
      },
      "source": [
        "# **Assumption made Before touching data.**\n",
        "\n",
        "* By using **Start Station Name** col we can get : \n",
        "  * From where the large no. bikes get rented, using this info. \n",
        "    * we can raise the charges upto very small amount and can get some profit.\n",
        "\n",
        "* By using **Start Station Name** col and **End Station Name** we can get : \n",
        "  * The **most preffered roots** of our members, using this info. \n",
        "      * we start cab services on that root.\n",
        "      * if the large no. of members use bike on same time that we can get from Start Time and Date col.\n",
        "\n",
        "  * The **least preffered roots** of our members, using this info. \n",
        "      * we can lonch special offers on that roots.\n",
        "      * Advertisment Holdings on those roots (Because the this might be possible that most general public that travelles from that root might not know about our services.)\n",
        "      * Can arrange cycling events \n",
        "\n",
        "* By using **duration_sec** col we can get :\n",
        "  * The **mode duration_sec** as the electric bikes are charged on the time basis, we will set a time bar just little above the mode time and give offers or promocodes.\n",
        "  * By looking at the first 5 records of data i.e. duration_sec is nearly or above 50000 sec which is 13 hours approx, which we can think them as tracking or picnic trips and can **start car rental** for comfortable journy. \n"
      ]
    },
    {
      "cell_type": "markdown",
      "metadata": {
        "id": "qMpEEegqRIhG",
        "colab_type": "text"
      },
      "source": [
        "<hr>\n",
        "\n",
        "# **Analysing Data**"
      ]
    },
    {
      "cell_type": "code",
      "metadata": {
        "id": "psu3ytokE7NS",
        "colab_type": "code",
        "colab": {
          "base_uri": "https://localhost:8080/",
          "height": 364
        },
        "outputId": "d1c058e1-d063-4ad7-9583-4bcd6a88b13a"
      },
      "source": [
        "data.info()"
      ],
      "execution_count": 4,
      "outputs": [
        {
          "output_type": "stream",
          "text": [
            "<class 'pandas.core.frame.DataFrame'>\n",
            "RangeIndex: 519700 entries, 0 to 519699\n",
            "Data columns (total 13 columns):\n",
            " #   Column                   Non-Null Count   Dtype  \n",
            "---  ------                   --------------   -----  \n",
            " 0   duration_sec             519700 non-null  int64  \n",
            " 1   start_time               519700 non-null  object \n",
            " 2   end_time                 519700 non-null  object \n",
            " 3   start_station_id         519700 non-null  int64  \n",
            " 4   start_station_name       519700 non-null  object \n",
            " 5   start_station_latitude   519700 non-null  float64\n",
            " 6   start_station_longitude  519700 non-null  float64\n",
            " 7   end_station_id           519700 non-null  int64  \n",
            " 8   end_station_name         519700 non-null  object \n",
            " 9   end_station_latitude     519700 non-null  float64\n",
            " 10  end_station_longitude    519700 non-null  float64\n",
            " 11  bike_id                  519700 non-null  int64  \n",
            " 12  user_type                519700 non-null  object \n",
            "dtypes: float64(4), int64(4), object(5)\n",
            "memory usage: 51.5+ MB\n"
          ],
          "name": "stdout"
        }
      ]
    },
    {
      "cell_type": "markdown",
      "metadata": {
        "id": "nypGsW3pRYuk",
        "colab_type": "text"
      },
      "source": [
        "* converting date columns to date time."
      ]
    },
    {
      "cell_type": "code",
      "metadata": {
        "id": "M-Bo_8UgFceJ",
        "colab_type": "code",
        "colab": {}
      },
      "source": [
        "data['start_time'] = pd.to_datetime(data['start_time'])"
      ],
      "execution_count": 0,
      "outputs": []
    },
    {
      "cell_type": "code",
      "metadata": {
        "id": "HYN4SZq5FsRU",
        "colab_type": "code",
        "colab": {}
      },
      "source": [
        "data['end_time'] = pd.to_datetime(data['end_time'])"
      ],
      "execution_count": 0,
      "outputs": []
    },
    {
      "cell_type": "code",
      "metadata": {
        "id": "Awaud7rdFzvL",
        "colab_type": "code",
        "colab": {
          "base_uri": "https://localhost:8080/",
          "height": 364
        },
        "outputId": "3d237f77-78a6-4374-97de-1b7289ddd48f"
      },
      "source": [
        "data.info()"
      ],
      "execution_count": 8,
      "outputs": [
        {
          "output_type": "stream",
          "text": [
            "<class 'pandas.core.frame.DataFrame'>\n",
            "RangeIndex: 519700 entries, 0 to 519699\n",
            "Data columns (total 13 columns):\n",
            " #   Column                   Non-Null Count   Dtype         \n",
            "---  ------                   --------------   -----         \n",
            " 0   duration_sec             519700 non-null  int64         \n",
            " 1   start_time               519700 non-null  datetime64[ns]\n",
            " 2   end_time                 519700 non-null  datetime64[ns]\n",
            " 3   start_station_id         519700 non-null  int64         \n",
            " 4   start_station_name       519700 non-null  object        \n",
            " 5   start_station_latitude   519700 non-null  float64       \n",
            " 6   start_station_longitude  519700 non-null  float64       \n",
            " 7   end_station_id           519700 non-null  int64         \n",
            " 8   end_station_name         519700 non-null  object        \n",
            " 9   end_station_latitude     519700 non-null  float64       \n",
            " 10  end_station_longitude    519700 non-null  float64       \n",
            " 11  bike_id                  519700 non-null  int64         \n",
            " 12  user_type                519700 non-null  object        \n",
            "dtypes: datetime64[ns](2), float64(4), int64(4), object(3)\n",
            "memory usage: 51.5+ MB\n"
          ],
          "name": "stdout"
        }
      ]
    },
    {
      "cell_type": "markdown",
      "metadata": {
        "id": "QPmFnh56Rg-h",
        "colab_type": "text"
      },
      "source": [
        "### **Sorting the Data on Date col so we can get the time range of data.**"
      ]
    },
    {
      "cell_type": "code",
      "metadata": {
        "id": "v_rKim9YGUmv",
        "colab_type": "code",
        "colab": {
          "base_uri": "https://localhost:8080/",
          "height": 643
        },
        "outputId": "94d14432-b18d-4f30-c875-9bf64026816c"
      },
      "source": [
        "data.sort_values(by='start_time',ascending=True)"
      ],
      "execution_count": 9,
      "outputs": [
        {
          "output_type": "execute_result",
          "data": {
            "text/html": [
              "<div>\n",
              "<style scoped>\n",
              "    .dataframe tbody tr th:only-of-type {\n",
              "        vertical-align: middle;\n",
              "    }\n",
              "\n",
              "    .dataframe tbody tr th {\n",
              "        vertical-align: top;\n",
              "    }\n",
              "\n",
              "    .dataframe thead th {\n",
              "        text-align: right;\n",
              "    }\n",
              "</style>\n",
              "<table border=\"1\" class=\"dataframe\">\n",
              "  <thead>\n",
              "    <tr style=\"text-align: right;\">\n",
              "      <th></th>\n",
              "      <th>duration_sec</th>\n",
              "      <th>start_time</th>\n",
              "      <th>end_time</th>\n",
              "      <th>start_station_id</th>\n",
              "      <th>start_station_name</th>\n",
              "      <th>start_station_latitude</th>\n",
              "      <th>start_station_longitude</th>\n",
              "      <th>end_station_id</th>\n",
              "      <th>end_station_name</th>\n",
              "      <th>end_station_latitude</th>\n",
              "      <th>end_station_longitude</th>\n",
              "      <th>bike_id</th>\n",
              "      <th>user_type</th>\n",
              "    </tr>\n",
              "  </thead>\n",
              "  <tbody>\n",
              "    <tr>\n",
              "      <th>519697</th>\n",
              "      <td>424</td>\n",
              "      <td>2017-06-28 09:47:36.347</td>\n",
              "      <td>2017-06-28 09:54:41.187</td>\n",
              "      <td>21</td>\n",
              "      <td>Montgomery St BART Station (Market St at 2nd St)</td>\n",
              "      <td>37.789625</td>\n",
              "      <td>-122.400811</td>\n",
              "      <td>48</td>\n",
              "      <td>2nd St at S Park St</td>\n",
              "      <td>37.782411</td>\n",
              "      <td>-122.392706</td>\n",
              "      <td>240</td>\n",
              "      <td>Subscriber</td>\n",
              "    </tr>\n",
              "    <tr>\n",
              "      <th>519698</th>\n",
              "      <td>366</td>\n",
              "      <td>2017-06-28 09:47:41.664</td>\n",
              "      <td>2017-06-28 09:53:47.715</td>\n",
              "      <td>58</td>\n",
              "      <td>Market St at 10th St</td>\n",
              "      <td>37.776619</td>\n",
              "      <td>-122.417385</td>\n",
              "      <td>59</td>\n",
              "      <td>S Van Ness Ave at Market St</td>\n",
              "      <td>37.774814</td>\n",
              "      <td>-122.418954</td>\n",
              "      <td>669</td>\n",
              "      <td>Subscriber</td>\n",
              "    </tr>\n",
              "    <tr>\n",
              "      <th>519699</th>\n",
              "      <td>188</td>\n",
              "      <td>2017-06-28 09:49:46.377</td>\n",
              "      <td>2017-06-28 09:52:55.338</td>\n",
              "      <td>25</td>\n",
              "      <td>Howard St at 2nd St</td>\n",
              "      <td>37.787522</td>\n",
              "      <td>-122.397405</td>\n",
              "      <td>48</td>\n",
              "      <td>2nd St at S Park St</td>\n",
              "      <td>37.782411</td>\n",
              "      <td>-122.392706</td>\n",
              "      <td>117</td>\n",
              "      <td>Subscriber</td>\n",
              "    </tr>\n",
              "    <tr>\n",
              "      <th>519692</th>\n",
              "      <td>1201</td>\n",
              "      <td>2017-06-28 09:50:59.175</td>\n",
              "      <td>2017-06-28 10:11:00.359</td>\n",
              "      <td>81</td>\n",
              "      <td>Berry St at 4th St</td>\n",
              "      <td>37.775880</td>\n",
              "      <td>-122.393170</td>\n",
              "      <td>9</td>\n",
              "      <td>Broadway at Battery St</td>\n",
              "      <td>37.798572</td>\n",
              "      <td>-122.400869</td>\n",
              "      <td>77</td>\n",
              "      <td>Subscriber</td>\n",
              "    </tr>\n",
              "    <tr>\n",
              "      <th>519696</th>\n",
              "      <td>431</td>\n",
              "      <td>2017-06-28 09:56:39.631</td>\n",
              "      <td>2017-06-28 10:03:51.090</td>\n",
              "      <td>66</td>\n",
              "      <td>3rd St at Townsend St</td>\n",
              "      <td>37.778742</td>\n",
              "      <td>-122.392741</td>\n",
              "      <td>321</td>\n",
              "      <td>5th at Folsom</td>\n",
              "      <td>37.780146</td>\n",
              "      <td>-122.403071</td>\n",
              "      <td>316</td>\n",
              "      <td>Subscriber</td>\n",
              "    </tr>\n",
              "    <tr>\n",
              "      <th>...</th>\n",
              "      <td>...</td>\n",
              "      <td>...</td>\n",
              "      <td>...</td>\n",
              "      <td>...</td>\n",
              "      <td>...</td>\n",
              "      <td>...</td>\n",
              "      <td>...</td>\n",
              "      <td>...</td>\n",
              "      <td>...</td>\n",
              "      <td>...</td>\n",
              "      <td>...</td>\n",
              "      <td>...</td>\n",
              "      <td>...</td>\n",
              "    </tr>\n",
              "    <tr>\n",
              "      <th>15</th>\n",
              "      <td>1544</td>\n",
              "      <td>2017-12-31 23:53:38.943</td>\n",
              "      <td>2018-01-01 00:19:23.047</td>\n",
              "      <td>14</td>\n",
              "      <td>Clay St at Battery St</td>\n",
              "      <td>37.795001</td>\n",
              "      <td>-122.399970</td>\n",
              "      <td>27</td>\n",
              "      <td>Beale St at Harrison St</td>\n",
              "      <td>37.788059</td>\n",
              "      <td>-122.391865</td>\n",
              "      <td>558</td>\n",
              "      <td>Subscriber</td>\n",
              "    </tr>\n",
              "    <tr>\n",
              "      <th>22</th>\n",
              "      <td>422</td>\n",
              "      <td>2017-12-31 23:54:25.337</td>\n",
              "      <td>2018-01-01 00:01:27.354</td>\n",
              "      <td>139</td>\n",
              "      <td>Garfield Square (25th St at Harrison St)</td>\n",
              "      <td>37.751017</td>\n",
              "      <td>-122.411901</td>\n",
              "      <td>99</td>\n",
              "      <td>Folsom St at 15th St</td>\n",
              "      <td>37.767037</td>\n",
              "      <td>-122.415443</td>\n",
              "      <td>2415</td>\n",
              "      <td>Subscriber</td>\n",
              "    </tr>\n",
              "    <tr>\n",
              "      <th>16</th>\n",
              "      <td>1474</td>\n",
              "      <td>2017-12-31 23:54:40.146</td>\n",
              "      <td>2018-01-01 00:19:14.351</td>\n",
              "      <td>14</td>\n",
              "      <td>Clay St at Battery St</td>\n",
              "      <td>37.795001</td>\n",
              "      <td>-122.399970</td>\n",
              "      <td>27</td>\n",
              "      <td>Beale St at Harrison St</td>\n",
              "      <td>37.788059</td>\n",
              "      <td>-122.391865</td>\n",
              "      <td>3646</td>\n",
              "      <td>Subscriber</td>\n",
              "    </tr>\n",
              "    <tr>\n",
              "      <th>17</th>\n",
              "      <td>1397</td>\n",
              "      <td>2017-12-31 23:55:09.686</td>\n",
              "      <td>2018-01-01 00:18:26.721</td>\n",
              "      <td>78</td>\n",
              "      <td>Folsom St at 9th St</td>\n",
              "      <td>37.773717</td>\n",
              "      <td>-122.411647</td>\n",
              "      <td>15</td>\n",
              "      <td>San Francisco Ferry Building (Harry Bridges Pl...</td>\n",
              "      <td>37.795392</td>\n",
              "      <td>-122.394203</td>\n",
              "      <td>1667</td>\n",
              "      <td>Customer</td>\n",
              "    </tr>\n",
              "    <tr>\n",
              "      <th>20</th>\n",
              "      <td>386</td>\n",
              "      <td>2017-12-31 23:59:01.261</td>\n",
              "      <td>2018-01-01 00:05:27.809</td>\n",
              "      <td>317</td>\n",
              "      <td>San Salvador St at 9th St</td>\n",
              "      <td>37.333955</td>\n",
              "      <td>-121.877349</td>\n",
              "      <td>296</td>\n",
              "      <td>5th St at Virginia St</td>\n",
              "      <td>37.325998</td>\n",
              "      <td>-121.877120</td>\n",
              "      <td>1603</td>\n",
              "      <td>Subscriber</td>\n",
              "    </tr>\n",
              "  </tbody>\n",
              "</table>\n",
              "<p>519700 rows × 13 columns</p>\n",
              "</div>"
            ],
            "text/plain": [
              "        duration_sec              start_time  ... bike_id   user_type\n",
              "519697           424 2017-06-28 09:47:36.347  ...     240  Subscriber\n",
              "519698           366 2017-06-28 09:47:41.664  ...     669  Subscriber\n",
              "519699           188 2017-06-28 09:49:46.377  ...     117  Subscriber\n",
              "519692          1201 2017-06-28 09:50:59.175  ...      77  Subscriber\n",
              "519696           431 2017-06-28 09:56:39.631  ...     316  Subscriber\n",
              "...              ...                     ...  ...     ...         ...\n",
              "15              1544 2017-12-31 23:53:38.943  ...     558  Subscriber\n",
              "22               422 2017-12-31 23:54:25.337  ...    2415  Subscriber\n",
              "16              1474 2017-12-31 23:54:40.146  ...    3646  Subscriber\n",
              "17              1397 2017-12-31 23:55:09.686  ...    1667    Customer\n",
              "20               386 2017-12-31 23:59:01.261  ...    1603  Subscriber\n",
              "\n",
              "[519700 rows x 13 columns]"
            ]
          },
          "metadata": {
            "tags": []
          },
          "execution_count": 9
        }
      ]
    },
    {
      "cell_type": "code",
      "metadata": {
        "id": "SGbdSoi4TJFA",
        "colab_type": "code",
        "colab": {
          "base_uri": "https://localhost:8080/",
          "height": 35
        },
        "outputId": "bf7163db-e2cf-44fb-ec1b-c7496761fc27"
      },
      "source": [
        "519700 / 183"
      ],
      "execution_count": 20,
      "outputs": [
        {
          "output_type": "execute_result",
          "data": {
            "text/plain": [
              "2839.8907103825136"
            ]
          },
          "metadata": {
            "tags": []
          },
          "execution_count": 20
        }
      ]
    },
    {
      "cell_type": "markdown",
      "metadata": {
        "id": "unrNdk-RRxca",
        "colab_type": "text"
      },
      "source": [
        "* Conclusion \n",
        "  * Data is of 6 months for end of June 2017 to the end of Dec 2017.(approx ~ 183 days)\n",
        "  * Dividing the no. of records with the no. of days we get 519700 / 183 = (approx~) 2840 rides per day, which is shows business is working good.\n"
      ]
    },
    {
      "cell_type": "code",
      "metadata": {
        "id": "OTUfh8bWhch2",
        "colab_type": "code",
        "colab": {
          "base_uri": "https://localhost:8080/",
          "height": 35
        },
        "outputId": "af9e6312-68a8-47ae-d1a1-0323bc461cdd"
      },
      "source": [
        "data[data.start_time.dt.date == pd.to_datetime('2017-06-30')].bike_id.count()"
      ],
      "execution_count": 65,
      "outputs": [
        {
          "output_type": "execute_result",
          "data": {
            "text/plain": [
              "1038"
            ]
          },
          "metadata": {
            "tags": []
          },
          "execution_count": 65
        }
      ]
    },
    {
      "cell_type": "code",
      "metadata": {
        "id": "qFSeDGh7jdFA",
        "colab_type": "code",
        "colab": {
          "base_uri": "https://localhost:8080/",
          "height": 35
        },
        "outputId": "b375f2a9-12b1-4eed-dbd5-3ad65c5d4970"
      },
      "source": [
        "data[data.start_time.dt.date == pd.to_datetime('2017-07-20')].bike_id.count()"
      ],
      "execution_count": 69,
      "outputs": [
        {
          "output_type": "execute_result",
          "data": {
            "text/plain": [
              "1938"
            ]
          },
          "metadata": {
            "tags": []
          },
          "execution_count": 69
        }
      ]
    },
    {
      "cell_type": "markdown",
      "metadata": {
        "id": "DSTPgxkwcEzr",
        "colab_type": "text"
      },
      "source": [
        "<hr>"
      ]
    },
    {
      "cell_type": "code",
      "metadata": {
        "id": "Ua6Pvr5kGo-W",
        "colab_type": "code",
        "colab": {
          "base_uri": "https://localhost:8080/",
          "height": 69
        },
        "outputId": "421a01ac-bbfc-415c-a113-a4d616f9b842"
      },
      "source": [
        "data.user_type.value_counts()"
      ],
      "execution_count": 10,
      "outputs": [
        {
          "output_type": "execute_result",
          "data": {
            "text/plain": [
              "Subscriber    409230\n",
              "Customer      110470\n",
              "Name: user_type, dtype: int64"
            ]
          },
          "metadata": {
            "tags": []
          },
          "execution_count": 10
        }
      ]
    },
    {
      "cell_type": "markdown",
      "metadata": {
        "id": "5nPkwYsYbpXN",
        "colab_type": "text"
      },
      "source": [
        "* from above we can see that 20% of users are not subscribers. and making them as target."
      ]
    },
    {
      "cell_type": "code",
      "metadata": {
        "id": "fbcxyg1AcD1d",
        "colab_type": "code",
        "colab": {}
      },
      "source": [
        "Customer_data = data[data.user_type == 'Customer']"
      ],
      "execution_count": 0,
      "outputs": []
    },
    {
      "cell_type": "code",
      "metadata": {
        "id": "CpwwzM3JcDxc",
        "colab_type": "code",
        "colab": {
          "base_uri": "https://localhost:8080/",
          "height": 121
        },
        "outputId": "f8c3d952-e6b8-493e-d4ea-0d534214e249"
      },
      "source": [
        "Customer_data.start_station_name.value_counts()[:5]"
      ],
      "execution_count": 83,
      "outputs": [
        {
          "output_type": "execute_result",
          "data": {
            "text/plain": [
              "The Embarcadero at Sansome St                         5864\n",
              "San Francisco Ferry Building (Harry Bridges Plaza)    5210\n",
              "Powell St BART Station (Market St at 4th St)          3174\n",
              "Union Square (Powell St at Post St)                   2133\n",
              "The Embarcadero at Vallejo St                         2098\n",
              "Name: start_station_name, dtype: int64"
            ]
          },
          "metadata": {
            "tags": []
          },
          "execution_count": 83
        }
      ]
    },
    {
      "cell_type": "code",
      "metadata": {
        "id": "uLyRGf3Yc3_F",
        "colab_type": "code",
        "colab": {}
      },
      "source": [
        "top_5Customer_stations = Customer_data.start_station_name.value_counts()[:5].index"
      ],
      "execution_count": 0,
      "outputs": []
    },
    {
      "cell_type": "code",
      "metadata": {
        "id": "LHXlOD8icDq_",
        "colab_type": "code",
        "colab": {}
      },
      "source": [
        "Subscriber_data = data[data.user_type == 'Subscriber']"
      ],
      "execution_count": 0,
      "outputs": []
    },
    {
      "cell_type": "code",
      "metadata": {
        "id": "EJ4q_kZBcsfS",
        "colab_type": "code",
        "colab": {
          "base_uri": "https://localhost:8080/",
          "height": 191
        },
        "outputId": "53b619a7-d8aa-4300-92d7-8dc945a3f49f"
      },
      "source": [
        "for station in top_5Customer_stations:\n",
        "  print(Subscriber_data[Subscriber_data.start_station_name == station].start_station_name.value_counts())"
      ],
      "execution_count": 46,
      "outputs": [
        {
          "output_type": "stream",
          "text": [
            "The Embarcadero at Sansome St    7800\n",
            "Name: start_station_name, dtype: int64\n",
            "San Francisco Ferry Building (Harry Bridges Plaza)    9977\n",
            "Name: start_station_name, dtype: int64\n",
            "Powell St BART Station (Market St at 4th St)    6968\n",
            "Name: start_station_name, dtype: int64\n",
            "Union Square (Powell St at Post St)    3476\n",
            "Name: start_station_name, dtype: int64\n",
            "The Embarcadero at Vallejo St    2171\n",
            "Name: start_station_name, dtype: int64\n"
          ],
          "name": "stdout"
        }
      ]
    },
    {
      "cell_type": "code",
      "metadata": {
        "id": "YhZpyEaKsSto",
        "colab_type": "code",
        "colab": {
          "base_uri": "https://localhost:8080/",
          "height": 592
        },
        "outputId": "242c5381-794c-4025-d936-c30391cba4fb"
      },
      "source": [
        "N = 5\n",
        "counts = [[5864, 5210, 3174, 2133, 2098],\n",
        "[7800, 9977, 6968, 3476, 2171]]\n",
        "ind = np.arange(N) \n",
        "width = 0.35\n",
        "fig = plt.figure()\n",
        "ax = fig.add_axes([0,0,1,1])\n",
        "ax.bar(ind, counts[0], width, color='orange')\n",
        "ax.bar(ind + width , counts[1], width, color='g')\n",
        "ax.set_ylabel('No. of users')\n",
        "ax.set_title('No. of users by stations and user_type')\n",
        "ax.legend(labels=['Customer', 'Subscriber'])\n",
        "plt.xticks(ind, top_5Customer_stations , rotation =90 )\n",
        "plt.show()"
      ],
      "execution_count": 109,
      "outputs": [
        {
          "output_type": "display_data",
          "data": {
            "image/png": "[encoded data removed]",
            "text/plain": [
              "<Figure size 432x288 with 1 Axes>"
            ]
          },
          "metadata": {
            "tags": [],
            "needs_background": "light"
          }
        }
      ]
    },
    {
      "cell_type": "markdown",
      "metadata": {
        "id": "sMz87DXyfXB2",
        "colab_type": "text"
      },
      "source": [
        "* Solution :\n",
        "  * In these 5 locations we can arrange events for Subscribers Only, eventually what happen is that some customes become subscribers.\n",
        "  * Other reason to choose these 5 stations because there is not much difference in count of users that are subscriber and customers.\n"
      ]
    },
    {
      "cell_type": "markdown",
      "metadata": {
        "id": "Di8nnlWYggEg",
        "colab_type": "text"
      },
      "source": [
        "<hr>"
      ]
    },
    {
      "cell_type": "code",
      "metadata": {
        "id": "-mOq-hhTLudU",
        "colab_type": "code",
        "colab": {
          "base_uri": "https://localhost:8080/",
          "height": 173
        },
        "outputId": "6d532fe3-00b8-4505-e5bb-a7aedcb795f6"
      },
      "source": [
        "data.duration_sec.describe()"
      ],
      "execution_count": 12,
      "outputs": [
        {
          "output_type": "execute_result",
          "data": {
            "text/plain": [
              "count    519700.000000\n",
              "mean       1099.009521\n",
              "std        3444.146451\n",
              "min          61.000000\n",
              "25%         382.000000\n",
              "50%         596.000000\n",
              "75%         938.000000\n",
              "max       86369.000000\n",
              "Name: duration_sec, dtype: float64"
            ]
          },
          "metadata": {
            "tags": []
          },
          "execution_count": 12
        }
      ]
    },
    {
      "cell_type": "markdown",
      "metadata": {
        "id": "h2ih-roej12S",
        "colab_type": "text"
      },
      "source": [
        "* from above we get that 75% of rides lasts nearly 15 mins.\n",
        "* this is something that at start we don't know."
      ]
    },
    {
      "cell_type": "code",
      "metadata": {
        "id": "ZXDULr_Hk3CG",
        "colab_type": "code",
        "colab": {}
      },
      "source": [
        "import matplotlib.pyplot as plt"
      ],
      "execution_count": 0,
      "outputs": []
    },
    {
      "cell_type": "code",
      "metadata": {
        "id": "kdDdMXm5k7WS",
        "colab_type": "code",
        "colab": {
          "base_uri": "https://localhost:8080/",
          "height": 297
        },
        "outputId": "99999041-a918-417e-e2b5-0df6a3096abd"
      },
      "source": [
        "plt.scatter( data.index,data.duration_sec , s=0.1)\n",
        "plt.xlabel('Index')\n",
        "plt.ylabel('Duration')"
      ],
      "execution_count": 76,
      "outputs": [
        {
          "output_type": "execute_result",
          "data": {
            "text/plain": [
              "Text(0, 0.5, 'Duration')"
            ]
          },
          "metadata": {
            "tags": []
          },
          "execution_count": 76
        },
        {
          "output_type": "display_data",
          "data": {
            "image/png": "[encoded data removed]",
            "text/plain": [
              "<Figure size 432x288 with 1 Axes>"
            ]
          },
          "metadata": {
            "tags": [],
            "needs_background": "light"
          }
        }
      ]
    },
    {
      "cell_type": "code",
      "metadata": {
        "id": "rAv_FxmTMEcE",
        "colab_type": "code",
        "colab": {
          "base_uri": "https://localhost:8080/",
          "height": 35
        },
        "outputId": "4d949d40-1113-4b33-8753-c3441f57dc33"
      },
      "source": [
        "# trips that take duration more that 25 mins\n",
        "data[data.duration_sec >= 1500].bike_id.count()"
      ],
      "execution_count": 81,
      "outputs": [
        {
          "output_type": "execute_result",
          "data": {
            "text/plain": [
              "52179"
            ]
          },
          "metadata": {
            "tags": []
          },
          "execution_count": 81
        }
      ]
    },
    {
      "cell_type": "markdown",
      "metadata": {
        "id": "yTSPgeHhnf7m",
        "colab_type": "text"
      },
      "source": [
        "* Conclusion:\n",
        "  * Outof 519700 tips only 52179 trips take more that 25 mins,i.e only 10% of trips."
      ]
    },
    {
      "cell_type": "markdown",
      "metadata": {
        "id": "15E9_juPwJzM",
        "colab_type": "text"
      },
      "source": [
        "## **In this notebook we only searched for possible problem statements that can be generated from the data to increase business.**"
      ]
    }
  ]
}