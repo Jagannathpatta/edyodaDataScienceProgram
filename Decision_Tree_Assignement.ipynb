{
  "nbformat": 4,
  "nbformat_minor": 0,
  "metadata": {
    "colab": {
      "name": "Decision Tree Assignement.ipynb",
      "provenance": [],
      "collapsed_sections": []
    },
    "kernelspec": {
      "name": "python3",
      "display_name": "Python 3"
    }
  },
  "cells": [
    {
      "cell_type": "markdown",
      "metadata": {
        "id": "sMHgyN9eLa2K",
        "colab_type": "text"
      },
      "source": [
        "# **Decision Tree Assignement**\n",
        "\n",
        "* Dataset Link - https://archive.ics.uci.edu/ml/datasets/Balloons\n"
      ]
    },
    {
      "cell_type": "markdown",
      "metadata": {
        "id": "p8mBLmcuMlo1",
        "colab_type": "text"
      },
      "source": [
        "## Task 1: Understand the data "
      ]
    },
    {
      "cell_type": "code",
      "metadata": {
        "id": "FhIDPtvUKyy7",
        "colab_type": "code",
        "colab": {}
      },
      "source": [
        "import pandas as pd\n",
        "import numpy as np"
      ],
      "execution_count": 0,
      "outputs": []
    },
    {
      "cell_type": "code",
      "metadata": {
        "id": "b932NqUcOb4j",
        "colab_type": "code",
        "outputId": "d7ebb785-5a2a-4b6b-b3fe-649c564d4e69",
        "colab": {
          "resources": {
            "http://localhost:8080/nbextensions/google.colab/files.js": {
              "data": "Ly8gQ29weXJpZ2h0IDIwMTcgR29vZ2xlIExMQwovLwovLyBMaWNlbnNlZCB1bmRlciB0aGUgQXBhY2hlIExpY2Vuc2UsIFZlcnNpb24gMi4wICh0aGUgIkxpY2Vuc2UiKTsKLy8geW91IG1heSBub3QgdXNlIHRoaXMgZmlsZSBleGNlcHQgaW4gY29tcGxpYW5jZSB3aXRoIHRoZSBMaWNlbnNlLgovLyBZb3UgbWF5IG9idGFpbiBhIGNvcHkgb2YgdGhlIExpY2Vuc2UgYXQKLy8KLy8gICAgICBodHRwOi8vd3d3LmFwYWNoZS5vcmcvbGljZW5zZXMvTElDRU5TRS0yLjAKLy8KLy8gVW5sZXNzIHJlcXVpcmVkIGJ5IGFwcGxpY2FibGUgbGF3IG9yIGFncmVlZCB0byBpbiB3cml0aW5nLCBzb2Z0d2FyZQovLyBkaXN0cmlidXRlZCB1bmRlciB0aGUgTGljZW5zZSBpcyBkaXN0cmlidXRlZCBvbiBhbiAiQVMgSVMiIEJBU0lTLAovLyBXSVRIT1VUIFdBUlJBTlRJRVMgT1IgQ09ORElUSU9OUyBPRiBBTlkgS0lORCwgZWl0aGVyIGV4cHJlc3Mgb3IgaW1wbGllZC4KLy8gU2VlIHRoZSBMaWNlbnNlIGZvciB0aGUgc3BlY2lmaWMgbGFuZ3VhZ2UgZ292ZXJuaW5nIHBlcm1pc3Npb25zIGFuZAovLyBsaW1pdGF0aW9ucyB1bmRlciB0aGUgTGljZW5zZS4KCi8qKgogKiBAZmlsZW92ZXJ2aWV3IEhlbHBlcnMgZm9yIGdvb2dsZS5jb2xhYiBQeXRob24gbW9kdWxlLgogKi8KKGZ1bmN0aW9uKHNjb3BlKSB7CmZ1bmN0aW9uIHNwYW4odGV4dCwgc3R5bGVBdHRyaWJ1dGVzID0ge30pIHsKICBjb25zdCBlbGVtZW50ID0gZG9jdW1lbnQuY3JlYXRlRWxlbWVudCgnc3BhbicpOwogIGVsZW1lbnQudGV4dENvbnRlbnQgPSB0ZXh0OwogIGZvciAoY29uc3Qga2V5IG9mIE9iamVjdC5rZXlzKHN0eWxlQXR0cmlidXRlcykpIHsKICAgIGVsZW1lbnQuc3R5bGVba2V5XSA9IHN0eWxlQXR0cmlidXRlc1trZXldOwogIH0KICByZXR1cm4gZWxlbWVudDsKfQoKLy8gTWF4IG51bWJlciBvZiBieXRlcyB3aGljaCB3aWxsIGJlIHVwbG9hZGVkIGF0IGEgdGltZS4KY29uc3QgTUFYX1BBWUxPQURfU0laRSA9IDEwMCAqIDEwMjQ7Ci8vIE1heCBhbW91bnQgb2YgdGltZSB0byBibG9jayB3YWl0aW5nIGZvciB0aGUgdXNlci4KY29uc3QgRklMRV9DSEFOR0VfVElNRU9VVF9NUyA9IDMwICogMTAwMDsKCmZ1bmN0aW9uIF91cGxvYWRGaWxlcyhpbnB1dElkLCBvdXRwdXRJZCkgewogIGNvbnN0IHN0ZXBzID0gdXBsb2FkRmlsZXNTdGVwKGlucHV0SWQsIG91dHB1dElkKTsKICBjb25zdCBvdXRwdXRFbGVtZW50ID0gZG9jdW1lbnQuZ2V0RWxlbWVudEJ5SWQob3V0cHV0SWQpOwogIC8vIENhY2hlIHN0ZXBzIG9uIHRoZSBvdXRwdXRFbGVtZW50IHRvIG1ha2UgaXQgYXZhaWxhYmxlIGZvciB0aGUgbmV4dCBjYWxsCiAgLy8gdG8gdXBsb2FkRmlsZXNDb250aW51ZSBmcm9tIFB5dGhvbi4KICBvdXRwdXRFbGVtZW50LnN0ZXBzID0gc3RlcHM7CgogIHJldHVybiBfdXBsb2FkRmlsZXNDb250aW51ZShvdXRwdXRJZCk7Cn0KCi8vIFRoaXMgaXMgcm91Z2hseSBhbiBhc3luYyBnZW5lcmF0b3IgKG5vdCBzdXBwb3J0ZWQgaW4gdGhlIGJyb3dzZXIgeWV0KSwKLy8gd2hlcmUgdGhlcmUgYXJlIG11bHRpcGxlIGFzeW5jaHJvbm91cyBzdGVwcyBhbmQgdGhlIFB5dGhvbiBzaWRlIGlzIGdvaW5nCi8vIHRvIHBvbGwgZm9yIGNvbXBsZXRpb24gb2YgZWFjaCBzdGVwLgovLyBUaGlzIHVzZXMgYSBQcm9taXNlIHRvIGJsb2NrIHRoZSBweXRob24gc2lkZSBvbiBjb21wbGV0aW9uIG9mIGVhY2ggc3RlcCwKLy8gdGhlbiBwYXNzZXMgdGhlIHJlc3VsdCBvZiB0aGUgcHJldmlvdXMgc3RlcCBhcyB0aGUgaW5wdXQgdG8gdGhlIG5leHQgc3RlcC4KZnVuY3Rpb24gX3VwbG9hZEZpbGVzQ29udGludWUob3V0cHV0SWQpIHsKICBjb25zdCBvdXRwdXRFbGVtZW50ID0gZG9jdW1lbnQuZ2V0RWxlbWVudEJ5SWQob3V0cHV0SWQpOwogIGNvbnN0IHN0ZXBzID0gb3V0cHV0RWxlbWVudC5zdGVwczsKCiAgY29uc3QgbmV4dCA9IHN0ZXBzLm5leHQob3V0cHV0RWxlbWVudC5sYXN0UHJvbWlzZVZhbHVlKTsKICByZXR1cm4gUHJvbWlzZS5yZXNvbHZlKG5leHQudmFsdWUucHJvbWlzZSkudGhlbigodmFsdWUpID0+IHsKICAgIC8vIENhY2hlIHRoZSBsYXN0IHByb21pc2UgdmFsdWUgdG8gbWFrZSBpdCBhdmFpbGFibGUgdG8gdGhlIG5leHQKICAgIC8vIHN0ZXAgb2YgdGhlIGdlbmVyYXRvci4KICAgIG91dHB1dEVsZW1lbnQubGFzdFByb21pc2VWYWx1ZSA9IHZhbHVlOwogICAgcmV0dXJuIG5leHQudmFsdWUucmVzcG9uc2U7CiAgfSk7Cn0KCi8qKgogKiBHZW5lcmF0b3IgZnVuY3Rpb24gd2hpY2ggaXMgY2FsbGVkIGJldHdlZW4gZWFjaCBhc3luYyBzdGVwIG9mIHRoZSB1cGxvYWQKICogcHJvY2Vzcy4KICogQHBhcmFtIHtzdHJpbmd9IGlucHV0SWQgRWxlbWVudCBJRCBvZiB0aGUgaW5wdXQgZmlsZSBwaWNrZXIgZWxlbWVudC4KICogQHBhcmFtIHtzdHJpbmd9IG91dHB1dElkIEVsZW1lbnQgSUQgb2YgdGhlIG91dHB1dCBkaXNwbGF5LgogKiBAcmV0dXJuIHshSXRlcmFibGU8IU9iamVjdD59IEl0ZXJhYmxlIG9mIG5leHQgc3RlcHMuCiAqLwpmdW5jdGlvbiogdXBsb2FkRmlsZXNTdGVwKGlucHV0SWQsIG91dHB1dElkKSB7CiAgY29uc3QgaW5wdXRFbGVtZW50ID0gZG9jdW1lbnQuZ2V0RWxlbWVudEJ5SWQoaW5wdXRJZCk7CiAgaW5wdXRFbGVtZW50LmRpc2FibGVkID0gZmFsc2U7CgogIGNvbnN0IG91dHB1dEVsZW1lbnQgPSBkb2N1bWVudC5nZXRFbGVtZW50QnlJZChvdXRwdXRJZCk7CiAgb3V0cHV0RWxlbWVudC5pbm5lckhUTUwgPSAnJzsKCiAgY29uc3QgcGlja2VkUHJvbWlzZSA9IG5ldyBQcm9taXNlKChyZXNvbHZlKSA9PiB7CiAgICBpbnB1dEVsZW1lbnQuYWRkRXZlbnRMaXN0ZW5lcignY2hhbmdlJywgKGUpID0+IHsKICAgICAgcmVzb2x2ZShlLnRhcmdldC5maWxlcyk7CiAgICB9KTsKICB9KTsKCiAgY29uc3QgY2FuY2VsID0gZG9jdW1lbnQuY3JlYXRlRWxlbWVudCgnYnV0dG9uJyk7CiAgaW5wdXRFbGVtZW50LnBhcmVudEVsZW1lbnQuYXBwZW5kQ2hpbGQoY2FuY2VsKTsKICBjYW5jZWwudGV4dENvbnRlbnQgPSAnQ2FuY2VsIHVwbG9hZCc7CiAgY29uc3QgY2FuY2VsUHJvbWlzZSA9IG5ldyBQcm9taXNlKChyZXNvbHZlKSA9PiB7CiAgICBjYW5jZWwub25jbGljayA9ICgpID0+IHsKICAgICAgcmVzb2x2ZShudWxsKTsKICAgIH07CiAgfSk7CgogIC8vIENhbmNlbCB1cGxvYWQgaWYgdXNlciBoYXNuJ3QgcGlja2VkIGFueXRoaW5nIGluIHRpbWVvdXQuCiAgY29uc3QgdGltZW91dFByb21pc2UgPSBuZXcgUHJvbWlzZSgocmVzb2x2ZSkgPT4gewogICAgc2V0VGltZW91dCgoKSA9PiB7CiAgICAgIHJlc29sdmUobnVsbCk7CiAgICB9LCBGSUxFX0NIQU5HRV9USU1FT1VUX01TKTsKICB9KTsKCiAgLy8gV2FpdCBmb3IgdGhlIHVzZXIgdG8gcGljayB0aGUgZmlsZXMuCiAgY29uc3QgZmlsZXMgPSB5aWVsZCB7CiAgICBwcm9taXNlOiBQcm9taXNlLnJhY2UoW3BpY2tlZFByb21pc2UsIHRpbWVvdXRQcm9taXNlLCBjYW5jZWxQcm9taXNlXSksCiAgICByZXNwb25zZTogewogICAgICBhY3Rpb246ICdzdGFydGluZycsCiAgICB9CiAgfTsKCiAgaWYgKCFmaWxlcykgewogICAgcmV0dXJuIHsKICAgICAgcmVzcG9uc2U6IHsKICAgICAgICBhY3Rpb246ICdjb21wbGV0ZScsCiAgICAgIH0KICAgIH07CiAgfQoKICBjYW5jZWwucmVtb3ZlKCk7CgogIC8vIERpc2FibGUgdGhlIGlucHV0IGVsZW1lbnQgc2luY2UgZnVydGhlciBwaWNrcyBhcmUgbm90IGFsbG93ZWQuCiAgaW5wdXRFbGVtZW50LmRpc2FibGVkID0gdHJ1ZTsKCiAgZm9yIChjb25zdCBmaWxlIG9mIGZpbGVzKSB7CiAgICBjb25zdCBsaSA9IGRvY3VtZW50LmNyZWF0ZUVsZW1lbnQoJ2xpJyk7CiAgICBsaS5hcHBlbmQoc3BhbihmaWxlLm5hbWUsIHtmb250V2VpZ2h0OiAnYm9sZCd9KSk7CiAgICBsaS5hcHBlbmQoc3BhbigKICAgICAgICBgKCR7ZmlsZS50eXBlIHx8ICduL2EnfSkgLSAke2ZpbGUuc2l6ZX0gYnl0ZXMsIGAgKwogICAgICAgIGBsYXN0IG1vZGlmaWVkOiAkewogICAgICAgICAgICBmaWxlLmxhc3RNb2RpZmllZERhdGUgPyBmaWxlLmxhc3RNb2RpZmllZERhdGUudG9Mb2NhbGVEYXRlU3RyaW5nKCkgOgogICAgICAgICAgICAgICAgICAgICAgICAgICAgICAgICAgICAnbi9hJ30gLSBgKSk7CiAgICBjb25zdCBwZXJjZW50ID0gc3BhbignMCUgZG9uZScpOwogICAgbGkuYXBwZW5kQ2hpbGQocGVyY2VudCk7CgogICAgb3V0cHV0RWxlbWVudC5hcHBlbmRDaGlsZChsaSk7CgogICAgY29uc3QgZmlsZURhdGFQcm9taXNlID0gbmV3IFByb21pc2UoKHJlc29sdmUpID0+IHsKICAgICAgY29uc3QgcmVhZGVyID0gbmV3IEZpbGVSZWFkZXIoKTsKICAgICAgcmVhZGVyLm9ubG9hZCA9IChlKSA9PiB7CiAgICAgICAgcmVzb2x2ZShlLnRhcmdldC5yZXN1bHQpOwogICAgICB9OwogICAgICByZWFkZXIucmVhZEFzQXJyYXlCdWZmZXIoZmlsZSk7CiAgICB9KTsKICAgIC8vIFdhaXQgZm9yIHRoZSBkYXRhIHRvIGJlIHJlYWR5LgogICAgbGV0IGZpbGVEYXRhID0geWllbGQgewogICAgICBwcm9taXNlOiBmaWxlRGF0YVByb21pc2UsCiAgICAgIHJlc3BvbnNlOiB7CiAgICAgICAgYWN0aW9uOiAnY29udGludWUnLAogICAgICB9CiAgICB9OwoKICAgIC8vIFVzZSBhIGNodW5rZWQgc2VuZGluZyB0byBhdm9pZCBtZXNzYWdlIHNpemUgbGltaXRzLiBTZWUgYi82MjExNTY2MC4KICAgIGxldCBwb3NpdGlvbiA9IDA7CiAgICB3aGlsZSAocG9zaXRpb24gPCBmaWxlRGF0YS5ieXRlTGVuZ3RoKSB7CiAgICAgIGNvbnN0IGxlbmd0aCA9IE1hdGgubWluKGZpbGVEYXRhLmJ5dGVMZW5ndGggLSBwb3NpdGlvbiwgTUFYX1BBWUxPQURfU0laRSk7CiAgICAgIGNvbnN0IGNodW5rID0gbmV3IFVpbnQ4QXJyYXkoZmlsZURhdGEsIHBvc2l0aW9uLCBsZW5ndGgpOwogICAgICBwb3NpdGlvbiArPSBsZW5ndGg7CgogICAgICBjb25zdCBiYXNlNjQgPSBidG9hKFN0cmluZy5mcm9tQ2hhckNvZGUuYXBwbHkobnVsbCwgY2h1bmspKTsKICAgICAgeWllbGQgewogICAgICAgIHJlc3BvbnNlOiB7CiAgICAgICAgICBhY3Rpb246ICdhcHBlbmQnLAogICAgICAgICAgZmlsZTogZmlsZS5uYW1lLAogICAgICAgICAgZGF0YTogYmFzZTY0LAogICAgICAgIH0sCiAgICAgIH07CiAgICAgIHBlcmNlbnQudGV4dENvbnRlbnQgPQogICAgICAgICAgYCR7TWF0aC5yb3VuZCgocG9zaXRpb24gLyBmaWxlRGF0YS5ieXRlTGVuZ3RoKSAqIDEwMCl9JSBkb25lYDsKICAgIH0KICB9CgogIC8vIEFsbCBkb25lLgogIHlpZWxkIHsKICAgIHJlc3BvbnNlOiB7CiAgICAgIGFjdGlvbjogJ2NvbXBsZXRlJywKICAgIH0KICB9Owp9CgpzY29wZS5nb29nbGUgPSBzY29wZS5nb29nbGUgfHwge307CnNjb3BlLmdvb2dsZS5jb2xhYiA9IHNjb3BlLmdvb2dsZS5jb2xhYiB8fCB7fTsKc2NvcGUuZ29vZ2xlLmNvbGFiLl9maWxlcyA9IHsKICBfdXBsb2FkRmlsZXMsCiAgX3VwbG9hZEZpbGVzQ29udGludWUsCn07Cn0pKHNlbGYpOwo=",
              "ok": true,
              "headers": [
                [
                  "content-type",
                  "application/javascript"
                ]
              ],
              "status": 200,
              "status_text": ""
            }
          },
          "base_uri": "https://localhost:8080/",
          "height": 75
        }
      },
      "source": [
        "from google.colab import files\n",
        "uploaded = files.upload()"
      ],
      "execution_count": 9,
      "outputs": [
        {
          "output_type": "display_data",
          "data": {
            "text/html": [
              "\n",
              "     <input type=\"file\" id=\"files-353ea908-f32a-438b-817d-93b2d7ea1528\" name=\"files[]\" multiple disabled />\n",
              "     <output id=\"result-353ea908-f32a-438b-817d-93b2d7ea1528\">\n",
              "      Upload widget is only available when the cell has been executed in the\n",
              "      current browser session. Please rerun this cell to enable.\n",
              "      </output>\n",
              "      <script src=\"/nbextensions/google.colab/files.js\"></script> "
            ],
            "text/plain": [
              "<IPython.core.display.HTML object>"
            ]
          },
          "metadata": {
            "tags": []
          }
        },
        {
          "output_type": "stream",
          "text": [
            "Saving balloon_data.csv to balloon_data.csv\n"
          ],
          "name": "stdout"
        }
      ]
    },
    {
      "cell_type": "code",
      "metadata": {
        "id": "BLE8lSV3MNoC",
        "colab_type": "code",
        "colab": {}
      },
      "source": [
        "import io\n",
        "data = pd.read_csv(io.BytesIO(uploaded['balloon_data.csv']))"
      ],
      "execution_count": 0,
      "outputs": []
    },
    {
      "cell_type": "code",
      "metadata": {
        "id": "CSPP1JMNM74k",
        "colab_type": "code",
        "colab": {
          "base_uri": "https://localhost:8080/",
          "height": 225
        },
        "outputId": "d07c1483-cafe-48f9-d90a-bbe3ee0ff94b"
      },
      "source": [
        "data.info()"
      ],
      "execution_count": 11,
      "outputs": [
        {
          "output_type": "stream",
          "text": [
            "<class 'pandas.core.frame.DataFrame'>\n",
            "RangeIndex: 76 entries, 0 to 75\n",
            "Data columns (total 5 columns):\n",
            " #   Column    Non-Null Count  Dtype \n",
            "---  ------    --------------  ----- \n",
            " 0   Color     76 non-null     object\n",
            " 1   size      76 non-null     object\n",
            " 2   act       76 non-null     object\n",
            " 3   age       76 non-null     object\n",
            " 4   inflated  76 non-null     object\n",
            "dtypes: object(5)\n",
            "memory usage: 3.1+ KB\n"
          ],
          "name": "stdout"
        }
      ]
    },
    {
      "cell_type": "markdown",
      "metadata": {
        "id": "b25EteRFREFD",
        "colab_type": "text"
      },
      "source": [
        "* Balloon_data.csv file contains the data of all four file of the directory."
      ]
    },
    {
      "cell_type": "code",
      "metadata": {
        "id": "kgYvC1k8Q73Y",
        "colab_type": "code",
        "colab": {}
      },
      "source": [
        "data.drop_duplicates(keep='first' , inplace=True)"
      ],
      "execution_count": 0,
      "outputs": []
    },
    {
      "cell_type": "code",
      "metadata": {
        "id": "LdBILEVdRydo",
        "colab_type": "code",
        "colab": {
          "base_uri": "https://localhost:8080/",
          "height": 225
        },
        "outputId": "1fd75835-7e25-4727-9aed-196118aa5d85"
      },
      "source": [
        "data.info()"
      ],
      "execution_count": 14,
      "outputs": [
        {
          "output_type": "stream",
          "text": [
            "<class 'pandas.core.frame.DataFrame'>\n",
            "Int64Index: 28 entries, 0 to 56\n",
            "Data columns (total 5 columns):\n",
            " #   Column    Non-Null Count  Dtype \n",
            "---  ------    --------------  ----- \n",
            " 0   Color     28 non-null     object\n",
            " 1   size      28 non-null     object\n",
            " 2   act       28 non-null     object\n",
            " 3   age       28 non-null     object\n",
            " 4   inflated  28 non-null     object\n",
            "dtypes: object(5)\n",
            "memory usage: 1.3+ KB\n"
          ],
          "name": "stdout"
        }
      ]
    },
    {
      "cell_type": "code",
      "metadata": {
        "id": "8TYAQfVGR4jd",
        "colab_type": "code",
        "colab": {
          "base_uri": "https://localhost:8080/",
          "height": 202
        },
        "outputId": "fa349736-c1c7-464b-aeb8-f3e0f0a1608b"
      },
      "source": [
        "data.sample(5)"
      ],
      "execution_count": 17,
      "outputs": [
        {
          "output_type": "execute_result",
          "data": {
            "text/html": [
              "<div>\n",
              "<style scoped>\n",
              "    .dataframe tbody tr th:only-of-type {\n",
              "        vertical-align: middle;\n",
              "    }\n",
              "\n",
              "    .dataframe tbody tr th {\n",
              "        vertical-align: top;\n",
              "    }\n",
              "\n",
              "    .dataframe thead th {\n",
              "        text-align: right;\n",
              "    }\n",
              "</style>\n",
              "<table border=\"1\" class=\"dataframe\">\n",
              "  <thead>\n",
              "    <tr style=\"text-align: right;\">\n",
              "      <th></th>\n",
              "      <th>Color</th>\n",
              "      <th>size</th>\n",
              "      <th>act</th>\n",
              "      <th>age</th>\n",
              "      <th>inflated</th>\n",
              "    </tr>\n",
              "  </thead>\n",
              "  <tbody>\n",
              "    <tr>\n",
              "      <th>31</th>\n",
              "      <td>PURPLE</td>\n",
              "      <td>SMALL</td>\n",
              "      <td>STRETCH</td>\n",
              "      <td>CHILD</td>\n",
              "      <td>T</td>\n",
              "    </tr>\n",
              "    <tr>\n",
              "      <th>5</th>\n",
              "      <td>YELLOW</td>\n",
              "      <td>LARGE</td>\n",
              "      <td>STRETCH</td>\n",
              "      <td>ADULT</td>\n",
              "      <td>T</td>\n",
              "    </tr>\n",
              "    <tr>\n",
              "      <th>26</th>\n",
              "      <td>YELLOW</td>\n",
              "      <td>LARGE</td>\n",
              "      <td>STRETCH</td>\n",
              "      <td>CHILD</td>\n",
              "      <td>T</td>\n",
              "    </tr>\n",
              "    <tr>\n",
              "      <th>4</th>\n",
              "      <td>YELLOW</td>\n",
              "      <td>SMALL</td>\n",
              "      <td>DIP</td>\n",
              "      <td>CHILD</td>\n",
              "      <td>F</td>\n",
              "    </tr>\n",
              "    <tr>\n",
              "      <th>12</th>\n",
              "      <td>PURPLE</td>\n",
              "      <td>SMALL</td>\n",
              "      <td>STRETCH</td>\n",
              "      <td>CHILD</td>\n",
              "      <td>F</td>\n",
              "    </tr>\n",
              "  </tbody>\n",
              "</table>\n",
              "</div>"
            ],
            "text/plain": [
              "     Color   size      act    age inflated\n",
              "31  PURPLE  SMALL  STRETCH  CHILD        T\n",
              "5   YELLOW  LARGE  STRETCH  ADULT        T\n",
              "26  YELLOW  LARGE  STRETCH  CHILD        T\n",
              "4   YELLOW  SMALL      DIP  CHILD        F\n",
              "12  PURPLE  SMALL  STRETCH  CHILD        F"
            ]
          },
          "metadata": {
            "tags": []
          },
          "execution_count": 17
        }
      ]
    },
    {
      "cell_type": "code",
      "metadata": {
        "id": "xpVIiaajSDKv",
        "colab_type": "code",
        "colab": {}
      },
      "source": [
        "from sklearn.preprocessing import OrdinalEncoder\n",
        "oe = OrdinalEncoder()\n",
        "feature_target = oe.fit_transform(data)"
      ],
      "execution_count": 0,
      "outputs": []
    },
    {
      "cell_type": "code",
      "metadata": {
        "id": "ZYTWYo65Skhc",
        "colab_type": "code",
        "colab": {
          "base_uri": "https://localhost:8080/",
          "height": 503
        },
        "outputId": "ef9651de-fbcc-4c31-95b4-a688a2ac3986"
      },
      "source": [
        "feature_target"
      ],
      "execution_count": 19,
      "outputs": [
        {
          "output_type": "execute_result",
          "data": {
            "text/plain": [
              "array([[1., 1., 1., 0., 1.],\n",
              "       [1., 1., 1., 1., 0.],\n",
              "       [1., 1., 0., 0., 0.],\n",
              "       [1., 1., 0., 1., 0.],\n",
              "       [1., 0., 1., 0., 1.],\n",
              "       [1., 0., 1., 1., 0.],\n",
              "       [1., 0., 0., 0., 0.],\n",
              "       [1., 0., 0., 1., 0.],\n",
              "       [0., 1., 1., 0., 1.],\n",
              "       [0., 1., 1., 1., 0.],\n",
              "       [0., 1., 0., 0., 0.],\n",
              "       [0., 1., 0., 1., 0.],\n",
              "       [0., 0., 1., 0., 1.],\n",
              "       [0., 0., 1., 1., 0.],\n",
              "       [0., 0., 0., 0., 0.],\n",
              "       [0., 0., 0., 1., 0.],\n",
              "       [1., 1., 1., 1., 1.],\n",
              "       [1., 1., 0., 0., 1.],\n",
              "       [1., 0., 1., 1., 1.],\n",
              "       [1., 0., 0., 0., 1.],\n",
              "       [0., 1., 1., 1., 1.],\n",
              "       [0., 1., 0., 0., 1.],\n",
              "       [0., 0., 1., 1., 1.],\n",
              "       [0., 0., 0., 0., 1.],\n",
              "       [1., 1., 0., 1., 1.],\n",
              "       [1., 0., 1., 0., 0.],\n",
              "       [0., 1., 1., 0., 0.],\n",
              "       [0., 0., 1., 0., 0.]])"
            ]
          },
          "metadata": {
            "tags": []
          },
          "execution_count": 19
        }
      ]
    },
    {
      "cell_type": "code",
      "metadata": {
        "id": "0M1E61WfSmVG",
        "colab_type": "code",
        "colab": {
          "base_uri": "https://localhost:8080/",
          "height": 104
        },
        "outputId": "71ba33ee-0265-402b-fce3-7275966455ad"
      },
      "source": [
        "oe.categories_"
      ],
      "execution_count": 20,
      "outputs": [
        {
          "output_type": "execute_result",
          "data": {
            "text/plain": [
              "[array(['PURPLE', 'YELLOW'], dtype=object),\n",
              " array(['LARGE', 'SMALL'], dtype=object),\n",
              " array(['DIP', 'STRETCH'], dtype=object),\n",
              " array(['ADULT', 'CHILD'], dtype=object),\n",
              " array(['F', 'T'], dtype=object)]"
            ]
          },
          "metadata": {
            "tags": []
          },
          "execution_count": 20
        }
      ]
    },
    {
      "cell_type": "markdown",
      "metadata": {
        "id": "aAtcY79fTEy4",
        "colab_type": "text"
      },
      "source": [
        "**Task 2: Manually - Generate Decision Tree using Information Gain & Gini Impurity**"
      ]
    },
    {
      "cell_type": "code",
      "metadata": {
        "id": "w-u8tz-8Ssqb",
        "colab_type": "code",
        "colab": {
          "base_uri": "https://localhost:8080/",
          "height": 69
        },
        "outputId": "beedbb97-1890-47a7-bb96-cd1528d9578d"
      },
      "source": [
        "data.inflated.value_counts()"
      ],
      "execution_count": 21,
      "outputs": [
        {
          "output_type": "execute_result",
          "data": {
            "text/plain": [
              "F    15\n",
              "T    13\n",
              "Name: inflated, dtype: int64"
            ]
          },
          "metadata": {
            "tags": []
          },
          "execution_count": 21
        }
      ]
    },
    {
      "cell_type": "code",
      "metadata": {
        "id": "kFDCeu0RTXzP",
        "colab_type": "code",
        "colab": {}
      },
      "source": [
        "EntropyBeforeSplit = - ((13/28)*np.log2(13/28) + (15/28)*np.log2(15/28))"
      ],
      "execution_count": 0,
      "outputs": []
    },
    {
      "cell_type": "code",
      "metadata": {
        "id": "cttfSrozTzZF",
        "colab_type": "code",
        "colab": {
          "base_uri": "https://localhost:8080/",
          "height": 35
        },
        "outputId": "2ce4c27e-7fea-45d2-90be-0522e16929ab"
      },
      "source": [
        "EntropyBeforeSplit"
      ],
      "execution_count": 23,
      "outputs": [
        {
          "output_type": "execute_result",
          "data": {
            "text/plain": [
              "0.996316519558962"
            ]
          },
          "metadata": {
            "tags": []
          },
          "execution_count": 23
        }
      ]
    },
    {
      "cell_type": "markdown",
      "metadata": {
        "id": "icLbOYzYYrWj",
        "colab_type": "text"
      },
      "source": [
        "**Data discretize done using Binning Techniques**\n",
        "\n",
        "* For Color columns\n",
        "  * Buckets [.,0.5,.]\n",
        "* For size column\n",
        "  * Buckets [.,0.5,.]\n",
        "* For act columns\n",
        "  * Buckets [.,0.5,.]\n",
        "* For age column\n",
        "  * Buckets [.,0.5,.]\n",
        "  \n",
        "\n",
        "**The possible decisions**\n",
        "* For Color columns\n",
        "  * (a) Color < 0.5\n",
        "* For size column\n",
        "  * (b) size < 0.5\n",
        "* For act columns\n",
        "  * (c) act < 0.5\n",
        "* For age column\n",
        "  * (d) age < 0.5\n",
        "\n",
        "\n",
        "Conclusion : We have four questions to choose from for this dataset during training"
      ]
    },
    {
      "cell_type": "markdown",
      "metadata": {
        "id": "t4Z27smrajaL",
        "colab_type": "text"
      },
      "source": [
        "# **Let's calculate Information Gain using all these & identify the best question for root**\n",
        "* Let's check for question a"
      ]
    },
    {
      "cell_type": "code",
      "metadata": {
        "id": "9_E4-pKLT3dv",
        "colab_type": "code",
        "colab": {}
      },
      "source": [
        "data_1 = pd.DataFrame(feature_target, columns=['Color','size','act','age','inflated'], dtype='int')"
      ],
      "execution_count": 0,
      "outputs": []
    },
    {
      "cell_type": "code",
      "metadata": {
        "id": "P4H46ZECZDP_",
        "colab_type": "code",
        "colab": {
          "base_uri": "https://localhost:8080/",
          "height": 478
        },
        "outputId": "4c9c2d32-d195-4994-b9bc-20c7bf82ad96"
      },
      "source": [
        "# Left side\n",
        "data_1[data_1.Color <= 0.5]"
      ],
      "execution_count": 27,
      "outputs": [
        {
          "output_type": "execute_result",
          "data": {
            "text/html": [
              "<div>\n",
              "<style scoped>\n",
              "    .dataframe tbody tr th:only-of-type {\n",
              "        vertical-align: middle;\n",
              "    }\n",
              "\n",
              "    .dataframe tbody tr th {\n",
              "        vertical-align: top;\n",
              "    }\n",
              "\n",
              "    .dataframe thead th {\n",
              "        text-align: right;\n",
              "    }\n",
              "</style>\n",
              "<table border=\"1\" class=\"dataframe\">\n",
              "  <thead>\n",
              "    <tr style=\"text-align: right;\">\n",
              "      <th></th>\n",
              "      <th>Color</th>\n",
              "      <th>size</th>\n",
              "      <th>act</th>\n",
              "      <th>age</th>\n",
              "      <th>inflated</th>\n",
              "    </tr>\n",
              "  </thead>\n",
              "  <tbody>\n",
              "    <tr>\n",
              "      <th>8</th>\n",
              "      <td>0</td>\n",
              "      <td>1</td>\n",
              "      <td>1</td>\n",
              "      <td>0</td>\n",
              "      <td>1</td>\n",
              "    </tr>\n",
              "    <tr>\n",
              "      <th>9</th>\n",
              "      <td>0</td>\n",
              "      <td>1</td>\n",
              "      <td>1</td>\n",
              "      <td>1</td>\n",
              "      <td>0</td>\n",
              "    </tr>\n",
              "    <tr>\n",
              "      <th>10</th>\n",
              "      <td>0</td>\n",
              "      <td>1</td>\n",
              "      <td>0</td>\n",
              "      <td>0</td>\n",
              "      <td>0</td>\n",
              "    </tr>\n",
              "    <tr>\n",
              "      <th>11</th>\n",
              "      <td>0</td>\n",
              "      <td>1</td>\n",
              "      <td>0</td>\n",
              "      <td>1</td>\n",
              "      <td>0</td>\n",
              "    </tr>\n",
              "    <tr>\n",
              "      <th>12</th>\n",
              "      <td>0</td>\n",
              "      <td>0</td>\n",
              "      <td>1</td>\n",
              "      <td>0</td>\n",
              "      <td>1</td>\n",
              "    </tr>\n",
              "    <tr>\n",
              "      <th>13</th>\n",
              "      <td>0</td>\n",
              "      <td>0</td>\n",
              "      <td>1</td>\n",
              "      <td>1</td>\n",
              "      <td>0</td>\n",
              "    </tr>\n",
              "    <tr>\n",
              "      <th>14</th>\n",
              "      <td>0</td>\n",
              "      <td>0</td>\n",
              "      <td>0</td>\n",
              "      <td>0</td>\n",
              "      <td>0</td>\n",
              "    </tr>\n",
              "    <tr>\n",
              "      <th>15</th>\n",
              "      <td>0</td>\n",
              "      <td>0</td>\n",
              "      <td>0</td>\n",
              "      <td>1</td>\n",
              "      <td>0</td>\n",
              "    </tr>\n",
              "    <tr>\n",
              "      <th>20</th>\n",
              "      <td>0</td>\n",
              "      <td>1</td>\n",
              "      <td>1</td>\n",
              "      <td>1</td>\n",
              "      <td>1</td>\n",
              "    </tr>\n",
              "    <tr>\n",
              "      <th>21</th>\n",
              "      <td>0</td>\n",
              "      <td>1</td>\n",
              "      <td>0</td>\n",
              "      <td>0</td>\n",
              "      <td>1</td>\n",
              "    </tr>\n",
              "    <tr>\n",
              "      <th>22</th>\n",
              "      <td>0</td>\n",
              "      <td>0</td>\n",
              "      <td>1</td>\n",
              "      <td>1</td>\n",
              "      <td>1</td>\n",
              "    </tr>\n",
              "    <tr>\n",
              "      <th>23</th>\n",
              "      <td>0</td>\n",
              "      <td>0</td>\n",
              "      <td>0</td>\n",
              "      <td>0</td>\n",
              "      <td>1</td>\n",
              "    </tr>\n",
              "    <tr>\n",
              "      <th>26</th>\n",
              "      <td>0</td>\n",
              "      <td>1</td>\n",
              "      <td>1</td>\n",
              "      <td>0</td>\n",
              "      <td>0</td>\n",
              "    </tr>\n",
              "    <tr>\n",
              "      <th>27</th>\n",
              "      <td>0</td>\n",
              "      <td>0</td>\n",
              "      <td>1</td>\n",
              "      <td>0</td>\n",
              "      <td>0</td>\n",
              "    </tr>\n",
              "  </tbody>\n",
              "</table>\n",
              "</div>"
            ],
            "text/plain": [
              "    Color  size  act  age  inflated\n",
              "8       0     1    1    0         1\n",
              "9       0     1    1    1         0\n",
              "10      0     1    0    0         0\n",
              "11      0     1    0    1         0\n",
              "12      0     0    1    0         1\n",
              "13      0     0    1    1         0\n",
              "14      0     0    0    0         0\n",
              "15      0     0    0    1         0\n",
              "20      0     1    1    1         1\n",
              "21      0     1    0    0         1\n",
              "22      0     0    1    1         1\n",
              "23      0     0    0    0         1\n",
              "26      0     1    1    0         0\n",
              "27      0     0    1    0         0"
            ]
          },
          "metadata": {
            "tags": []
          },
          "execution_count": 27
        }
      ]
    },
    {
      "cell_type": "code",
      "metadata": {
        "id": "0mLQy9WdbBPP",
        "colab_type": "code",
        "colab": {
          "base_uri": "https://localhost:8080/",
          "height": 69
        },
        "outputId": "a971497e-de9f-411f-c55d-b5679461c352"
      },
      "source": [
        "data_1[data_1.Color <= 0.5].inflated.value_counts()"
      ],
      "execution_count": 29,
      "outputs": [
        {
          "output_type": "execute_result",
          "data": {
            "text/plain": [
              "0    8\n",
              "1    6\n",
              "Name: inflated, dtype: int64"
            ]
          },
          "metadata": {
            "tags": []
          },
          "execution_count": 29
        }
      ]
    },
    {
      "cell_type": "code",
      "metadata": {
        "id": "OPzjkvUGde80",
        "colab_type": "code",
        "colab": {
          "base_uri": "https://localhost:8080/",
          "height": 35
        },
        "outputId": "3d09db25-d827-4a7f-84dd-04b79809e7bd"
      },
      "source": [
        "EntropyLeftSplit = -((8/14)*np.log2(8/14) + (6/14)*np.log2(6/14))\n",
        "EntropyLeftSplit"
      ],
      "execution_count": 30,
      "outputs": [
        {
          "output_type": "execute_result",
          "data": {
            "text/plain": [
              "0.9852281360342515"
            ]
          },
          "metadata": {
            "tags": []
          },
          "execution_count": 30
        }
      ]
    },
    {
      "cell_type": "code",
      "metadata": {
        "id": "OdhyEMeFd7Vt",
        "colab_type": "code",
        "colab": {
          "base_uri": "https://localhost:8080/",
          "height": 478
        },
        "outputId": "fd34c8d1-d3c4-49fc-a8fe-dbd00e87a2f9"
      },
      "source": [
        "# Right side\n",
        "data_1[data_1.Color > 0.5]"
      ],
      "execution_count": 42,
      "outputs": [
        {
          "output_type": "execute_result",
          "data": {
            "text/html": [
              "<div>\n",
              "<style scoped>\n",
              "    .dataframe tbody tr th:only-of-type {\n",
              "        vertical-align: middle;\n",
              "    }\n",
              "\n",
              "    .dataframe tbody tr th {\n",
              "        vertical-align: top;\n",
              "    }\n",
              "\n",
              "    .dataframe thead th {\n",
              "        text-align: right;\n",
              "    }\n",
              "</style>\n",
              "<table border=\"1\" class=\"dataframe\">\n",
              "  <thead>\n",
              "    <tr style=\"text-align: right;\">\n",
              "      <th></th>\n",
              "      <th>Color</th>\n",
              "      <th>size</th>\n",
              "      <th>act</th>\n",
              "      <th>age</th>\n",
              "      <th>inflated</th>\n",
              "    </tr>\n",
              "  </thead>\n",
              "  <tbody>\n",
              "    <tr>\n",
              "      <th>0</th>\n",
              "      <td>1</td>\n",
              "      <td>1</td>\n",
              "      <td>1</td>\n",
              "      <td>0</td>\n",
              "      <td>1</td>\n",
              "    </tr>\n",
              "    <tr>\n",
              "      <th>1</th>\n",
              "      <td>1</td>\n",
              "      <td>1</td>\n",
              "      <td>1</td>\n",
              "      <td>1</td>\n",
              "      <td>0</td>\n",
              "    </tr>\n",
              "    <tr>\n",
              "      <th>2</th>\n",
              "      <td>1</td>\n",
              "      <td>1</td>\n",
              "      <td>0</td>\n",
              "      <td>0</td>\n",
              "      <td>0</td>\n",
              "    </tr>\n",
              "    <tr>\n",
              "      <th>3</th>\n",
              "      <td>1</td>\n",
              "      <td>1</td>\n",
              "      <td>0</td>\n",
              "      <td>1</td>\n",
              "      <td>0</td>\n",
              "    </tr>\n",
              "    <tr>\n",
              "      <th>4</th>\n",
              "      <td>1</td>\n",
              "      <td>0</td>\n",
              "      <td>1</td>\n",
              "      <td>0</td>\n",
              "      <td>1</td>\n",
              "    </tr>\n",
              "    <tr>\n",
              "      <th>5</th>\n",
              "      <td>1</td>\n",
              "      <td>0</td>\n",
              "      <td>1</td>\n",
              "      <td>1</td>\n",
              "      <td>0</td>\n",
              "    </tr>\n",
              "    <tr>\n",
              "      <th>6</th>\n",
              "      <td>1</td>\n",
              "      <td>0</td>\n",
              "      <td>0</td>\n",
              "      <td>0</td>\n",
              "      <td>0</td>\n",
              "    </tr>\n",
              "    <tr>\n",
              "      <th>7</th>\n",
              "      <td>1</td>\n",
              "      <td>0</td>\n",
              "      <td>0</td>\n",
              "      <td>1</td>\n",
              "      <td>0</td>\n",
              "    </tr>\n",
              "    <tr>\n",
              "      <th>16</th>\n",
              "      <td>1</td>\n",
              "      <td>1</td>\n",
              "      <td>1</td>\n",
              "      <td>1</td>\n",
              "      <td>1</td>\n",
              "    </tr>\n",
              "    <tr>\n",
              "      <th>17</th>\n",
              "      <td>1</td>\n",
              "      <td>1</td>\n",
              "      <td>0</td>\n",
              "      <td>0</td>\n",
              "      <td>1</td>\n",
              "    </tr>\n",
              "    <tr>\n",
              "      <th>18</th>\n",
              "      <td>1</td>\n",
              "      <td>0</td>\n",
              "      <td>1</td>\n",
              "      <td>1</td>\n",
              "      <td>1</td>\n",
              "    </tr>\n",
              "    <tr>\n",
              "      <th>19</th>\n",
              "      <td>1</td>\n",
              "      <td>0</td>\n",
              "      <td>0</td>\n",
              "      <td>0</td>\n",
              "      <td>1</td>\n",
              "    </tr>\n",
              "    <tr>\n",
              "      <th>24</th>\n",
              "      <td>1</td>\n",
              "      <td>1</td>\n",
              "      <td>0</td>\n",
              "      <td>1</td>\n",
              "      <td>1</td>\n",
              "    </tr>\n",
              "    <tr>\n",
              "      <th>25</th>\n",
              "      <td>1</td>\n",
              "      <td>0</td>\n",
              "      <td>1</td>\n",
              "      <td>0</td>\n",
              "      <td>0</td>\n",
              "    </tr>\n",
              "  </tbody>\n",
              "</table>\n",
              "</div>"
            ],
            "text/plain": [
              "    Color  size  act  age  inflated\n",
              "0       1     1    1    0         1\n",
              "1       1     1    1    1         0\n",
              "2       1     1    0    0         0\n",
              "3       1     1    0    1         0\n",
              "4       1     0    1    0         1\n",
              "5       1     0    1    1         0\n",
              "6       1     0    0    0         0\n",
              "7       1     0    0    1         0\n",
              "16      1     1    1    1         1\n",
              "17      1     1    0    0         1\n",
              "18      1     0    1    1         1\n",
              "19      1     0    0    0         1\n",
              "24      1     1    0    1         1\n",
              "25      1     0    1    0         0"
            ]
          },
          "metadata": {
            "tags": []
          },
          "execution_count": 42
        }
      ]
    },
    {
      "cell_type": "code",
      "metadata": {
        "id": "yPlJlyaHeMds",
        "colab_type": "code",
        "colab": {
          "base_uri": "https://localhost:8080/",
          "height": 69
        },
        "outputId": "40692a7a-4c78-4f61-cc45-68bbda284404"
      },
      "source": [
        "data_1[data_1.Color > 0.5].inflated.value_counts()"
      ],
      "execution_count": 33,
      "outputs": [
        {
          "output_type": "execute_result",
          "data": {
            "text/plain": [
              "1    7\n",
              "0    7\n",
              "Name: inflated, dtype: int64"
            ]
          },
          "metadata": {
            "tags": []
          },
          "execution_count": 33
        }
      ]
    },
    {
      "cell_type": "code",
      "metadata": {
        "id": "0JZ0Uff-ePeN",
        "colab_type": "code",
        "colab": {
          "base_uri": "https://localhost:8080/",
          "height": 35
        },
        "outputId": "7d735f61-58e2-4027-9747-9c68367ae02c"
      },
      "source": [
        "EntropyRightSplit = -((7/14)*np.log2(7/14) + (7/14)*np.log2(7/14))\n",
        "EntropyRightSplit"
      ],
      "execution_count": 34,
      "outputs": [
        {
          "output_type": "execute_result",
          "data": {
            "text/plain": [
              "1.0"
            ]
          },
          "metadata": {
            "tags": []
          },
          "execution_count": 34
        }
      ]
    },
    {
      "cell_type": "code",
      "metadata": {
        "id": "jF5ZUTuoecJV",
        "colab_type": "code",
        "colab": {
          "base_uri": "https://localhost:8080/",
          "height": 35
        },
        "outputId": "3be890d2-17c8-48f2-bad4-a96f295678a4"
      },
      "source": [
        "EntropySplit = (14/28)* EntropyLeftSplit + (14/28)*EntropyRightSplit\n",
        "EntropySplit"
      ],
      "execution_count": 35,
      "outputs": [
        {
          "output_type": "execute_result",
          "data": {
            "text/plain": [
              "0.9926140680171258"
            ]
          },
          "metadata": {
            "tags": []
          },
          "execution_count": 35
        }
      ]
    },
    {
      "cell_type": "code",
      "metadata": {
        "id": "D2dE1jfqe6va",
        "colab_type": "code",
        "colab": {
          "base_uri": "https://localhost:8080/",
          "height": 35
        },
        "outputId": "6642099f-eef5-41d9-bd2f-8393e1f2d8b4"
      },
      "source": [
        "Information_Gain_Question_a = EntropyBeforeSplit - EntropySplit\n",
        "Information_Gain_Question_a "
      ],
      "execution_count": 36,
      "outputs": [
        {
          "output_type": "execute_result",
          "data": {
            "text/plain": [
              "0.003702451541836238"
            ]
          },
          "metadata": {
            "tags": []
          },
          "execution_count": 36
        }
      ]
    },
    {
      "cell_type": "markdown",
      "metadata": {
        "id": "CKMr1QzEfpvl",
        "colab_type": "text"
      },
      "source": [
        "<hr>\n",
        "\n",
        "* Let's check for question b"
      ]
    },
    {
      "cell_type": "code",
      "metadata": {
        "id": "FKvWUQHMfGeO",
        "colab_type": "code",
        "colab": {
          "base_uri": "https://localhost:8080/",
          "height": 478
        },
        "outputId": "60c10db2-14db-466b-a294-3c4a931c9c69"
      },
      "source": [
        "# Left side\n",
        "data_1[data_1['size'] <= 0.5]"
      ],
      "execution_count": 45,
      "outputs": [
        {
          "output_type": "execute_result",
          "data": {
            "text/html": [
              "<div>\n",
              "<style scoped>\n",
              "    .dataframe tbody tr th:only-of-type {\n",
              "        vertical-align: middle;\n",
              "    }\n",
              "\n",
              "    .dataframe tbody tr th {\n",
              "        vertical-align: top;\n",
              "    }\n",
              "\n",
              "    .dataframe thead th {\n",
              "        text-align: right;\n",
              "    }\n",
              "</style>\n",
              "<table border=\"1\" class=\"dataframe\">\n",
              "  <thead>\n",
              "    <tr style=\"text-align: right;\">\n",
              "      <th></th>\n",
              "      <th>Color</th>\n",
              "      <th>size</th>\n",
              "      <th>act</th>\n",
              "      <th>age</th>\n",
              "      <th>inflated</th>\n",
              "    </tr>\n",
              "  </thead>\n",
              "  <tbody>\n",
              "    <tr>\n",
              "      <th>4</th>\n",
              "      <td>1</td>\n",
              "      <td>0</td>\n",
              "      <td>1</td>\n",
              "      <td>0</td>\n",
              "      <td>1</td>\n",
              "    </tr>\n",
              "    <tr>\n",
              "      <th>5</th>\n",
              "      <td>1</td>\n",
              "      <td>0</td>\n",
              "      <td>1</td>\n",
              "      <td>1</td>\n",
              "      <td>0</td>\n",
              "    </tr>\n",
              "    <tr>\n",
              "      <th>6</th>\n",
              "      <td>1</td>\n",
              "      <td>0</td>\n",
              "      <td>0</td>\n",
              "      <td>0</td>\n",
              "      <td>0</td>\n",
              "    </tr>\n",
              "    <tr>\n",
              "      <th>7</th>\n",
              "      <td>1</td>\n",
              "      <td>0</td>\n",
              "      <td>0</td>\n",
              "      <td>1</td>\n",
              "      <td>0</td>\n",
              "    </tr>\n",
              "    <tr>\n",
              "      <th>12</th>\n",
              "      <td>0</td>\n",
              "      <td>0</td>\n",
              "      <td>1</td>\n",
              "      <td>0</td>\n",
              "      <td>1</td>\n",
              "    </tr>\n",
              "    <tr>\n",
              "      <th>13</th>\n",
              "      <td>0</td>\n",
              "      <td>0</td>\n",
              "      <td>1</td>\n",
              "      <td>1</td>\n",
              "      <td>0</td>\n",
              "    </tr>\n",
              "    <tr>\n",
              "      <th>14</th>\n",
              "      <td>0</td>\n",
              "      <td>0</td>\n",
              "      <td>0</td>\n",
              "      <td>0</td>\n",
              "      <td>0</td>\n",
              "    </tr>\n",
              "    <tr>\n",
              "      <th>15</th>\n",
              "      <td>0</td>\n",
              "      <td>0</td>\n",
              "      <td>0</td>\n",
              "      <td>1</td>\n",
              "      <td>0</td>\n",
              "    </tr>\n",
              "    <tr>\n",
              "      <th>18</th>\n",
              "      <td>1</td>\n",
              "      <td>0</td>\n",
              "      <td>1</td>\n",
              "      <td>1</td>\n",
              "      <td>1</td>\n",
              "    </tr>\n",
              "    <tr>\n",
              "      <th>19</th>\n",
              "      <td>1</td>\n",
              "      <td>0</td>\n",
              "      <td>0</td>\n",
              "      <td>0</td>\n",
              "      <td>1</td>\n",
              "    </tr>\n",
              "    <tr>\n",
              "      <th>22</th>\n",
              "      <td>0</td>\n",
              "      <td>0</td>\n",
              "      <td>1</td>\n",
              "      <td>1</td>\n",
              "      <td>1</td>\n",
              "    </tr>\n",
              "    <tr>\n",
              "      <th>23</th>\n",
              "      <td>0</td>\n",
              "      <td>0</td>\n",
              "      <td>0</td>\n",
              "      <td>0</td>\n",
              "      <td>1</td>\n",
              "    </tr>\n",
              "    <tr>\n",
              "      <th>25</th>\n",
              "      <td>1</td>\n",
              "      <td>0</td>\n",
              "      <td>1</td>\n",
              "      <td>0</td>\n",
              "      <td>0</td>\n",
              "    </tr>\n",
              "    <tr>\n",
              "      <th>27</th>\n",
              "      <td>0</td>\n",
              "      <td>0</td>\n",
              "      <td>1</td>\n",
              "      <td>0</td>\n",
              "      <td>0</td>\n",
              "    </tr>\n",
              "  </tbody>\n",
              "</table>\n",
              "</div>"
            ],
            "text/plain": [
              "    Color  size  act  age  inflated\n",
              "4       1     0    1    0         1\n",
              "5       1     0    1    1         0\n",
              "6       1     0    0    0         0\n",
              "7       1     0    0    1         0\n",
              "12      0     0    1    0         1\n",
              "13      0     0    1    1         0\n",
              "14      0     0    0    0         0\n",
              "15      0     0    0    1         0\n",
              "18      1     0    1    1         1\n",
              "19      1     0    0    0         1\n",
              "22      0     0    1    1         1\n",
              "23      0     0    0    0         1\n",
              "25      1     0    1    0         0\n",
              "27      0     0    1    0         0"
            ]
          },
          "metadata": {
            "tags": []
          },
          "execution_count": 45
        }
      ]
    },
    {
      "cell_type": "code",
      "metadata": {
        "id": "EvrqMGLAf-AR",
        "colab_type": "code",
        "colab": {
          "base_uri": "https://localhost:8080/",
          "height": 69
        },
        "outputId": "177c0d23-d11f-41c9-cfb3-91137234c051"
      },
      "source": [
        "data_1[data_1['size'] <= 0.5].inflated.value_counts()"
      ],
      "execution_count": 46,
      "outputs": [
        {
          "output_type": "execute_result",
          "data": {
            "text/plain": [
              "0    8\n",
              "1    6\n",
              "Name: inflated, dtype: int64"
            ]
          },
          "metadata": {
            "tags": []
          },
          "execution_count": 46
        }
      ]
    },
    {
      "cell_type": "code",
      "metadata": {
        "id": "vxILBD81hM8N",
        "colab_type": "code",
        "colab": {
          "base_uri": "https://localhost:8080/",
          "height": 35
        },
        "outputId": "96a7470f-b1e4-4d7e-aeb5-0d321815a937"
      },
      "source": [
        "EntropyLeftSplit = -((8/14)*np.log2(8/14) + (6/14)*np.log2(6/14))\n",
        "EntropyLeftSplit"
      ],
      "execution_count": 47,
      "outputs": [
        {
          "output_type": "execute_result",
          "data": {
            "text/plain": [
              "0.9852281360342515"
            ]
          },
          "metadata": {
            "tags": []
          },
          "execution_count": 47
        }
      ]
    },
    {
      "cell_type": "code",
      "metadata": {
        "id": "t9qj11LFhbTR",
        "colab_type": "code",
        "colab": {
          "base_uri": "https://localhost:8080/",
          "height": 478
        },
        "outputId": "50bd427d-3849-41ab-ffbc-0e274de95420"
      },
      "source": [
        "# Right side\n",
        "data_1[data_1['size'] > 0.5]"
      ],
      "execution_count": 48,
      "outputs": [
        {
          "output_type": "execute_result",
          "data": {
            "text/html": [
              "<div>\n",
              "<style scoped>\n",
              "    .dataframe tbody tr th:only-of-type {\n",
              "        vertical-align: middle;\n",
              "    }\n",
              "\n",
              "    .dataframe tbody tr th {\n",
              "        vertical-align: top;\n",
              "    }\n",
              "\n",
              "    .dataframe thead th {\n",
              "        text-align: right;\n",
              "    }\n",
              "</style>\n",
              "<table border=\"1\" class=\"dataframe\">\n",
              "  <thead>\n",
              "    <tr style=\"text-align: right;\">\n",
              "      <th></th>\n",
              "      <th>Color</th>\n",
              "      <th>size</th>\n",
              "      <th>act</th>\n",
              "      <th>age</th>\n",
              "      <th>inflated</th>\n",
              "    </tr>\n",
              "  </thead>\n",
              "  <tbody>\n",
              "    <tr>\n",
              "      <th>0</th>\n",
              "      <td>1</td>\n",
              "      <td>1</td>\n",
              "      <td>1</td>\n",
              "      <td>0</td>\n",
              "      <td>1</td>\n",
              "    </tr>\n",
              "    <tr>\n",
              "      <th>1</th>\n",
              "      <td>1</td>\n",
              "      <td>1</td>\n",
              "      <td>1</td>\n",
              "      <td>1</td>\n",
              "      <td>0</td>\n",
              "    </tr>\n",
              "    <tr>\n",
              "      <th>2</th>\n",
              "      <td>1</td>\n",
              "      <td>1</td>\n",
              "      <td>0</td>\n",
              "      <td>0</td>\n",
              "      <td>0</td>\n",
              "    </tr>\n",
              "    <tr>\n",
              "      <th>3</th>\n",
              "      <td>1</td>\n",
              "      <td>1</td>\n",
              "      <td>0</td>\n",
              "      <td>1</td>\n",
              "      <td>0</td>\n",
              "    </tr>\n",
              "    <tr>\n",
              "      <th>8</th>\n",
              "      <td>0</td>\n",
              "      <td>1</td>\n",
              "      <td>1</td>\n",
              "      <td>0</td>\n",
              "      <td>1</td>\n",
              "    </tr>\n",
              "    <tr>\n",
              "      <th>9</th>\n",
              "      <td>0</td>\n",
              "      <td>1</td>\n",
              "      <td>1</td>\n",
              "      <td>1</td>\n",
              "      <td>0</td>\n",
              "    </tr>\n",
              "    <tr>\n",
              "      <th>10</th>\n",
              "      <td>0</td>\n",
              "      <td>1</td>\n",
              "      <td>0</td>\n",
              "      <td>0</td>\n",
              "      <td>0</td>\n",
              "    </tr>\n",
              "    <tr>\n",
              "      <th>11</th>\n",
              "      <td>0</td>\n",
              "      <td>1</td>\n",
              "      <td>0</td>\n",
              "      <td>1</td>\n",
              "      <td>0</td>\n",
              "    </tr>\n",
              "    <tr>\n",
              "      <th>16</th>\n",
              "      <td>1</td>\n",
              "      <td>1</td>\n",
              "      <td>1</td>\n",
              "      <td>1</td>\n",
              "      <td>1</td>\n",
              "    </tr>\n",
              "    <tr>\n",
              "      <th>17</th>\n",
              "      <td>1</td>\n",
              "      <td>1</td>\n",
              "      <td>0</td>\n",
              "      <td>0</td>\n",
              "      <td>1</td>\n",
              "    </tr>\n",
              "    <tr>\n",
              "      <th>20</th>\n",
              "      <td>0</td>\n",
              "      <td>1</td>\n",
              "      <td>1</td>\n",
              "      <td>1</td>\n",
              "      <td>1</td>\n",
              "    </tr>\n",
              "    <tr>\n",
              "      <th>21</th>\n",
              "      <td>0</td>\n",
              "      <td>1</td>\n",
              "      <td>0</td>\n",
              "      <td>0</td>\n",
              "      <td>1</td>\n",
              "    </tr>\n",
              "    <tr>\n",
              "      <th>24</th>\n",
              "      <td>1</td>\n",
              "      <td>1</td>\n",
              "      <td>0</td>\n",
              "      <td>1</td>\n",
              "      <td>1</td>\n",
              "    </tr>\n",
              "    <tr>\n",
              "      <th>26</th>\n",
              "      <td>0</td>\n",
              "      <td>1</td>\n",
              "      <td>1</td>\n",
              "      <td>0</td>\n",
              "      <td>0</td>\n",
              "    </tr>\n",
              "  </tbody>\n",
              "</table>\n",
              "</div>"
            ],
            "text/plain": [
              "    Color  size  act  age  inflated\n",
              "0       1     1    1    0         1\n",
              "1       1     1    1    1         0\n",
              "2       1     1    0    0         0\n",
              "3       1     1    0    1         0\n",
              "8       0     1    1    0         1\n",
              "9       0     1    1    1         0\n",
              "10      0     1    0    0         0\n",
              "11      0     1    0    1         0\n",
              "16      1     1    1    1         1\n",
              "17      1     1    0    0         1\n",
              "20      0     1    1    1         1\n",
              "21      0     1    0    0         1\n",
              "24      1     1    0    1         1\n",
              "26      0     1    1    0         0"
            ]
          },
          "metadata": {
            "tags": []
          },
          "execution_count": 48
        }
      ]
    },
    {
      "cell_type": "code",
      "metadata": {
        "id": "M2g3KrB6hidT",
        "colab_type": "code",
        "colab": {
          "base_uri": "https://localhost:8080/",
          "height": 69
        },
        "outputId": "fb435733-4960-4a9a-98ad-e627e712d712"
      },
      "source": [
        "data_1[data_1['size'] > 0.5].inflated.value_counts()"
      ],
      "execution_count": 49,
      "outputs": [
        {
          "output_type": "execute_result",
          "data": {
            "text/plain": [
              "1    7\n",
              "0    7\n",
              "Name: inflated, dtype: int64"
            ]
          },
          "metadata": {
            "tags": []
          },
          "execution_count": 49
        }
      ]
    },
    {
      "cell_type": "code",
      "metadata": {
        "id": "7WZJmTtLhoT-",
        "colab_type": "code",
        "colab": {
          "base_uri": "https://localhost:8080/",
          "height": 35
        },
        "outputId": "89c8fb08-803f-489a-a189-f576e74a9456"
      },
      "source": [
        "EntropyRightSplit = -((7/14)*np.log2(7/14) + (7/14)*np.log2(7/14))\n",
        "EntropyRightSplit"
      ],
      "execution_count": 50,
      "outputs": [
        {
          "output_type": "execute_result",
          "data": {
            "text/plain": [
              "1.0"
            ]
          },
          "metadata": {
            "tags": []
          },
          "execution_count": 50
        }
      ]
    },
    {
      "cell_type": "code",
      "metadata": {
        "id": "Lmx7j04yhvTi",
        "colab_type": "code",
        "colab": {
          "base_uri": "https://localhost:8080/",
          "height": 35
        },
        "outputId": "1e496877-1b7c-427c-dd35-7e20f8543256"
      },
      "source": [
        "EntropySplit = (14/28)* EntropyLeftSplit + (14/28)*EntropyRightSplit\n",
        "EntropySplit"
      ],
      "execution_count": 51,
      "outputs": [
        {
          "output_type": "execute_result",
          "data": {
            "text/plain": [
              "0.9926140680171258"
            ]
          },
          "metadata": {
            "tags": []
          },
          "execution_count": 51
        }
      ]
    },
    {
      "cell_type": "code",
      "metadata": {
        "id": "K7B3V-3ph0Xi",
        "colab_type": "code",
        "colab": {
          "base_uri": "https://localhost:8080/",
          "height": 35
        },
        "outputId": "85db0600-88bd-400f-f3ef-22dd83c4668f"
      },
      "source": [
        "Information_Gain_Question_b = EntropyBeforeSplit - EntropySplit\n",
        "Information_Gain_Question_b "
      ],
      "execution_count": 52,
      "outputs": [
        {
          "output_type": "execute_result",
          "data": {
            "text/plain": [
              "0.003702451541836238"
            ]
          },
          "metadata": {
            "tags": []
          },
          "execution_count": 52
        }
      ]
    },
    {
      "cell_type": "markdown",
      "metadata": {
        "id": "59PZh_TUh-WL",
        "colab_type": "text"
      },
      "source": [
        "<hr>\n",
        "\n",
        "* Let's check for question c"
      ]
    },
    {
      "cell_type": "code",
      "metadata": {
        "id": "NWd_GRoVh6ZR",
        "colab_type": "code",
        "colab": {
          "base_uri": "https://localhost:8080/",
          "height": 447
        },
        "outputId": "03ae6222-8c73-4a4f-d10f-61681881fe50"
      },
      "source": [
        "# Left side\n",
        "data_1[data_1.act <= 0.5]"
      ],
      "execution_count": 53,
      "outputs": [
        {
          "output_type": "execute_result",
          "data": {
            "text/html": [
              "<div>\n",
              "<style scoped>\n",
              "    .dataframe tbody tr th:only-of-type {\n",
              "        vertical-align: middle;\n",
              "    }\n",
              "\n",
              "    .dataframe tbody tr th {\n",
              "        vertical-align: top;\n",
              "    }\n",
              "\n",
              "    .dataframe thead th {\n",
              "        text-align: right;\n",
              "    }\n",
              "</style>\n",
              "<table border=\"1\" class=\"dataframe\">\n",
              "  <thead>\n",
              "    <tr style=\"text-align: right;\">\n",
              "      <th></th>\n",
              "      <th>Color</th>\n",
              "      <th>size</th>\n",
              "      <th>act</th>\n",
              "      <th>age</th>\n",
              "      <th>inflated</th>\n",
              "    </tr>\n",
              "  </thead>\n",
              "  <tbody>\n",
              "    <tr>\n",
              "      <th>2</th>\n",
              "      <td>1</td>\n",
              "      <td>1</td>\n",
              "      <td>0</td>\n",
              "      <td>0</td>\n",
              "      <td>0</td>\n",
              "    </tr>\n",
              "    <tr>\n",
              "      <th>3</th>\n",
              "      <td>1</td>\n",
              "      <td>1</td>\n",
              "      <td>0</td>\n",
              "      <td>1</td>\n",
              "      <td>0</td>\n",
              "    </tr>\n",
              "    <tr>\n",
              "      <th>6</th>\n",
              "      <td>1</td>\n",
              "      <td>0</td>\n",
              "      <td>0</td>\n",
              "      <td>0</td>\n",
              "      <td>0</td>\n",
              "    </tr>\n",
              "    <tr>\n",
              "      <th>7</th>\n",
              "      <td>1</td>\n",
              "      <td>0</td>\n",
              "      <td>0</td>\n",
              "      <td>1</td>\n",
              "      <td>0</td>\n",
              "    </tr>\n",
              "    <tr>\n",
              "      <th>10</th>\n",
              "      <td>0</td>\n",
              "      <td>1</td>\n",
              "      <td>0</td>\n",
              "      <td>0</td>\n",
              "      <td>0</td>\n",
              "    </tr>\n",
              "    <tr>\n",
              "      <th>11</th>\n",
              "      <td>0</td>\n",
              "      <td>1</td>\n",
              "      <td>0</td>\n",
              "      <td>1</td>\n",
              "      <td>0</td>\n",
              "    </tr>\n",
              "    <tr>\n",
              "      <th>14</th>\n",
              "      <td>0</td>\n",
              "      <td>0</td>\n",
              "      <td>0</td>\n",
              "      <td>0</td>\n",
              "      <td>0</td>\n",
              "    </tr>\n",
              "    <tr>\n",
              "      <th>15</th>\n",
              "      <td>0</td>\n",
              "      <td>0</td>\n",
              "      <td>0</td>\n",
              "      <td>1</td>\n",
              "      <td>0</td>\n",
              "    </tr>\n",
              "    <tr>\n",
              "      <th>17</th>\n",
              "      <td>1</td>\n",
              "      <td>1</td>\n",
              "      <td>0</td>\n",
              "      <td>0</td>\n",
              "      <td>1</td>\n",
              "    </tr>\n",
              "    <tr>\n",
              "      <th>19</th>\n",
              "      <td>1</td>\n",
              "      <td>0</td>\n",
              "      <td>0</td>\n",
              "      <td>0</td>\n",
              "      <td>1</td>\n",
              "    </tr>\n",
              "    <tr>\n",
              "      <th>21</th>\n",
              "      <td>0</td>\n",
              "      <td>1</td>\n",
              "      <td>0</td>\n",
              "      <td>0</td>\n",
              "      <td>1</td>\n",
              "    </tr>\n",
              "    <tr>\n",
              "      <th>23</th>\n",
              "      <td>0</td>\n",
              "      <td>0</td>\n",
              "      <td>0</td>\n",
              "      <td>0</td>\n",
              "      <td>1</td>\n",
              "    </tr>\n",
              "    <tr>\n",
              "      <th>24</th>\n",
              "      <td>1</td>\n",
              "      <td>1</td>\n",
              "      <td>0</td>\n",
              "      <td>1</td>\n",
              "      <td>1</td>\n",
              "    </tr>\n",
              "  </tbody>\n",
              "</table>\n",
              "</div>"
            ],
            "text/plain": [
              "    Color  size  act  age  inflated\n",
              "2       1     1    0    0         0\n",
              "3       1     1    0    1         0\n",
              "6       1     0    0    0         0\n",
              "7       1     0    0    1         0\n",
              "10      0     1    0    0         0\n",
              "11      0     1    0    1         0\n",
              "14      0     0    0    0         0\n",
              "15      0     0    0    1         0\n",
              "17      1     1    0    0         1\n",
              "19      1     0    0    0         1\n",
              "21      0     1    0    0         1\n",
              "23      0     0    0    0         1\n",
              "24      1     1    0    1         1"
            ]
          },
          "metadata": {
            "tags": []
          },
          "execution_count": 53
        }
      ]
    },
    {
      "cell_type": "code",
      "metadata": {
        "id": "u1EjXunRiinp",
        "colab_type": "code",
        "colab": {
          "base_uri": "https://localhost:8080/",
          "height": 69
        },
        "outputId": "bbd9cba3-4e59-4f0d-809c-16e88e13d0a4"
      },
      "source": [
        "data_1[data_1.act <= 0.5].inflated.value_counts()"
      ],
      "execution_count": 54,
      "outputs": [
        {
          "output_type": "execute_result",
          "data": {
            "text/plain": [
              "0    8\n",
              "1    5\n",
              "Name: inflated, dtype: int64"
            ]
          },
          "metadata": {
            "tags": []
          },
          "execution_count": 54
        }
      ]
    },
    {
      "cell_type": "code",
      "metadata": {
        "id": "Rqa1Ifs8imRA",
        "colab_type": "code",
        "colab": {
          "base_uri": "https://localhost:8080/",
          "height": 35
        },
        "outputId": "c7beb724-570c-4a1d-c344-1c37b5102bc5"
      },
      "source": [
        "EntropyLeftSplit = -((8/13)*np.log2(8/13) + (5/13)*np.log2(5/13))\n",
        "EntropyLeftSplit"
      ],
      "execution_count": 55,
      "outputs": [
        {
          "output_type": "execute_result",
          "data": {
            "text/plain": [
              "0.9612366047228759"
            ]
          },
          "metadata": {
            "tags": []
          },
          "execution_count": 55
        }
      ]
    },
    {
      "cell_type": "code",
      "metadata": {
        "id": "a0V7bboIi3f_",
        "colab_type": "code",
        "colab": {
          "base_uri": "https://localhost:8080/",
          "height": 509
        },
        "outputId": "7a516297-5ae4-4fa3-ea2b-9d1acde2042d"
      },
      "source": [
        "# Right side\n",
        "data_1[data_1.act > 0.5]"
      ],
      "execution_count": 56,
      "outputs": [
        {
          "output_type": "execute_result",
          "data": {
            "text/html": [
              "<div>\n",
              "<style scoped>\n",
              "    .dataframe tbody tr th:only-of-type {\n",
              "        vertical-align: middle;\n",
              "    }\n",
              "\n",
              "    .dataframe tbody tr th {\n",
              "        vertical-align: top;\n",
              "    }\n",
              "\n",
              "    .dataframe thead th {\n",
              "        text-align: right;\n",
              "    }\n",
              "</style>\n",
              "<table border=\"1\" class=\"dataframe\">\n",
              "  <thead>\n",
              "    <tr style=\"text-align: right;\">\n",
              "      <th></th>\n",
              "      <th>Color</th>\n",
              "      <th>size</th>\n",
              "      <th>act</th>\n",
              "      <th>age</th>\n",
              "      <th>inflated</th>\n",
              "    </tr>\n",
              "  </thead>\n",
              "  <tbody>\n",
              "    <tr>\n",
              "      <th>0</th>\n",
              "      <td>1</td>\n",
              "      <td>1</td>\n",
              "      <td>1</td>\n",
              "      <td>0</td>\n",
              "      <td>1</td>\n",
              "    </tr>\n",
              "    <tr>\n",
              "      <th>1</th>\n",
              "      <td>1</td>\n",
              "      <td>1</td>\n",
              "      <td>1</td>\n",
              "      <td>1</td>\n",
              "      <td>0</td>\n",
              "    </tr>\n",
              "    <tr>\n",
              "      <th>4</th>\n",
              "      <td>1</td>\n",
              "      <td>0</td>\n",
              "      <td>1</td>\n",
              "      <td>0</td>\n",
              "      <td>1</td>\n",
              "    </tr>\n",
              "    <tr>\n",
              "      <th>5</th>\n",
              "      <td>1</td>\n",
              "      <td>0</td>\n",
              "      <td>1</td>\n",
              "      <td>1</td>\n",
              "      <td>0</td>\n",
              "    </tr>\n",
              "    <tr>\n",
              "      <th>8</th>\n",
              "      <td>0</td>\n",
              "      <td>1</td>\n",
              "      <td>1</td>\n",
              "      <td>0</td>\n",
              "      <td>1</td>\n",
              "    </tr>\n",
              "    <tr>\n",
              "      <th>9</th>\n",
              "      <td>0</td>\n",
              "      <td>1</td>\n",
              "      <td>1</td>\n",
              "      <td>1</td>\n",
              "      <td>0</td>\n",
              "    </tr>\n",
              "    <tr>\n",
              "      <th>12</th>\n",
              "      <td>0</td>\n",
              "      <td>0</td>\n",
              "      <td>1</td>\n",
              "      <td>0</td>\n",
              "      <td>1</td>\n",
              "    </tr>\n",
              "    <tr>\n",
              "      <th>13</th>\n",
              "      <td>0</td>\n",
              "      <td>0</td>\n",
              "      <td>1</td>\n",
              "      <td>1</td>\n",
              "      <td>0</td>\n",
              "    </tr>\n",
              "    <tr>\n",
              "      <th>16</th>\n",
              "      <td>1</td>\n",
              "      <td>1</td>\n",
              "      <td>1</td>\n",
              "      <td>1</td>\n",
              "      <td>1</td>\n",
              "    </tr>\n",
              "    <tr>\n",
              "      <th>18</th>\n",
              "      <td>1</td>\n",
              "      <td>0</td>\n",
              "      <td>1</td>\n",
              "      <td>1</td>\n",
              "      <td>1</td>\n",
              "    </tr>\n",
              "    <tr>\n",
              "      <th>20</th>\n",
              "      <td>0</td>\n",
              "      <td>1</td>\n",
              "      <td>1</td>\n",
              "      <td>1</td>\n",
              "      <td>1</td>\n",
              "    </tr>\n",
              "    <tr>\n",
              "      <th>22</th>\n",
              "      <td>0</td>\n",
              "      <td>0</td>\n",
              "      <td>1</td>\n",
              "      <td>1</td>\n",
              "      <td>1</td>\n",
              "    </tr>\n",
              "    <tr>\n",
              "      <th>25</th>\n",
              "      <td>1</td>\n",
              "      <td>0</td>\n",
              "      <td>1</td>\n",
              "      <td>0</td>\n",
              "      <td>0</td>\n",
              "    </tr>\n",
              "    <tr>\n",
              "      <th>26</th>\n",
              "      <td>0</td>\n",
              "      <td>1</td>\n",
              "      <td>1</td>\n",
              "      <td>0</td>\n",
              "      <td>0</td>\n",
              "    </tr>\n",
              "    <tr>\n",
              "      <th>27</th>\n",
              "      <td>0</td>\n",
              "      <td>0</td>\n",
              "      <td>1</td>\n",
              "      <td>0</td>\n",
              "      <td>0</td>\n",
              "    </tr>\n",
              "  </tbody>\n",
              "</table>\n",
              "</div>"
            ],
            "text/plain": [
              "    Color  size  act  age  inflated\n",
              "0       1     1    1    0         1\n",
              "1       1     1    1    1         0\n",
              "4       1     0    1    0         1\n",
              "5       1     0    1    1         0\n",
              "8       0     1    1    0         1\n",
              "9       0     1    1    1         0\n",
              "12      0     0    1    0         1\n",
              "13      0     0    1    1         0\n",
              "16      1     1    1    1         1\n",
              "18      1     0    1    1         1\n",
              "20      0     1    1    1         1\n",
              "22      0     0    1    1         1\n",
              "25      1     0    1    0         0\n",
              "26      0     1    1    0         0\n",
              "27      0     0    1    0         0"
            ]
          },
          "metadata": {
            "tags": []
          },
          "execution_count": 56
        }
      ]
    },
    {
      "cell_type": "code",
      "metadata": {
        "id": "DOcPnIvGjA4O",
        "colab_type": "code",
        "colab": {
          "base_uri": "https://localhost:8080/",
          "height": 69
        },
        "outputId": "cfa65d4d-1c95-4570-b3ef-e5c92fa3ad27"
      },
      "source": [
        "data_1[data_1.act > 0.5].inflated.value_counts()"
      ],
      "execution_count": 57,
      "outputs": [
        {
          "output_type": "execute_result",
          "data": {
            "text/plain": [
              "1    8\n",
              "0    7\n",
              "Name: inflated, dtype: int64"
            ]
          },
          "metadata": {
            "tags": []
          },
          "execution_count": 57
        }
      ]
    },
    {
      "cell_type": "code",
      "metadata": {
        "id": "Q_IsKr6CjEED",
        "colab_type": "code",
        "colab": {
          "base_uri": "https://localhost:8080/",
          "height": 35
        },
        "outputId": "7ba2d802-034a-427d-fab9-357e52577c37"
      },
      "source": [
        "EntropyRightSplit = -((8/15)*np.log2(8/15) + (7/15)*np.log2(7/15))\n",
        "EntropyRightSplit"
      ],
      "execution_count": 58,
      "outputs": [
        {
          "output_type": "execute_result",
          "data": {
            "text/plain": [
              "0.9967916319816366"
            ]
          },
          "metadata": {
            "tags": []
          },
          "execution_count": 58
        }
      ]
    },
    {
      "cell_type": "code",
      "metadata": {
        "id": "Tg3QvGqyjQfL",
        "colab_type": "code",
        "colab": {
          "base_uri": "https://localhost:8080/",
          "height": 35
        },
        "outputId": "0c56f552-e019-4dc2-c4b8-3f9ae7cd5021"
      },
      "source": [
        "EntropySplit = (13/28)* EntropyLeftSplit + (15/28)*EntropyRightSplit\n",
        "EntropySplit"
      ],
      "execution_count": 59,
      "outputs": [
        {
          "output_type": "execute_result",
          "data": {
            "text/plain": [
              "0.9802839407543549"
            ]
          },
          "metadata": {
            "tags": []
          },
          "execution_count": 59
        }
      ]
    },
    {
      "cell_type": "code",
      "metadata": {
        "id": "5rdC7D7zjlWA",
        "colab_type": "code",
        "colab": {
          "base_uri": "https://localhost:8080/",
          "height": 35
        },
        "outputId": "045e24bc-56aa-415b-a7b7-c3a9942c3e97"
      },
      "source": [
        "Information_Gain_Question_c = EntropyBeforeSplit - EntropySplit\n",
        "Information_Gain_Question_c "
      ],
      "execution_count": 60,
      "outputs": [
        {
          "output_type": "execute_result",
          "data": {
            "text/plain": [
              "0.016032578804607178"
            ]
          },
          "metadata": {
            "tags": []
          },
          "execution_count": 60
        }
      ]
    },
    {
      "cell_type": "markdown",
      "metadata": {
        "id": "fHg-eo8gn6NF",
        "colab_type": "text"
      },
      "source": [
        "<hr>\n",
        "\n",
        "* Let's check for question d."
      ]
    },
    {
      "cell_type": "code",
      "metadata": {
        "id": "n_iOjw_bjo1j",
        "colab_type": "code",
        "colab": {
          "base_uri": "https://localhost:8080/",
          "height": 509
        },
        "outputId": "5328beb5-3592-49fb-dd10-776c23dcebae"
      },
      "source": [
        "# Left side\n",
        "data_1[data_1.age <= 0.5]"
      ],
      "execution_count": 61,
      "outputs": [
        {
          "output_type": "execute_result",
          "data": {
            "text/html": [
              "<div>\n",
              "<style scoped>\n",
              "    .dataframe tbody tr th:only-of-type {\n",
              "        vertical-align: middle;\n",
              "    }\n",
              "\n",
              "    .dataframe tbody tr th {\n",
              "        vertical-align: top;\n",
              "    }\n",
              "\n",
              "    .dataframe thead th {\n",
              "        text-align: right;\n",
              "    }\n",
              "</style>\n",
              "<table border=\"1\" class=\"dataframe\">\n",
              "  <thead>\n",
              "    <tr style=\"text-align: right;\">\n",
              "      <th></th>\n",
              "      <th>Color</th>\n",
              "      <th>size</th>\n",
              "      <th>act</th>\n",
              "      <th>age</th>\n",
              "      <th>inflated</th>\n",
              "    </tr>\n",
              "  </thead>\n",
              "  <tbody>\n",
              "    <tr>\n",
              "      <th>0</th>\n",
              "      <td>1</td>\n",
              "      <td>1</td>\n",
              "      <td>1</td>\n",
              "      <td>0</td>\n",
              "      <td>1</td>\n",
              "    </tr>\n",
              "    <tr>\n",
              "      <th>2</th>\n",
              "      <td>1</td>\n",
              "      <td>1</td>\n",
              "      <td>0</td>\n",
              "      <td>0</td>\n",
              "      <td>0</td>\n",
              "    </tr>\n",
              "    <tr>\n",
              "      <th>4</th>\n",
              "      <td>1</td>\n",
              "      <td>0</td>\n",
              "      <td>1</td>\n",
              "      <td>0</td>\n",
              "      <td>1</td>\n",
              "    </tr>\n",
              "    <tr>\n",
              "      <th>6</th>\n",
              "      <td>1</td>\n",
              "      <td>0</td>\n",
              "      <td>0</td>\n",
              "      <td>0</td>\n",
              "      <td>0</td>\n",
              "    </tr>\n",
              "    <tr>\n",
              "      <th>8</th>\n",
              "      <td>0</td>\n",
              "      <td>1</td>\n",
              "      <td>1</td>\n",
              "      <td>0</td>\n",
              "      <td>1</td>\n",
              "    </tr>\n",
              "    <tr>\n",
              "      <th>10</th>\n",
              "      <td>0</td>\n",
              "      <td>1</td>\n",
              "      <td>0</td>\n",
              "      <td>0</td>\n",
              "      <td>0</td>\n",
              "    </tr>\n",
              "    <tr>\n",
              "      <th>12</th>\n",
              "      <td>0</td>\n",
              "      <td>0</td>\n",
              "      <td>1</td>\n",
              "      <td>0</td>\n",
              "      <td>1</td>\n",
              "    </tr>\n",
              "    <tr>\n",
              "      <th>14</th>\n",
              "      <td>0</td>\n",
              "      <td>0</td>\n",
              "      <td>0</td>\n",
              "      <td>0</td>\n",
              "      <td>0</td>\n",
              "    </tr>\n",
              "    <tr>\n",
              "      <th>17</th>\n",
              "      <td>1</td>\n",
              "      <td>1</td>\n",
              "      <td>0</td>\n",
              "      <td>0</td>\n",
              "      <td>1</td>\n",
              "    </tr>\n",
              "    <tr>\n",
              "      <th>19</th>\n",
              "      <td>1</td>\n",
              "      <td>0</td>\n",
              "      <td>0</td>\n",
              "      <td>0</td>\n",
              "      <td>1</td>\n",
              "    </tr>\n",
              "    <tr>\n",
              "      <th>21</th>\n",
              "      <td>0</td>\n",
              "      <td>1</td>\n",
              "      <td>0</td>\n",
              "      <td>0</td>\n",
              "      <td>1</td>\n",
              "    </tr>\n",
              "    <tr>\n",
              "      <th>23</th>\n",
              "      <td>0</td>\n",
              "      <td>0</td>\n",
              "      <td>0</td>\n",
              "      <td>0</td>\n",
              "      <td>1</td>\n",
              "    </tr>\n",
              "    <tr>\n",
              "      <th>25</th>\n",
              "      <td>1</td>\n",
              "      <td>0</td>\n",
              "      <td>1</td>\n",
              "      <td>0</td>\n",
              "      <td>0</td>\n",
              "    </tr>\n",
              "    <tr>\n",
              "      <th>26</th>\n",
              "      <td>0</td>\n",
              "      <td>1</td>\n",
              "      <td>1</td>\n",
              "      <td>0</td>\n",
              "      <td>0</td>\n",
              "    </tr>\n",
              "    <tr>\n",
              "      <th>27</th>\n",
              "      <td>0</td>\n",
              "      <td>0</td>\n",
              "      <td>1</td>\n",
              "      <td>0</td>\n",
              "      <td>0</td>\n",
              "    </tr>\n",
              "  </tbody>\n",
              "</table>\n",
              "</div>"
            ],
            "text/plain": [
              "    Color  size  act  age  inflated\n",
              "0       1     1    1    0         1\n",
              "2       1     1    0    0         0\n",
              "4       1     0    1    0         1\n",
              "6       1     0    0    0         0\n",
              "8       0     1    1    0         1\n",
              "10      0     1    0    0         0\n",
              "12      0     0    1    0         1\n",
              "14      0     0    0    0         0\n",
              "17      1     1    0    0         1\n",
              "19      1     0    0    0         1\n",
              "21      0     1    0    0         1\n",
              "23      0     0    0    0         1\n",
              "25      1     0    1    0         0\n",
              "26      0     1    1    0         0\n",
              "27      0     0    1    0         0"
            ]
          },
          "metadata": {
            "tags": []
          },
          "execution_count": 61
        }
      ]
    },
    {
      "cell_type": "code",
      "metadata": {
        "id": "l1imSoPioHFg",
        "colab_type": "code",
        "colab": {
          "base_uri": "https://localhost:8080/",
          "height": 69
        },
        "outputId": "7d4f9d4b-bb39-4773-a683-0dadb8f115f6"
      },
      "source": [
        "data_1[data_1.age <= 0.5].inflated.value_counts()"
      ],
      "execution_count": 62,
      "outputs": [
        {
          "output_type": "execute_result",
          "data": {
            "text/plain": [
              "1    8\n",
              "0    7\n",
              "Name: inflated, dtype: int64"
            ]
          },
          "metadata": {
            "tags": []
          },
          "execution_count": 62
        }
      ]
    },
    {
      "cell_type": "code",
      "metadata": {
        "id": "-ghq1mXFoKVb",
        "colab_type": "code",
        "colab": {
          "base_uri": "https://localhost:8080/",
          "height": 35
        },
        "outputId": "d7bb57c6-5a48-4759-cc4a-9560e78fdd39"
      },
      "source": [
        "EntropyLeftSplit = -((8/15)*np.log2(8/15) + (7/15)*np.log2(7/15))\n",
        "EntropyLeftSplit"
      ],
      "execution_count": 63,
      "outputs": [
        {
          "output_type": "execute_result",
          "data": {
            "text/plain": [
              "0.9967916319816366"
            ]
          },
          "metadata": {
            "tags": []
          },
          "execution_count": 63
        }
      ]
    },
    {
      "cell_type": "code",
      "metadata": {
        "id": "6WTCey57oaJh",
        "colab_type": "code",
        "colab": {
          "base_uri": "https://localhost:8080/",
          "height": 447
        },
        "outputId": "5fc3a5ba-3196-47cd-aee7-2c2519f21807"
      },
      "source": [
        "# Right side\n",
        "data_1[data_1.age > 0.5]"
      ],
      "execution_count": 64,
      "outputs": [
        {
          "output_type": "execute_result",
          "data": {
            "text/html": [
              "<div>\n",
              "<style scoped>\n",
              "    .dataframe tbody tr th:only-of-type {\n",
              "        vertical-align: middle;\n",
              "    }\n",
              "\n",
              "    .dataframe tbody tr th {\n",
              "        vertical-align: top;\n",
              "    }\n",
              "\n",
              "    .dataframe thead th {\n",
              "        text-align: right;\n",
              "    }\n",
              "</style>\n",
              "<table border=\"1\" class=\"dataframe\">\n",
              "  <thead>\n",
              "    <tr style=\"text-align: right;\">\n",
              "      <th></th>\n",
              "      <th>Color</th>\n",
              "      <th>size</th>\n",
              "      <th>act</th>\n",
              "      <th>age</th>\n",
              "      <th>inflated</th>\n",
              "    </tr>\n",
              "  </thead>\n",
              "  <tbody>\n",
              "    <tr>\n",
              "      <th>1</th>\n",
              "      <td>1</td>\n",
              "      <td>1</td>\n",
              "      <td>1</td>\n",
              "      <td>1</td>\n",
              "      <td>0</td>\n",
              "    </tr>\n",
              "    <tr>\n",
              "      <th>3</th>\n",
              "      <td>1</td>\n",
              "      <td>1</td>\n",
              "      <td>0</td>\n",
              "      <td>1</td>\n",
              "      <td>0</td>\n",
              "    </tr>\n",
              "    <tr>\n",
              "      <th>5</th>\n",
              "      <td>1</td>\n",
              "      <td>0</td>\n",
              "      <td>1</td>\n",
              "      <td>1</td>\n",
              "      <td>0</td>\n",
              "    </tr>\n",
              "    <tr>\n",
              "      <th>7</th>\n",
              "      <td>1</td>\n",
              "      <td>0</td>\n",
              "      <td>0</td>\n",
              "      <td>1</td>\n",
              "      <td>0</td>\n",
              "    </tr>\n",
              "    <tr>\n",
              "      <th>9</th>\n",
              "      <td>0</td>\n",
              "      <td>1</td>\n",
              "      <td>1</td>\n",
              "      <td>1</td>\n",
              "      <td>0</td>\n",
              "    </tr>\n",
              "    <tr>\n",
              "      <th>11</th>\n",
              "      <td>0</td>\n",
              "      <td>1</td>\n",
              "      <td>0</td>\n",
              "      <td>1</td>\n",
              "      <td>0</td>\n",
              "    </tr>\n",
              "    <tr>\n",
              "      <th>13</th>\n",
              "      <td>0</td>\n",
              "      <td>0</td>\n",
              "      <td>1</td>\n",
              "      <td>1</td>\n",
              "      <td>0</td>\n",
              "    </tr>\n",
              "    <tr>\n",
              "      <th>15</th>\n",
              "      <td>0</td>\n",
              "      <td>0</td>\n",
              "      <td>0</td>\n",
              "      <td>1</td>\n",
              "      <td>0</td>\n",
              "    </tr>\n",
              "    <tr>\n",
              "      <th>16</th>\n",
              "      <td>1</td>\n",
              "      <td>1</td>\n",
              "      <td>1</td>\n",
              "      <td>1</td>\n",
              "      <td>1</td>\n",
              "    </tr>\n",
              "    <tr>\n",
              "      <th>18</th>\n",
              "      <td>1</td>\n",
              "      <td>0</td>\n",
              "      <td>1</td>\n",
              "      <td>1</td>\n",
              "      <td>1</td>\n",
              "    </tr>\n",
              "    <tr>\n",
              "      <th>20</th>\n",
              "      <td>0</td>\n",
              "      <td>1</td>\n",
              "      <td>1</td>\n",
              "      <td>1</td>\n",
              "      <td>1</td>\n",
              "    </tr>\n",
              "    <tr>\n",
              "      <th>22</th>\n",
              "      <td>0</td>\n",
              "      <td>0</td>\n",
              "      <td>1</td>\n",
              "      <td>1</td>\n",
              "      <td>1</td>\n",
              "    </tr>\n",
              "    <tr>\n",
              "      <th>24</th>\n",
              "      <td>1</td>\n",
              "      <td>1</td>\n",
              "      <td>0</td>\n",
              "      <td>1</td>\n",
              "      <td>1</td>\n",
              "    </tr>\n",
              "  </tbody>\n",
              "</table>\n",
              "</div>"
            ],
            "text/plain": [
              "    Color  size  act  age  inflated\n",
              "1       1     1    1    1         0\n",
              "3       1     1    0    1         0\n",
              "5       1     0    1    1         0\n",
              "7       1     0    0    1         0\n",
              "9       0     1    1    1         0\n",
              "11      0     1    0    1         0\n",
              "13      0     0    1    1         0\n",
              "15      0     0    0    1         0\n",
              "16      1     1    1    1         1\n",
              "18      1     0    1    1         1\n",
              "20      0     1    1    1         1\n",
              "22      0     0    1    1         1\n",
              "24      1     1    0    1         1"
            ]
          },
          "metadata": {
            "tags": []
          },
          "execution_count": 64
        }
      ]
    },
    {
      "cell_type": "code",
      "metadata": {
        "id": "pHQ0z99xofpS",
        "colab_type": "code",
        "colab": {
          "base_uri": "https://localhost:8080/",
          "height": 69
        },
        "outputId": "049e202c-cc62-4a54-82f0-e97853a6b1d8"
      },
      "source": [
        "data_1[data_1.age > 0.5].inflated.value_counts()"
      ],
      "execution_count": 65,
      "outputs": [
        {
          "output_type": "execute_result",
          "data": {
            "text/plain": [
              "0    8\n",
              "1    5\n",
              "Name: inflated, dtype: int64"
            ]
          },
          "metadata": {
            "tags": []
          },
          "execution_count": 65
        }
      ]
    },
    {
      "cell_type": "code",
      "metadata": {
        "id": "5ghTgutNoiW4",
        "colab_type": "code",
        "colab": {
          "base_uri": "https://localhost:8080/",
          "height": 35
        },
        "outputId": "76b9d7bf-df86-413c-a54d-ed94a3c48338"
      },
      "source": [
        "EntropyRightSplit = -((8/13)*np.log2(8/13) + (5/13)*np.log2(5/13))\n",
        "EntropyRightSplit"
      ],
      "execution_count": 66,
      "outputs": [
        {
          "output_type": "execute_result",
          "data": {
            "text/plain": [
              "0.9612366047228759"
            ]
          },
          "metadata": {
            "tags": []
          },
          "execution_count": 66
        }
      ]
    },
    {
      "cell_type": "code",
      "metadata": {
        "id": "OcjEw7kYo7Db",
        "colab_type": "code",
        "colab": {
          "base_uri": "https://localhost:8080/",
          "height": 35
        },
        "outputId": "a9034c0b-6c35-4e43-f211-8f6ce8681ad5"
      },
      "source": [
        "EntropySplit = (15/28)* EntropyLeftSplit + (13/28)*EntropyRightSplit\n",
        "EntropySplit"
      ],
      "execution_count": 67,
      "outputs": [
        {
          "output_type": "execute_result",
          "data": {
            "text/plain": [
              "0.9802839407543549"
            ]
          },
          "metadata": {
            "tags": []
          },
          "execution_count": 67
        }
      ]
    },
    {
      "cell_type": "code",
      "metadata": {
        "id": "ZlRv9E_9pLbk",
        "colab_type": "code",
        "colab": {
          "base_uri": "https://localhost:8080/",
          "height": 35
        },
        "outputId": "18c293d7-7dd0-4e0b-df67-ba997e46d568"
      },
      "source": [
        "Information_Gain_Question_d = EntropyBeforeSplit - EntropySplit\n",
        "Information_Gain_Question_d"
      ],
      "execution_count": 68,
      "outputs": [
        {
          "output_type": "execute_result",
          "data": {
            "text/plain": [
              "0.016032578804607178"
            ]
          },
          "metadata": {
            "tags": []
          },
          "execution_count": 68
        }
      ]
    },
    {
      "cell_type": "markdown",
      "metadata": {
        "id": "8PD2RmfYqGlj",
        "colab_type": "text"
      },
      "source": [
        "* **Now, we will be creating the subtree, root is decision (d)**"
      ]
    },
    {
      "cell_type": "code",
      "metadata": {
        "id": "iUlu6ZeYpRZK",
        "colab_type": "code",
        "colab": {}
      },
      "source": [
        "subtree = data_1[data_1.age <= 0.5]"
      ],
      "execution_count": 0,
      "outputs": []
    },
    {
      "cell_type": "code",
      "metadata": {
        "id": "PzS1Pan-qh_Z",
        "colab_type": "code",
        "colab": {
          "base_uri": "https://localhost:8080/",
          "height": 509
        },
        "outputId": "7f6670c5-fb88-4152-f884-f0055faf344f"
      },
      "source": [
        "subtree"
      ],
      "execution_count": 83,
      "outputs": [
        {
          "output_type": "execute_result",
          "data": {
            "text/html": [
              "<div>\n",
              "<style scoped>\n",
              "    .dataframe tbody tr th:only-of-type {\n",
              "        vertical-align: middle;\n",
              "    }\n",
              "\n",
              "    .dataframe tbody tr th {\n",
              "        vertical-align: top;\n",
              "    }\n",
              "\n",
              "    .dataframe thead th {\n",
              "        text-align: right;\n",
              "    }\n",
              "</style>\n",
              "<table border=\"1\" class=\"dataframe\">\n",
              "  <thead>\n",
              "    <tr style=\"text-align: right;\">\n",
              "      <th></th>\n",
              "      <th>Color</th>\n",
              "      <th>size</th>\n",
              "      <th>act</th>\n",
              "      <th>age</th>\n",
              "      <th>inflated</th>\n",
              "    </tr>\n",
              "  </thead>\n",
              "  <tbody>\n",
              "    <tr>\n",
              "      <th>0</th>\n",
              "      <td>1</td>\n",
              "      <td>1</td>\n",
              "      <td>1</td>\n",
              "      <td>0</td>\n",
              "      <td>1</td>\n",
              "    </tr>\n",
              "    <tr>\n",
              "      <th>2</th>\n",
              "      <td>1</td>\n",
              "      <td>1</td>\n",
              "      <td>0</td>\n",
              "      <td>0</td>\n",
              "      <td>0</td>\n",
              "    </tr>\n",
              "    <tr>\n",
              "      <th>4</th>\n",
              "      <td>1</td>\n",
              "      <td>0</td>\n",
              "      <td>1</td>\n",
              "      <td>0</td>\n",
              "      <td>1</td>\n",
              "    </tr>\n",
              "    <tr>\n",
              "      <th>6</th>\n",
              "      <td>1</td>\n",
              "      <td>0</td>\n",
              "      <td>0</td>\n",
              "      <td>0</td>\n",
              "      <td>0</td>\n",
              "    </tr>\n",
              "    <tr>\n",
              "      <th>8</th>\n",
              "      <td>0</td>\n",
              "      <td>1</td>\n",
              "      <td>1</td>\n",
              "      <td>0</td>\n",
              "      <td>1</td>\n",
              "    </tr>\n",
              "    <tr>\n",
              "      <th>10</th>\n",
              "      <td>0</td>\n",
              "      <td>1</td>\n",
              "      <td>0</td>\n",
              "      <td>0</td>\n",
              "      <td>0</td>\n",
              "    </tr>\n",
              "    <tr>\n",
              "      <th>12</th>\n",
              "      <td>0</td>\n",
              "      <td>0</td>\n",
              "      <td>1</td>\n",
              "      <td>0</td>\n",
              "      <td>1</td>\n",
              "    </tr>\n",
              "    <tr>\n",
              "      <th>14</th>\n",
              "      <td>0</td>\n",
              "      <td>0</td>\n",
              "      <td>0</td>\n",
              "      <td>0</td>\n",
              "      <td>0</td>\n",
              "    </tr>\n",
              "    <tr>\n",
              "      <th>17</th>\n",
              "      <td>1</td>\n",
              "      <td>1</td>\n",
              "      <td>0</td>\n",
              "      <td>0</td>\n",
              "      <td>1</td>\n",
              "    </tr>\n",
              "    <tr>\n",
              "      <th>19</th>\n",
              "      <td>1</td>\n",
              "      <td>0</td>\n",
              "      <td>0</td>\n",
              "      <td>0</td>\n",
              "      <td>1</td>\n",
              "    </tr>\n",
              "    <tr>\n",
              "      <th>21</th>\n",
              "      <td>0</td>\n",
              "      <td>1</td>\n",
              "      <td>0</td>\n",
              "      <td>0</td>\n",
              "      <td>1</td>\n",
              "    </tr>\n",
              "    <tr>\n",
              "      <th>23</th>\n",
              "      <td>0</td>\n",
              "      <td>0</td>\n",
              "      <td>0</td>\n",
              "      <td>0</td>\n",
              "      <td>1</td>\n",
              "    </tr>\n",
              "    <tr>\n",
              "      <th>25</th>\n",
              "      <td>1</td>\n",
              "      <td>0</td>\n",
              "      <td>1</td>\n",
              "      <td>0</td>\n",
              "      <td>0</td>\n",
              "    </tr>\n",
              "    <tr>\n",
              "      <th>26</th>\n",
              "      <td>0</td>\n",
              "      <td>1</td>\n",
              "      <td>1</td>\n",
              "      <td>0</td>\n",
              "      <td>0</td>\n",
              "    </tr>\n",
              "    <tr>\n",
              "      <th>27</th>\n",
              "      <td>0</td>\n",
              "      <td>0</td>\n",
              "      <td>1</td>\n",
              "      <td>0</td>\n",
              "      <td>0</td>\n",
              "    </tr>\n",
              "  </tbody>\n",
              "</table>\n",
              "</div>"
            ],
            "text/plain": [
              "    Color  size  act  age  inflated\n",
              "0       1     1    1    0         1\n",
              "2       1     1    0    0         0\n",
              "4       1     0    1    0         1\n",
              "6       1     0    0    0         0\n",
              "8       0     1    1    0         1\n",
              "10      0     1    0    0         0\n",
              "12      0     0    1    0         1\n",
              "14      0     0    0    0         0\n",
              "17      1     1    0    0         1\n",
              "19      1     0    0    0         1\n",
              "21      0     1    0    0         1\n",
              "23      0     0    0    0         1\n",
              "25      1     0    1    0         0\n",
              "26      0     1    1    0         0\n",
              "27      0     0    1    0         0"
            ]
          },
          "metadata": {
            "tags": []
          },
          "execution_count": 83
        }
      ]
    },
    {
      "cell_type": "code",
      "metadata": {
        "id": "8us0A6t1wK9y",
        "colab_type": "code",
        "colab": {
          "base_uri": "https://localhost:8080/",
          "height": 69
        },
        "outputId": "4fd4e02a-5e01-4483-eb4d-9a379556acf6"
      },
      "source": [
        "subtree.inflated.value_counts()"
      ],
      "execution_count": 84,
      "outputs": [
        {
          "output_type": "execute_result",
          "data": {
            "text/plain": [
              "1    8\n",
              "0    7\n",
              "Name: inflated, dtype: int64"
            ]
          },
          "metadata": {
            "tags": []
          },
          "execution_count": 84
        }
      ]
    },
    {
      "cell_type": "code",
      "metadata": {
        "id": "NputU2SmwK0_",
        "colab_type": "code",
        "colab": {
          "base_uri": "https://localhost:8080/",
          "height": 35
        },
        "outputId": "8e1908d3-0dcc-4b16-ab98-7215791fda09"
      },
      "source": [
        "EntropyBeforeSplit = - ((8/15)*np.log2(8/15) + (7/15)*np.log2(7/15))\n",
        "EntropyBeforeSplit"
      ],
      "execution_count": 85,
      "outputs": [
        {
          "output_type": "execute_result",
          "data": {
            "text/plain": [
              "0.9967916319816366"
            ]
          },
          "metadata": {
            "tags": []
          },
          "execution_count": 85
        }
      ]
    },
    {
      "cell_type": "markdown",
      "metadata": {
        "id": "pZr4WqEcxCbg",
        "colab_type": "text"
      },
      "source": [
        "* Let's test for questions c (act <= 0.5)"
      ]
    },
    {
      "cell_type": "code",
      "metadata": {
        "id": "jPTHGRjrwKr4",
        "colab_type": "code",
        "colab": {
          "base_uri": "https://localhost:8080/",
          "height": 294
        },
        "outputId": "1c5f742e-cd0d-4e2a-ad89-acab6d0b6556"
      },
      "source": [
        "# Left side\n",
        "subtree[subtree.act <= 0.5]"
      ],
      "execution_count": 86,
      "outputs": [
        {
          "output_type": "execute_result",
          "data": {
            "text/html": [
              "<div>\n",
              "<style scoped>\n",
              "    .dataframe tbody tr th:only-of-type {\n",
              "        vertical-align: middle;\n",
              "    }\n",
              "\n",
              "    .dataframe tbody tr th {\n",
              "        vertical-align: top;\n",
              "    }\n",
              "\n",
              "    .dataframe thead th {\n",
              "        text-align: right;\n",
              "    }\n",
              "</style>\n",
              "<table border=\"1\" class=\"dataframe\">\n",
              "  <thead>\n",
              "    <tr style=\"text-align: right;\">\n",
              "      <th></th>\n",
              "      <th>Color</th>\n",
              "      <th>size</th>\n",
              "      <th>act</th>\n",
              "      <th>age</th>\n",
              "      <th>inflated</th>\n",
              "    </tr>\n",
              "  </thead>\n",
              "  <tbody>\n",
              "    <tr>\n",
              "      <th>2</th>\n",
              "      <td>1</td>\n",
              "      <td>1</td>\n",
              "      <td>0</td>\n",
              "      <td>0</td>\n",
              "      <td>0</td>\n",
              "    </tr>\n",
              "    <tr>\n",
              "      <th>6</th>\n",
              "      <td>1</td>\n",
              "      <td>0</td>\n",
              "      <td>0</td>\n",
              "      <td>0</td>\n",
              "      <td>0</td>\n",
              "    </tr>\n",
              "    <tr>\n",
              "      <th>10</th>\n",
              "      <td>0</td>\n",
              "      <td>1</td>\n",
              "      <td>0</td>\n",
              "      <td>0</td>\n",
              "      <td>0</td>\n",
              "    </tr>\n",
              "    <tr>\n",
              "      <th>14</th>\n",
              "      <td>0</td>\n",
              "      <td>0</td>\n",
              "      <td>0</td>\n",
              "      <td>0</td>\n",
              "      <td>0</td>\n",
              "    </tr>\n",
              "    <tr>\n",
              "      <th>17</th>\n",
              "      <td>1</td>\n",
              "      <td>1</td>\n",
              "      <td>0</td>\n",
              "      <td>0</td>\n",
              "      <td>1</td>\n",
              "    </tr>\n",
              "    <tr>\n",
              "      <th>19</th>\n",
              "      <td>1</td>\n",
              "      <td>0</td>\n",
              "      <td>0</td>\n",
              "      <td>0</td>\n",
              "      <td>1</td>\n",
              "    </tr>\n",
              "    <tr>\n",
              "      <th>21</th>\n",
              "      <td>0</td>\n",
              "      <td>1</td>\n",
              "      <td>0</td>\n",
              "      <td>0</td>\n",
              "      <td>1</td>\n",
              "    </tr>\n",
              "    <tr>\n",
              "      <th>23</th>\n",
              "      <td>0</td>\n",
              "      <td>0</td>\n",
              "      <td>0</td>\n",
              "      <td>0</td>\n",
              "      <td>1</td>\n",
              "    </tr>\n",
              "  </tbody>\n",
              "</table>\n",
              "</div>"
            ],
            "text/plain": [
              "    Color  size  act  age  inflated\n",
              "2       1     1    0    0         0\n",
              "6       1     0    0    0         0\n",
              "10      0     1    0    0         0\n",
              "14      0     0    0    0         0\n",
              "17      1     1    0    0         1\n",
              "19      1     0    0    0         1\n",
              "21      0     1    0    0         1\n",
              "23      0     0    0    0         1"
            ]
          },
          "metadata": {
            "tags": []
          },
          "execution_count": 86
        }
      ]
    },
    {
      "cell_type": "code",
      "metadata": {
        "id": "GY__CCJEwKkV",
        "colab_type": "code",
        "colab": {
          "base_uri": "https://localhost:8080/",
          "height": 69
        },
        "outputId": "ddc175ca-ad54-413e-93c3-7181d7c83d9d"
      },
      "source": [
        "subtree[subtree.act <= 0.5].inflated.value_counts()"
      ],
      "execution_count": 87,
      "outputs": [
        {
          "output_type": "execute_result",
          "data": {
            "text/plain": [
              "1    4\n",
              "0    4\n",
              "Name: inflated, dtype: int64"
            ]
          },
          "metadata": {
            "tags": []
          },
          "execution_count": 87
        }
      ]
    },
    {
      "cell_type": "code",
      "metadata": {
        "id": "sElfN8piwKca",
        "colab_type": "code",
        "colab": {
          "base_uri": "https://localhost:8080/",
          "height": 35
        },
        "outputId": "971d7ef0-c9b1-44d6-b634-d0c8ce455cbf"
      },
      "source": [
        "EntropyLeftSplit = -((4/8)*np.log2(4/8) + (4/8)*np.log2(4/8))\n",
        "EntropyLeftSplit\n"
      ],
      "execution_count": 88,
      "outputs": [
        {
          "output_type": "execute_result",
          "data": {
            "text/plain": [
              "1.0"
            ]
          },
          "metadata": {
            "tags": []
          },
          "execution_count": 88
        }
      ]
    },
    {
      "cell_type": "code",
      "metadata": {
        "id": "m6SM72v2wKSI",
        "colab_type": "code",
        "colab": {
          "base_uri": "https://localhost:8080/",
          "height": 263
        },
        "outputId": "b946cb0e-ece5-4e59-b737-c11c3ac0c86c"
      },
      "source": [
        "# Right side\n",
        "subtree[subtree.act > 0.5]"
      ],
      "execution_count": 89,
      "outputs": [
        {
          "output_type": "execute_result",
          "data": {
            "text/html": [
              "<div>\n",
              "<style scoped>\n",
              "    .dataframe tbody tr th:only-of-type {\n",
              "        vertical-align: middle;\n",
              "    }\n",
              "\n",
              "    .dataframe tbody tr th {\n",
              "        vertical-align: top;\n",
              "    }\n",
              "\n",
              "    .dataframe thead th {\n",
              "        text-align: right;\n",
              "    }\n",
              "</style>\n",
              "<table border=\"1\" class=\"dataframe\">\n",
              "  <thead>\n",
              "    <tr style=\"text-align: right;\">\n",
              "      <th></th>\n",
              "      <th>Color</th>\n",
              "      <th>size</th>\n",
              "      <th>act</th>\n",
              "      <th>age</th>\n",
              "      <th>inflated</th>\n",
              "    </tr>\n",
              "  </thead>\n",
              "  <tbody>\n",
              "    <tr>\n",
              "      <th>0</th>\n",
              "      <td>1</td>\n",
              "      <td>1</td>\n",
              "      <td>1</td>\n",
              "      <td>0</td>\n",
              "      <td>1</td>\n",
              "    </tr>\n",
              "    <tr>\n",
              "      <th>4</th>\n",
              "      <td>1</td>\n",
              "      <td>0</td>\n",
              "      <td>1</td>\n",
              "      <td>0</td>\n",
              "      <td>1</td>\n",
              "    </tr>\n",
              "    <tr>\n",
              "      <th>8</th>\n",
              "      <td>0</td>\n",
              "      <td>1</td>\n",
              "      <td>1</td>\n",
              "      <td>0</td>\n",
              "      <td>1</td>\n",
              "    </tr>\n",
              "    <tr>\n",
              "      <th>12</th>\n",
              "      <td>0</td>\n",
              "      <td>0</td>\n",
              "      <td>1</td>\n",
              "      <td>0</td>\n",
              "      <td>1</td>\n",
              "    </tr>\n",
              "    <tr>\n",
              "      <th>25</th>\n",
              "      <td>1</td>\n",
              "      <td>0</td>\n",
              "      <td>1</td>\n",
              "      <td>0</td>\n",
              "      <td>0</td>\n",
              "    </tr>\n",
              "    <tr>\n",
              "      <th>26</th>\n",
              "      <td>0</td>\n",
              "      <td>1</td>\n",
              "      <td>1</td>\n",
              "      <td>0</td>\n",
              "      <td>0</td>\n",
              "    </tr>\n",
              "    <tr>\n",
              "      <th>27</th>\n",
              "      <td>0</td>\n",
              "      <td>0</td>\n",
              "      <td>1</td>\n",
              "      <td>0</td>\n",
              "      <td>0</td>\n",
              "    </tr>\n",
              "  </tbody>\n",
              "</table>\n",
              "</div>"
            ],
            "text/plain": [
              "    Color  size  act  age  inflated\n",
              "0       1     1    1    0         1\n",
              "4       1     0    1    0         1\n",
              "8       0     1    1    0         1\n",
              "12      0     0    1    0         1\n",
              "25      1     0    1    0         0\n",
              "26      0     1    1    0         0\n",
              "27      0     0    1    0         0"
            ]
          },
          "metadata": {
            "tags": []
          },
          "execution_count": 89
        }
      ]
    },
    {
      "cell_type": "code",
      "metadata": {
        "id": "TB3cNnalyHq8",
        "colab_type": "code",
        "colab": {
          "base_uri": "https://localhost:8080/",
          "height": 69
        },
        "outputId": "a09d50e5-f848-4176-c955-753220295f54"
      },
      "source": [
        "subtree[subtree.act > 0.5].inflated.value_counts()"
      ],
      "execution_count": 90,
      "outputs": [
        {
          "output_type": "execute_result",
          "data": {
            "text/plain": [
              "1    4\n",
              "0    3\n",
              "Name: inflated, dtype: int64"
            ]
          },
          "metadata": {
            "tags": []
          },
          "execution_count": 90
        }
      ]
    },
    {
      "cell_type": "code",
      "metadata": {
        "id": "ot05btchyHiz",
        "colab_type": "code",
        "colab": {
          "base_uri": "https://localhost:8080/",
          "height": 35
        },
        "outputId": "503da322-1ad1-4e82-f1b9-28e4f1e9bc96"
      },
      "source": [
        "EntropyRightSplit = -((4/7)*np.log2(4/7) + (3/7)*np.log2(3/7))\n",
        "EntropyRightSplit"
      ],
      "execution_count": 91,
      "outputs": [
        {
          "output_type": "execute_result",
          "data": {
            "text/plain": [
              "0.9852281360342515"
            ]
          },
          "metadata": {
            "tags": []
          },
          "execution_count": 91
        }
      ]
    },
    {
      "cell_type": "code",
      "metadata": {
        "id": "bqJc2Ph5yHfA",
        "colab_type": "code",
        "colab": {
          "base_uri": "https://localhost:8080/",
          "height": 35
        },
        "outputId": "e85652ce-6360-4238-dd99-9015fd3b7608"
      },
      "source": [
        "EntropySplit = (8/15)* EntropyLeftSplit + (7/15)*EntropyRightSplit\n",
        "EntropySplit"
      ],
      "execution_count": 92,
      "outputs": [
        {
          "output_type": "execute_result",
          "data": {
            "text/plain": [
              "0.9931064634826507"
            ]
          },
          "metadata": {
            "tags": []
          },
          "execution_count": 92
        }
      ]
    },
    {
      "cell_type": "code",
      "metadata": {
        "id": "nrFd00xUyHW7",
        "colab_type": "code",
        "colab": {
          "base_uri": "https://localhost:8080/",
          "height": 35
        },
        "outputId": "12829565-6220-4e5e-bb33-8eec4bb193ad"
      },
      "source": [
        "Information_Gain_Question_c = EntropyBeforeSplit - EntropySplit\n",
        "Information_Gain_Question_c "
      ],
      "execution_count": 93,
      "outputs": [
        {
          "output_type": "execute_result",
          "data": {
            "text/plain": [
              "0.0036851684989858136"
            ]
          },
          "metadata": {
            "tags": []
          },
          "execution_count": 93
        }
      ]
    },
    {
      "cell_type": "markdown",
      "metadata": {
        "id": "uirISBEzzyYn",
        "colab_type": "text"
      },
      "source": [
        "* Let's test for questions b (size <= 0.5)"
      ]
    },
    {
      "cell_type": "code",
      "metadata": {
        "id": "-jkceMj6yHO0",
        "colab_type": "code",
        "colab": {
          "base_uri": "https://localhost:8080/",
          "height": 294
        },
        "outputId": "0be818df-1933-4b58-8924-ae21d57585d1"
      },
      "source": [
        "# Left side\n",
        "subtree[subtree['size'] <= 0.5]"
      ],
      "execution_count": 94,
      "outputs": [
        {
          "output_type": "execute_result",
          "data": {
            "text/html": [
              "<div>\n",
              "<style scoped>\n",
              "    .dataframe tbody tr th:only-of-type {\n",
              "        vertical-align: middle;\n",
              "    }\n",
              "\n",
              "    .dataframe tbody tr th {\n",
              "        vertical-align: top;\n",
              "    }\n",
              "\n",
              "    .dataframe thead th {\n",
              "        text-align: right;\n",
              "    }\n",
              "</style>\n",
              "<table border=\"1\" class=\"dataframe\">\n",
              "  <thead>\n",
              "    <tr style=\"text-align: right;\">\n",
              "      <th></th>\n",
              "      <th>Color</th>\n",
              "      <th>size</th>\n",
              "      <th>act</th>\n",
              "      <th>age</th>\n",
              "      <th>inflated</th>\n",
              "    </tr>\n",
              "  </thead>\n",
              "  <tbody>\n",
              "    <tr>\n",
              "      <th>4</th>\n",
              "      <td>1</td>\n",
              "      <td>0</td>\n",
              "      <td>1</td>\n",
              "      <td>0</td>\n",
              "      <td>1</td>\n",
              "    </tr>\n",
              "    <tr>\n",
              "      <th>6</th>\n",
              "      <td>1</td>\n",
              "      <td>0</td>\n",
              "      <td>0</td>\n",
              "      <td>0</td>\n",
              "      <td>0</td>\n",
              "    </tr>\n",
              "    <tr>\n",
              "      <th>12</th>\n",
              "      <td>0</td>\n",
              "      <td>0</td>\n",
              "      <td>1</td>\n",
              "      <td>0</td>\n",
              "      <td>1</td>\n",
              "    </tr>\n",
              "    <tr>\n",
              "      <th>14</th>\n",
              "      <td>0</td>\n",
              "      <td>0</td>\n",
              "      <td>0</td>\n",
              "      <td>0</td>\n",
              "      <td>0</td>\n",
              "    </tr>\n",
              "    <tr>\n",
              "      <th>19</th>\n",
              "      <td>1</td>\n",
              "      <td>0</td>\n",
              "      <td>0</td>\n",
              "      <td>0</td>\n",
              "      <td>1</td>\n",
              "    </tr>\n",
              "    <tr>\n",
              "      <th>23</th>\n",
              "      <td>0</td>\n",
              "      <td>0</td>\n",
              "      <td>0</td>\n",
              "      <td>0</td>\n",
              "      <td>1</td>\n",
              "    </tr>\n",
              "    <tr>\n",
              "      <th>25</th>\n",
              "      <td>1</td>\n",
              "      <td>0</td>\n",
              "      <td>1</td>\n",
              "      <td>0</td>\n",
              "      <td>0</td>\n",
              "    </tr>\n",
              "    <tr>\n",
              "      <th>27</th>\n",
              "      <td>0</td>\n",
              "      <td>0</td>\n",
              "      <td>1</td>\n",
              "      <td>0</td>\n",
              "      <td>0</td>\n",
              "    </tr>\n",
              "  </tbody>\n",
              "</table>\n",
              "</div>"
            ],
            "text/plain": [
              "    Color  size  act  age  inflated\n",
              "4       1     0    1    0         1\n",
              "6       1     0    0    0         0\n",
              "12      0     0    1    0         1\n",
              "14      0     0    0    0         0\n",
              "19      1     0    0    0         1\n",
              "23      0     0    0    0         1\n",
              "25      1     0    1    0         0\n",
              "27      0     0    1    0         0"
            ]
          },
          "metadata": {
            "tags": []
          },
          "execution_count": 94
        }
      ]
    },
    {
      "cell_type": "code",
      "metadata": {
        "id": "UqQGT7aIyHGG",
        "colab_type": "code",
        "colab": {
          "base_uri": "https://localhost:8080/",
          "height": 69
        },
        "outputId": "7fc2cb3a-0c0d-452f-a202-5e49449d9727"
      },
      "source": [
        "subtree[subtree['size'] <= 0.5].inflated.value_counts()"
      ],
      "execution_count": 95,
      "outputs": [
        {
          "output_type": "execute_result",
          "data": {
            "text/plain": [
              "1    4\n",
              "0    4\n",
              "Name: inflated, dtype: int64"
            ]
          },
          "metadata": {
            "tags": []
          },
          "execution_count": 95
        }
      ]
    },
    {
      "cell_type": "code",
      "metadata": {
        "id": "UrTjnLb21Flz",
        "colab_type": "code",
        "colab": {
          "base_uri": "https://localhost:8080/",
          "height": 35
        },
        "outputId": "0192b5b4-6f09-49da-e51b-b5a133a767d1"
      },
      "source": [
        "EntropyLeftSplit = -((4/8)*np.log2(4/8) + (4/8)*np.log2(4/8))\n",
        "EntropyLeftSplit"
      ],
      "execution_count": 96,
      "outputs": [
        {
          "output_type": "execute_result",
          "data": {
            "text/plain": [
              "1.0"
            ]
          },
          "metadata": {
            "tags": []
          },
          "execution_count": 96
        }
      ]
    },
    {
      "cell_type": "code",
      "metadata": {
        "id": "ubet0Mb81Fkc",
        "colab_type": "code",
        "colab": {
          "base_uri": "https://localhost:8080/",
          "height": 263
        },
        "outputId": "a4c67e74-2925-48a9-ab1a-f7428d576ac9"
      },
      "source": [
        "# Right side\n",
        "subtree[subtree['size'] > 0.5]"
      ],
      "execution_count": 97,
      "outputs": [
        {
          "output_type": "execute_result",
          "data": {
            "text/html": [
              "<div>\n",
              "<style scoped>\n",
              "    .dataframe tbody tr th:only-of-type {\n",
              "        vertical-align: middle;\n",
              "    }\n",
              "\n",
              "    .dataframe tbody tr th {\n",
              "        vertical-align: top;\n",
              "    }\n",
              "\n",
              "    .dataframe thead th {\n",
              "        text-align: right;\n",
              "    }\n",
              "</style>\n",
              "<table border=\"1\" class=\"dataframe\">\n",
              "  <thead>\n",
              "    <tr style=\"text-align: right;\">\n",
              "      <th></th>\n",
              "      <th>Color</th>\n",
              "      <th>size</th>\n",
              "      <th>act</th>\n",
              "      <th>age</th>\n",
              "      <th>inflated</th>\n",
              "    </tr>\n",
              "  </thead>\n",
              "  <tbody>\n",
              "    <tr>\n",
              "      <th>0</th>\n",
              "      <td>1</td>\n",
              "      <td>1</td>\n",
              "      <td>1</td>\n",
              "      <td>0</td>\n",
              "      <td>1</td>\n",
              "    </tr>\n",
              "    <tr>\n",
              "      <th>2</th>\n",
              "      <td>1</td>\n",
              "      <td>1</td>\n",
              "      <td>0</td>\n",
              "      <td>0</td>\n",
              "      <td>0</td>\n",
              "    </tr>\n",
              "    <tr>\n",
              "      <th>8</th>\n",
              "      <td>0</td>\n",
              "      <td>1</td>\n",
              "      <td>1</td>\n",
              "      <td>0</td>\n",
              "      <td>1</td>\n",
              "    </tr>\n",
              "    <tr>\n",
              "      <th>10</th>\n",
              "      <td>0</td>\n",
              "      <td>1</td>\n",
              "      <td>0</td>\n",
              "      <td>0</td>\n",
              "      <td>0</td>\n",
              "    </tr>\n",
              "    <tr>\n",
              "      <th>17</th>\n",
              "      <td>1</td>\n",
              "      <td>1</td>\n",
              "      <td>0</td>\n",
              "      <td>0</td>\n",
              "      <td>1</td>\n",
              "    </tr>\n",
              "    <tr>\n",
              "      <th>21</th>\n",
              "      <td>0</td>\n",
              "      <td>1</td>\n",
              "      <td>0</td>\n",
              "      <td>0</td>\n",
              "      <td>1</td>\n",
              "    </tr>\n",
              "    <tr>\n",
              "      <th>26</th>\n",
              "      <td>0</td>\n",
              "      <td>1</td>\n",
              "      <td>1</td>\n",
              "      <td>0</td>\n",
              "      <td>0</td>\n",
              "    </tr>\n",
              "  </tbody>\n",
              "</table>\n",
              "</div>"
            ],
            "text/plain": [
              "    Color  size  act  age  inflated\n",
              "0       1     1    1    0         1\n",
              "2       1     1    0    0         0\n",
              "8       0     1    1    0         1\n",
              "10      0     1    0    0         0\n",
              "17      1     1    0    0         1\n",
              "21      0     1    0    0         1\n",
              "26      0     1    1    0         0"
            ]
          },
          "metadata": {
            "tags": []
          },
          "execution_count": 97
        }
      ]
    },
    {
      "cell_type": "code",
      "metadata": {
        "id": "wbNfnbQ41FcQ",
        "colab_type": "code",
        "colab": {
          "base_uri": "https://localhost:8080/",
          "height": 69
        },
        "outputId": "1f29063a-a45d-4958-a914-5c003b41a09b"
      },
      "source": [
        "subtree[subtree['size'] > 0.5].inflated.value_counts()"
      ],
      "execution_count": 98,
      "outputs": [
        {
          "output_type": "execute_result",
          "data": {
            "text/plain": [
              "1    4\n",
              "0    3\n",
              "Name: inflated, dtype: int64"
            ]
          },
          "metadata": {
            "tags": []
          },
          "execution_count": 98
        }
      ]
    },
    {
      "cell_type": "code",
      "metadata": {
        "id": "b-MnKGmD1FZI",
        "colab_type": "code",
        "colab": {
          "base_uri": "https://localhost:8080/",
          "height": 35
        },
        "outputId": "1b26e756-b8df-4e78-a7a9-bedbbf64fd1f"
      },
      "source": [
        "EntropyRightSplit = -((4/7)*np.log2(4/7) + (3/7)*np.log2(3/7))\n",
        "EntropyRightSplit"
      ],
      "execution_count": 99,
      "outputs": [
        {
          "output_type": "execute_result",
          "data": {
            "text/plain": [
              "0.9852281360342515"
            ]
          },
          "metadata": {
            "tags": []
          },
          "execution_count": 99
        }
      ]
    },
    {
      "cell_type": "code",
      "metadata": {
        "id": "P9fnhtyS1FS4",
        "colab_type": "code",
        "colab": {
          "base_uri": "https://localhost:8080/",
          "height": 35
        },
        "outputId": "be21f999-326d-41ba-fe9a-0c8536928e68"
      },
      "source": [
        "EntropySplit = (8/15)* EntropyLeftSplit + (7/15)*EntropyRightSplit\n",
        "EntropySplit"
      ],
      "execution_count": 100,
      "outputs": [
        {
          "output_type": "execute_result",
          "data": {
            "text/plain": [
              "0.9931064634826507"
            ]
          },
          "metadata": {
            "tags": []
          },
          "execution_count": 100
        }
      ]
    },
    {
      "cell_type": "code",
      "metadata": {
        "id": "gP2ZkMCv1FPQ",
        "colab_type": "code",
        "colab": {
          "base_uri": "https://localhost:8080/",
          "height": 35
        },
        "outputId": "28b911af-eb77-41ad-b451-95ca0f8f68b2"
      },
      "source": [
        "Information_Gain_Question_b = EntropyBeforeSplit - EntropySplit\n",
        "Information_Gain_Question_b "
      ],
      "execution_count": 101,
      "outputs": [
        {
          "output_type": "execute_result",
          "data": {
            "text/plain": [
              "0.0036851684989858136"
            ]
          },
          "metadata": {
            "tags": []
          },
          "execution_count": 101
        }
      ]
    },
    {
      "cell_type": "markdown",
      "metadata": {
        "id": "aj6GqS0y1u0j",
        "colab_type": "text"
      },
      "source": [
        "* we have keep on doing this to get the tree, insted we can directy use the moduel to get the decision."
      ]
    },
    {
      "cell_type": "markdown",
      "metadata": {
        "id": "BcVcy0o03zNt",
        "colab_type": "text"
      },
      "source": [
        "# **Let's calculate GINI Gain using all these & identify the best question for root**\n",
        "* Let's check for question a"
      ]
    },
    {
      "cell_type": "code",
      "metadata": {
        "id": "lYLRYuRO1FJw",
        "colab_type": "code",
        "colab": {
          "base_uri": "https://localhost:8080/",
          "height": 69
        },
        "outputId": "55a520bb-ef07-49c2-8bf6-03034c19697a"
      },
      "source": [
        "data_1.inflated.value_counts()"
      ],
      "execution_count": 105,
      "outputs": [
        {
          "output_type": "execute_result",
          "data": {
            "text/plain": [
              "0    15\n",
              "1    13\n",
              "Name: inflated, dtype: int64"
            ]
          },
          "metadata": {
            "tags": []
          },
          "execution_count": 105
        }
      ]
    },
    {
      "cell_type": "code",
      "metadata": {
        "id": "OS9JShW14NeZ",
        "colab_type": "code",
        "colab": {
          "base_uri": "https://localhost:8080/",
          "height": 35
        },
        "outputId": "df571228-692b-42f6-ffc1-8a7bf53eea6c"
      },
      "source": [
        "GiniBeforeSplit = (15/28)*(1-15/28) + (13/28)*(1-13/28)\n",
        "GiniBeforeSplit"
      ],
      "execution_count": 106,
      "outputs": [
        {
          "output_type": "execute_result",
          "data": {
            "text/plain": [
              "0.49744897959183676"
            ]
          },
          "metadata": {
            "tags": []
          },
          "execution_count": 106
        }
      ]
    },
    {
      "cell_type": "markdown",
      "metadata": {
        "id": "bv-9r6M14n70",
        "colab_type": "text"
      },
      "source": [
        "* Finding Gini gain for question d"
      ]
    },
    {
      "cell_type": "code",
      "metadata": {
        "id": "GPwndx_T4NYC",
        "colab_type": "code",
        "colab": {
          "base_uri": "https://localhost:8080/",
          "height": 69
        },
        "outputId": "224cb0bc-948e-427b-a7cb-2dc3cea878c6"
      },
      "source": [
        "# Left side\n",
        "data_1[data_1.age <= 0.5].inflated.value_counts()"
      ],
      "execution_count": 107,
      "outputs": [
        {
          "output_type": "execute_result",
          "data": {
            "text/plain": [
              "1    8\n",
              "0    7\n",
              "Name: inflated, dtype: int64"
            ]
          },
          "metadata": {
            "tags": []
          },
          "execution_count": 107
        }
      ]
    },
    {
      "cell_type": "code",
      "metadata": {
        "id": "uHbNnUR34NUd",
        "colab_type": "code",
        "colab": {
          "base_uri": "https://localhost:8080/",
          "height": 35
        },
        "outputId": "c216f0a0-1567-4270-980f-23d4d228c760"
      },
      "source": [
        "GiniLeft = (8/15)*(1-8/15) + (7/15)*(1-7/15)\n",
        "GiniLeft"
      ],
      "execution_count": 108,
      "outputs": [
        {
          "output_type": "execute_result",
          "data": {
            "text/plain": [
              "0.49777777777777776"
            ]
          },
          "metadata": {
            "tags": []
          },
          "execution_count": 108
        }
      ]
    },
    {
      "cell_type": "code",
      "metadata": {
        "id": "dn-PT-a34NOh",
        "colab_type": "code",
        "colab": {
          "base_uri": "https://localhost:8080/",
          "height": 69
        },
        "outputId": "6dd64117-9738-4ddd-e8a1-2764de0c8d31"
      },
      "source": [
        "# Right side\n",
        "data_1[data_1.age > 0.5].inflated.value_counts()"
      ],
      "execution_count": 109,
      "outputs": [
        {
          "output_type": "execute_result",
          "data": {
            "text/plain": [
              "0    8\n",
              "1    5\n",
              "Name: inflated, dtype: int64"
            ]
          },
          "metadata": {
            "tags": []
          },
          "execution_count": 109
        }
      ]
    },
    {
      "cell_type": "code",
      "metadata": {
        "id": "mZ7s7uUp4NJD",
        "colab_type": "code",
        "colab": {
          "base_uri": "https://localhost:8080/",
          "height": 35
        },
        "outputId": "4981e63a-b025-4005-b477-41b7b37b1210"
      },
      "source": [
        "GiniRight = (8/13)*(1-8/13) + (5/13)*(1-5/13)\n",
        "GiniRight"
      ],
      "execution_count": 110,
      "outputs": [
        {
          "output_type": "execute_result",
          "data": {
            "text/plain": [
              "0.47337278106508873"
            ]
          },
          "metadata": {
            "tags": []
          },
          "execution_count": 110
        }
      ]
    },
    {
      "cell_type": "code",
      "metadata": {
        "id": "YbFtOAWE4NDn",
        "colab_type": "code",
        "colab": {
          "base_uri": "https://localhost:8080/",
          "height": 35
        },
        "outputId": "c819049d-b5e4-4661-c298-6a03fe862e5e"
      },
      "source": [
        "GiniSplit = (15/28)*GiniLeft + (13/28)*GiniRight\n",
        "GiniSplit"
      ],
      "execution_count": 112,
      "outputs": [
        {
          "output_type": "execute_result",
          "data": {
            "text/plain": [
              "0.48644688644688644"
            ]
          },
          "metadata": {
            "tags": []
          },
          "execution_count": 112
        }
      ]
    },
    {
      "cell_type": "code",
      "metadata": {
        "id": "yGT9p8vB4M9T",
        "colab_type": "code",
        "colab": {
          "base_uri": "https://localhost:8080/",
          "height": 35
        },
        "outputId": "54b2fc2f-0a83-45b9-ccf1-5859353ebbee"
      },
      "source": [
        "GiniGain_d = GiniBeforeSplit - GiniSplit\n",
        "GiniGain_d"
      ],
      "execution_count": 114,
      "outputs": [
        {
          "output_type": "execute_result",
          "data": {
            "text/plain": [
              "0.01100209314495032"
            ]
          },
          "metadata": {
            "tags": []
          },
          "execution_count": 114
        }
      ]
    },
    {
      "cell_type": "markdown",
      "metadata": {
        "id": "m41mJ9nu6GeU",
        "colab_type": "text"
      },
      "source": [
        "* Finding Gini gain for question a"
      ]
    },
    {
      "cell_type": "code",
      "metadata": {
        "id": "SQGcquZl4M4w",
        "colab_type": "code",
        "colab": {
          "base_uri": "https://localhost:8080/",
          "height": 69
        },
        "outputId": "02372b41-e2cf-47b4-dc51-c07657477abf"
      },
      "source": [
        "# Left side\n",
        "data_1[data_1.Color <= 0.5].inflated.value_counts()"
      ],
      "execution_count": 115,
      "outputs": [
        {
          "output_type": "execute_result",
          "data": {
            "text/plain": [
              "0    8\n",
              "1    6\n",
              "Name: inflated, dtype: int64"
            ]
          },
          "metadata": {
            "tags": []
          },
          "execution_count": 115
        }
      ]
    },
    {
      "cell_type": "code",
      "metadata": {
        "id": "9HF6FBNC4M2_",
        "colab_type": "code",
        "colab": {
          "base_uri": "https://localhost:8080/",
          "height": 35
        },
        "outputId": "6a3b6333-7e3d-4b2a-85dc-14f949d868fd"
      },
      "source": [
        "GiniLeft = (8/14)*(1-8/14) + (6/14)*(1-6/14)\n",
        "GiniLeft"
      ],
      "execution_count": 116,
      "outputs": [
        {
          "output_type": "execute_result",
          "data": {
            "text/plain": [
              "0.4897959183673469"
            ]
          },
          "metadata": {
            "tags": []
          },
          "execution_count": 116
        }
      ]
    },
    {
      "cell_type": "code",
      "metadata": {
        "id": "Z-F2AqAj4Mwe",
        "colab_type": "code",
        "colab": {
          "base_uri": "https://localhost:8080/",
          "height": 69
        },
        "outputId": "a779e8f3-4d38-4ca3-c0b0-7b8a70e588d8"
      },
      "source": [
        "# Right side\n",
        "data_1[data_1.Color > 0.5].inflated.value_counts()"
      ],
      "execution_count": 117,
      "outputs": [
        {
          "output_type": "execute_result",
          "data": {
            "text/plain": [
              "1    7\n",
              "0    7\n",
              "Name: inflated, dtype: int64"
            ]
          },
          "metadata": {
            "tags": []
          },
          "execution_count": 117
        }
      ]
    },
    {
      "cell_type": "code",
      "metadata": {
        "id": "zTgXKl-t4Mro",
        "colab_type": "code",
        "colab": {
          "base_uri": "https://localhost:8080/",
          "height": 35
        },
        "outputId": "bc9c516e-3854-4259-9844-e38d8811f9fa"
      },
      "source": [
        "GiniRight = (7/14)*(1-7/14) + (7/14)*(1-7/14)\n",
        "GiniRight"
      ],
      "execution_count": 118,
      "outputs": [
        {
          "output_type": "execute_result",
          "data": {
            "text/plain": [
              "0.5"
            ]
          },
          "metadata": {
            "tags": []
          },
          "execution_count": 118
        }
      ]
    },
    {
      "cell_type": "code",
      "metadata": {
        "id": "gvkGdwT04MlE",
        "colab_type": "code",
        "colab": {
          "base_uri": "https://localhost:8080/",
          "height": 35
        },
        "outputId": "5137c306-bf1f-4beb-cd57-e038f30e80e4"
      },
      "source": [
        "GiniSplit = (14/28)*GiniLeft + (14/28)*GiniRight\n",
        "GiniSplit"
      ],
      "execution_count": 119,
      "outputs": [
        {
          "output_type": "execute_result",
          "data": {
            "text/plain": [
              "0.49489795918367346"
            ]
          },
          "metadata": {
            "tags": []
          },
          "execution_count": 119
        }
      ]
    },
    {
      "cell_type": "code",
      "metadata": {
        "id": "dwYdP2U54MgU",
        "colab_type": "code",
        "colab": {
          "base_uri": "https://localhost:8080/",
          "height": 35
        },
        "outputId": "6dcf4b4e-fde9-4930-c7fb-fcc512405cf9"
      },
      "source": [
        "GiniGain_a = GiniBeforeSplit - GiniSplit\n",
        "GiniGain_a"
      ],
      "execution_count": 120,
      "outputs": [
        {
          "output_type": "execute_result",
          "data": {
            "text/plain": [
              "0.002551020408163296"
            ]
          },
          "metadata": {
            "tags": []
          },
          "execution_count": 120
        }
      ]
    },
    {
      "cell_type": "markdown",
      "metadata": {
        "id": "Xbv9Jp827T12",
        "colab_type": "text"
      },
      "source": [
        "* Conclusion in both info. gain and gini gane we are about to follow the same trend as we can see that GiniGain_d is greater that GiniGain_a."
      ]
    },
    {
      "cell_type": "markdown",
      "metadata": {
        "id": "Tkuv-5BxrRm6",
        "colab_type": "text"
      },
      "source": [
        "**Task 3: scikit - Generate & Display Decision Tree using export_graphviz**"
      ]
    },
    {
      "cell_type": "code",
      "metadata": {
        "id": "aC-kYXs5qiHf",
        "colab_type": "code",
        "colab": {}
      },
      "source": [
        "from sklearn.tree import DecisionTreeClassifier, export_graphviz"
      ],
      "execution_count": 0,
      "outputs": []
    },
    {
      "cell_type": "code",
      "metadata": {
        "id": "__tD8_LirwSX",
        "colab_type": "code",
        "colab": {}
      },
      "source": [
        "dt = DecisionTreeClassifier(criterion='entropy')"
      ],
      "execution_count": 0,
      "outputs": []
    },
    {
      "cell_type": "code",
      "metadata": {
        "id": "meJOEBKLrqUG",
        "colab_type": "code",
        "colab": {
          "base_uri": "https://localhost:8080/",
          "height": 121
        },
        "outputId": "277830fb-b8ba-4c60-8749-ef1b77728bb4"
      },
      "source": [
        "dt.fit(data_1[['Color', 'size', 'act', 'age']] , data.inflated)"
      ],
      "execution_count": 78,
      "outputs": [
        {
          "output_type": "execute_result",
          "data": {
            "text/plain": [
              "DecisionTreeClassifier(ccp_alpha=0.0, class_weight=None, criterion='entropy',\n",
              "                       max_depth=None, max_features=None, max_leaf_nodes=None,\n",
              "                       min_impurity_decrease=0.0, min_impurity_split=None,\n",
              "                       min_samples_leaf=1, min_samples_split=2,\n",
              "                       min_weight_fraction_leaf=0.0, presort='deprecated',\n",
              "                       random_state=None, splitter='best')"
            ]
          },
          "metadata": {
            "tags": []
          },
          "execution_count": 78
        }
      ]
    },
    {
      "cell_type": "code",
      "metadata": {
        "id": "h2i9OqfksSYi",
        "colab_type": "code",
        "colab": {}
      },
      "source": [
        "export_graphviz(dt,'dt1.tree',feature_names=['Color', 'size', 'act', 'age'])"
      ],
      "execution_count": 0,
      "outputs": []
    },
    {
      "cell_type": "markdown",
      "metadata": {
        "id": "OydMqMoWvTDD",
        "colab_type": "text"
      },
      "source": [
        "![image.png](data:image/png;base64,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)"
      ]
    },
    {
      "cell_type": "code",
      "metadata": {
        "id": "nmaqfeCVtLyJ",
        "colab_type": "code",
        "colab": {}
      },
      "source": [
        "dt_gini = DecisionTreeClassifier(criterion='gini')"
      ],
      "execution_count": 0,
      "outputs": []
    },
    {
      "cell_type": "code",
      "metadata": {
        "id": "Q5QRxpD92sOD",
        "colab_type": "code",
        "colab": {
          "base_uri": "https://localhost:8080/",
          "height": 121
        },
        "outputId": "5fb23712-1725-47f0-b7f4-36df587b33e5"
      },
      "source": [
        "dt_gini.fit(data_1[['Color', 'size', 'act', 'age']] , data.inflated)"
      ],
      "execution_count": 103,
      "outputs": [
        {
          "output_type": "execute_result",
          "data": {
            "text/plain": [
              "DecisionTreeClassifier(ccp_alpha=0.0, class_weight=None, criterion='gini',\n",
              "                       max_depth=None, max_features=None, max_leaf_nodes=None,\n",
              "                       min_impurity_decrease=0.0, min_impurity_split=None,\n",
              "                       min_samples_leaf=1, min_samples_split=2,\n",
              "                       min_weight_fraction_leaf=0.0, presort='deprecated',\n",
              "                       random_state=None, splitter='best')"
            ]
          },
          "metadata": {
            "tags": []
          },
          "execution_count": 103
        }
      ]
    },
    {
      "cell_type": "code",
      "metadata": {
        "id": "OUKswvWD2yaK",
        "colab_type": "code",
        "colab": {}
      },
      "source": [
        "export_graphviz(dt_gini,'dt2.tree',feature_names=['Color', 'size', 'act', 'age'])"
      ],
      "execution_count": 0,
      "outputs": []
    },
    {
      "cell_type": "markdown",
      "metadata": {
        "id": "Per-q1id3dYO",
        "colab_type": "text"
      },
      "source": [
        "![image.png](data:image/png;base64,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)"
      ]
    },
    {
      "cell_type": "code",
      "metadata": {
        "id": "5ViBCdK124ag",
        "colab_type": "code",
        "colab": {}
      },
      "source": [
        ""
      ],
      "execution_count": 0,
      "outputs": []
    }
  ]
}