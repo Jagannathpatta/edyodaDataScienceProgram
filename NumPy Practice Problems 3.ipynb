{
 "cells": [
  {
   "cell_type": "markdown",
   "metadata": {},
   "source": [
    "## NumPy: Practice Problem 3\n"
   ]
  },
  {
   "cell_type": "code",
   "execution_count": 1,
   "metadata": {},
   "outputs": [],
   "source": [
    "import numpy as np"
   ]
  },
  {
   "cell_type": "markdown",
   "metadata": {},
   "source": [
    "### 1. Find dot product of two arrays.\n",
    "#### a = [2j, 3j],\n",
    "#### b = [2j, 3j]\n",
    "#### Level: Easy"
   ]
  },
  {
   "cell_type": "code",
   "execution_count": 2,
   "metadata": {},
   "outputs": [
    {
     "data": {
      "text/plain": [
       "(-13+0j)"
      ]
     },
     "execution_count": 2,
     "metadata": {},
     "output_type": "execute_result"
    }
   ],
   "source": [
    "np.dot([2j, 3j], [2j, 3j])"
   ]
  },
  {
   "cell_type": "markdown",
   "metadata": {},
   "source": [
    "### 2. Create two arrays of 2-D and find dot product of it.\n",
    "#### Level: Easy"
   ]
  },
  {
   "cell_type": "code",
   "execution_count": 6,
   "metadata": {},
   "outputs": [
    {
     "name": "stdout",
     "output_type": "stream",
     "text": [
      "a : [[6 8]\n",
      " [6 1]\n",
      " [6 8]] \n",
      "b : [[14 13 19]\n",
      " [18 13 12]]\n"
     ]
    }
   ],
   "source": [
    "a = np.random.randint(1,10,(3,2))\n",
    "b = np.random.randint(11,20,(2,3))\n",
    "print(\"a :\",a,\"\\nb :\",b)"
   ]
  },
  {
   "cell_type": "code",
   "execution_count": 7,
   "metadata": {},
   "outputs": [
    {
     "data": {
      "text/plain": [
       "array([[228, 182, 210],\n",
       "       [102,  91, 126],\n",
       "       [228, 182, 210]])"
      ]
     },
     "execution_count": 7,
     "metadata": {},
     "output_type": "execute_result"
    }
   ],
   "source": [
    "np.dot(a,b)"
   ]
  },
  {
   "cell_type": "markdown",
   "metadata": {},
   "source": [
    "### 3. Find vector product of given array.\n",
    "#### a = np.array([1+2j,3+4j])\n",
    "#### b = np.array([5+6j,7+8j])\n",
    "#### Level: Easy"
   ]
  },
  {
   "cell_type": "code",
   "execution_count": 8,
   "metadata": {},
   "outputs": [
    {
     "name": "stdout",
     "output_type": "stream",
     "text": [
      "a : [1.+2.j 3.+4.j] \n",
      "b : [5.+6.j 7.+8.j]\n"
     ]
    }
   ],
   "source": [
    "a = np.array([1+2j , 3+4j])\n",
    "b = np.array([5+6j , 7+8j])\n",
    "print(\"a :\",a,\"\\nb :\",b)"
   ]
  },
  {
   "cell_type": "code",
   "execution_count": 10,
   "metadata": {},
   "outputs": [
    {
     "data": {
      "text/plain": [
       "array(0.-16.j)"
      ]
     },
     "execution_count": 10,
     "metadata": {},
     "output_type": "execute_result"
    }
   ],
   "source": [
    "np.cross(a,b)"
   ]
  },
  {
   "cell_type": "markdown",
   "metadata": {},
   "source": [
    "### 4. FIrst create given array withound using direct value insted use numpy utlities and then find inner product for given array.\n",
    "#### a = [[ 0 1 2 3] [ 4 5 6 7] [ 8 9 10 11]]\n",
    "#### b = [[12 13 14 15] [16 17 18 19] [20 21 22 23]]\n",
    "#### Level: Easy"
   ]
  },
  {
   "cell_type": "code",
   "execution_count": 11,
   "metadata": {},
   "outputs": [
    {
     "name": "stdout",
     "output_type": "stream",
     "text": [
      "a : [[ 0  1  2  3]\n",
      " [ 4  5  6  7]\n",
      " [ 8  9 10 11]] \n",
      "b : [[12 13 14 15]\n",
      " [16 17 18 19]\n",
      " [20 21 22 23]]\n"
     ]
    }
   ],
   "source": [
    "a = np.array([[ 0,1,2,3],[ 4,5,6,7],[ 8,9,10,11]])\n",
    "b = np.array([[12,13,14,15],[16,17,18,19],[20,21,22,23]])\n",
    "print(\"a :\",a,\"\\nb :\",b)"
   ]
  },
  {
   "cell_type": "code",
   "execution_count": 12,
   "metadata": {},
   "outputs": [
    {
     "data": {
      "text/plain": [
       "array([[ 86, 110, 134],\n",
       "       [302, 390, 478],\n",
       "       [518, 670, 822]])"
      ]
     },
     "execution_count": 12,
     "metadata": {},
     "output_type": "execute_result"
    }
   ],
   "source": [
    "np.inner(a,b)"
   ]
  },
  {
   "cell_type": "markdown",
   "metadata": {},
   "source": [
    "### 5. Using given two array try to print out 3rd given array.\n",
    "#### a = np.array(['a', 'b', 'c'], dtype=object) b = np.array([1,2,3])\n",
    "#### output = [['a', 'aa', 'aaa'], ['b', 'bb', 'bbb'], ['c', 'cc', 'ccc']]\n",
    "#### Level: Medium"
   ]
  },
  {
   "cell_type": "code",
   "execution_count": 15,
   "metadata": {},
   "outputs": [
    {
     "name": "stdout",
     "output_type": "stream",
     "text": [
      "a : ['a' 'b' 'c'] \n",
      "b : [1 2 3]\n"
     ]
    }
   ],
   "source": [
    "a = np.array(['a', 'b', 'c'], dtype=object)\n",
    "b = np.array([1,2,3])\n",
    "print(\"a :\",a,\"\\nb :\",b)"
   ]
  },
  {
   "cell_type": "code",
   "execution_count": 17,
   "metadata": {},
   "outputs": [
    {
     "name": "stdout",
     "output_type": "stream",
     "text": [
      "a : (3,) \n",
      "b : (3,)\n"
     ]
    }
   ],
   "source": [
    "print(\"a :\",a.shape,\"\\nb :\",b.shape)"
   ]
  },
  {
   "cell_type": "code",
   "execution_count": 20,
   "metadata": {},
   "outputs": [
    {
     "data": {
      "text/plain": [
       "array([['a', 'aa', 'aaa'],\n",
       "       ['b', 'bb', 'bbb'],\n",
       "       ['c', 'cc', 'ccc']], dtype=object)"
      ]
     },
     "execution_count": 20,
     "metadata": {},
     "output_type": "execute_result"
    }
   ],
   "source": [
    "a.reshape(3,1) * b"
   ]
  },
  {
   "cell_type": "markdown",
   "metadata": {},
   "source": [
    "### 6. Solve the system of equations 3 x0 + x1 = 9 and x0 + 2 x1 = 8\n",
    "#### Level: Medium"
   ]
  },
  {
   "cell_type": "code",
   "execution_count": 21,
   "metadata": {},
   "outputs": [
    {
     "data": {
      "text/plain": [
       "array([2., 3.])"
      ]
     },
     "execution_count": 21,
     "metadata": {},
     "output_type": "execute_result"
    }
   ],
   "source": [
    "a = np.array([[3,1],[1,2]])\n",
    "b = np.array([9,8])\n",
    "np.linalg.solve(a,b)"
   ]
  },
  {
   "cell_type": "markdown",
   "metadata": {},
   "source": [
    "### 7. Check the following solution is right or wrong uisng numpy utilities.\n",
    "#### 2x+3y=8 3x+y=5\n",
    "#### solution: x=1 , y=2\n",
    "#### Level : Medium"
   ]
  },
  {
   "cell_type": "code",
   "execution_count": 23,
   "metadata": {},
   "outputs": [
    {
     "data": {
      "text/plain": [
       "array([1., 2.])"
      ]
     },
     "execution_count": 23,
     "metadata": {},
     "output_type": "execute_result"
    }
   ],
   "source": [
    "a = np.array([[2,3],[3,1]])\n",
    "b = np.array([8,5])\n",
    "res = np.linalg.solve(a,b)\n",
    "res"
   ]
  },
  {
   "cell_type": "code",
   "execution_count": 24,
   "metadata": {},
   "outputs": [
    {
     "data": {
      "text/plain": [
       "True"
      ]
     },
     "execution_count": 24,
     "metadata": {},
     "output_type": "execute_result"
    }
   ],
   "source": [
    "np.allclose(np.dot(a, res), b)"
   ]
  },
  {
   "cell_type": "markdown",
   "metadata": {},
   "source": [
    "### 9. Write a program to add two arrays of different shape.\n",
    "#### Hint: Broadcasting\n",
    "#### Level: Medium\n",
    "#### sample input:\n",
    "#### a = [0.0,10.0,20.0,30.0]\n",
    "#### b = [1.0,2.0,3.0]\n",
    "#### output:\n",
    "#### [[ 1., 2., 3.],\n",
    "#### [ 11., 12., 13.],\n",
    "#### [ 21., 22., 23.],\n",
    "#### [ 31., 32., 33.]]"
   ]
  },
  {
   "cell_type": "code",
   "execution_count": 25,
   "metadata": {},
   "outputs": [
    {
     "name": "stdout",
     "output_type": "stream",
     "text": [
      "a : [ 0. 10. 20. 30.] \n",
      "b : [1. 2. 3.]\n"
     ]
    }
   ],
   "source": [
    "a = np.array([0.0,10.0,20.0,30.0])\n",
    "b = np.array([1.0,2.0,3.0])\n",
    "print(\"a :\",a,\"\\nb :\",b)"
   ]
  },
  {
   "cell_type": "code",
   "execution_count": 27,
   "metadata": {},
   "outputs": [
    {
     "name": "stdout",
     "output_type": "stream",
     "text": [
      "a : (4,) \n",
      "b : (3,)\n"
     ]
    }
   ],
   "source": [
    "print(\"a :\",a.shape,\"\\nb :\",b.shape)"
   ]
  },
  {
   "cell_type": "code",
   "execution_count": 30,
   "metadata": {},
   "outputs": [
    {
     "data": {
      "text/plain": [
       "array([[ 1.,  2.,  3.],\n",
       "       [11., 12., 13.],\n",
       "       [21., 22., 23.],\n",
       "       [31., 32., 33.]])"
      ]
     },
     "execution_count": 30,
     "metadata": {},
     "output_type": "execute_result"
    }
   ],
   "source": [
    "a.reshape(4,1) + b"
   ]
  },
  {
   "cell_type": "markdown",
   "metadata": {},
   "source": [
    "### 10. Create a 3 * 3 array find it's diagonal using numpy utilities.\n",
    "#### Level: Hard"
   ]
  },
  {
   "cell_type": "code",
   "execution_count": 41,
   "metadata": {},
   "outputs": [
    {
     "data": {
      "text/plain": [
       "array([[6, 8, 6],\n",
       "       [1, 5, 7],\n",
       "       [2, 9, 7]])"
      ]
     },
     "execution_count": 41,
     "metadata": {},
     "output_type": "execute_result"
    }
   ],
   "source": [
    "a = np.random.randint(1,10,(3,3))\n",
    "a"
   ]
  },
  {
   "cell_type": "code",
   "execution_count": 42,
   "metadata": {},
   "outputs": [
    {
     "data": {
      "text/plain": [
       "array([6, 5, 7])"
      ]
     },
     "execution_count": 42,
     "metadata": {},
     "output_type": "execute_result"
    }
   ],
   "source": [
    "np.diag(a)"
   ]
  },
  {
   "cell_type": "markdown",
   "metadata": {},
   "source": [
    "### 11. Now find anti - diagonal in previous question using horizontal and vector flip.\n",
    "#### Level: Hard"
   ]
  },
  {
   "cell_type": "code",
   "execution_count": 43,
   "metadata": {},
   "outputs": [
    {
     "data": {
      "text/plain": [
       "array([[6, 8, 6],\n",
       "       [1, 5, 7],\n",
       "       [2, 9, 7]])"
      ]
     },
     "execution_count": 43,
     "metadata": {},
     "output_type": "execute_result"
    }
   ],
   "source": [
    "a"
   ]
  },
  {
   "cell_type": "code",
   "execution_count": 46,
   "metadata": {},
   "outputs": [
    {
     "data": {
      "text/plain": [
       "array([6, 5, 2])"
      ]
     },
     "execution_count": 46,
     "metadata": {},
     "output_type": "execute_result"
    }
   ],
   "source": [
    "np.fliplr(a).diagonal()"
   ]
  },
  {
   "cell_type": "code",
   "execution_count": 47,
   "metadata": {},
   "outputs": [
    {
     "data": {
      "text/plain": [
       "array([2, 5, 6])"
      ]
     },
     "execution_count": 47,
     "metadata": {},
     "output_type": "execute_result"
    }
   ],
   "source": [
    "np.flipud(a).diagonal()"
   ]
  },
  {
   "cell_type": "markdown",
   "metadata": {},
   "source": [
    "### 12. Create given array without using indexing.\n",
    "#### a = [[4, 0, 0], [0, 4, 0], [0, 0, 4], [0, 0, 0], [4, 0, 0], [0, 4, 0], [0, 0, 4]]\n",
    "#### Level : Hard"
   ]
  },
  {
   "cell_type": "code",
   "execution_count": 64,
   "metadata": {},
   "outputs": [
    {
     "name": "stdout",
     "output_type": "stream",
     "text": [
      "[[4 0 0]\n",
      " [0 4 0]\n",
      " [0 0 4]\n",
      " [0 0 0]\n",
      " [4 0 0]\n",
      " [0 4 0]\n",
      " [0 0 4]] (7, 3)\n"
     ]
    }
   ],
   "source": [
    "a = np.array([[4, 0, 0], [0, 4, 0], [0, 0, 4], [0, 0, 0], [4, 0, 0], [0, 4, 0], [0, 0, 4]])\n",
    "print(a,a.shape)"
   ]
  },
  {
   "cell_type": "code",
   "execution_count": 84,
   "metadata": {},
   "outputs": [
    {
     "data": {
      "text/plain": [
       "array([[4., 0., 0.],\n",
       "       [0., 4., 0.],\n",
       "       [0., 0., 4.],\n",
       "       [0., 0., 0.],\n",
       "       [4., 0., 0.],\n",
       "       [0., 4., 0.],\n",
       "       [0., 0., 4.]])"
      ]
     },
     "execution_count": 84,
     "metadata": {},
     "output_type": "execute_result"
    }
   ],
   "source": [
    "new = (np.eye(7,3,k = -4) + np.eye(7,3,k = 0)) *4\n",
    "new"
   ]
  },
  {
   "cell_type": "code",
   "execution_count": null,
   "metadata": {},
   "outputs": [],
   "source": []
  }
 ],
 "metadata": {
  "kernelspec": {
   "display_name": "Python 3",
   "language": "python",
   "name": "python3"
  },
  "language_info": {
   "codemirror_mode": {
    "name": "ipython",
    "version": 3
   },
   "file_extension": ".py",
   "mimetype": "text/x-python",
   "name": "python",
   "nbconvert_exporter": "python",
   "pygments_lexer": "ipython3",
   "version": "3.7.0"
  }
 },
 "nbformat": 4,
 "nbformat_minor": 2
}
