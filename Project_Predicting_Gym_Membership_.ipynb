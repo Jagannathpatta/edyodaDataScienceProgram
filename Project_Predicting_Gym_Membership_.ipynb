{
  "nbformat": 4,
  "nbformat_minor": 0,
  "metadata": {
    "colab": {
      "name": "Project- Predicting Gym Membership .ipynb",
      "provenance": [],
      "collapsed_sections": []
    },
    "kernelspec": {
      "name": "python3",
      "display_name": "Python 3"
    }
  },
  "cells": [
    {
      "cell_type": "markdown",
      "metadata": {
        "id": "cB63WmETKY1L",
        "colab_type": "text"
      },
      "source": [
        "# **Use all the other ratings to create a model to predict if somebody will take gym membership or now.**"
      ]
    },
    {
      "cell_type": "code",
      "metadata": {
        "id": "9viSdNoeL1T3",
        "colab_type": "code",
        "colab": {}
      },
      "source": [
        "import pandas as pd\n",
        "import numpy as np"
      ],
      "execution_count": 0,
      "outputs": []
    },
    {
      "cell_type": "code",
      "metadata": {
        "id": "JpzKgM_Rq14f",
        "colab_type": "code",
        "colab": {
          "resources": {
            "http://localhost:8080/nbextensions/google.colab/files.js": {
              "data": "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",
              "ok": true,
              "headers": [
                [
                  "content-type",
                  "application/javascript"
                ]
              ],
              "status": 200,
              "status_text": ""
            }
          },
          "base_uri": "https://localhost:8080/",
          "height": 75
        },
        "outputId": "c400324c-2a5a-4ed8-a352-17ffa3cb152c"
      },
      "source": [
        "from google.colab import files\n",
        "uploaded = files.upload()"
      ],
      "execution_count": 1,
      "outputs": [
        {
          "output_type": "display_data",
          "data": {
            "text/html": [
              "\n",
              "     <input type=\"file\" id=\"files-6a3dc919-7195-4a24-ad4c-86d117693547\" name=\"files[]\" multiple disabled />\n",
              "     <output id=\"result-6a3dc919-7195-4a24-ad4c-86d117693547\">\n",
              "      Upload widget is only available when the cell has been executed in the\n",
              "      current browser session. Please rerun this cell to enable.\n",
              "      </output>\n",
              "      <script src=\"/nbextensions/google.colab/files.js\"></script> "
            ],
            "text/plain": [
              "<IPython.core.display.HTML object>"
            ]
          },
          "metadata": {
            "tags": []
          }
        },
        {
          "output_type": "stream",
          "text": [
            "Saving google_review_ratings.csv to google_review_ratings.csv\n"
          ],
          "name": "stdout"
        }
      ]
    },
    {
      "cell_type": "code",
      "metadata": {
        "id": "4xORjDBzLkxc",
        "colab_type": "code",
        "colab": {
          "base_uri": "https://localhost:8080/",
          "height": 657
        },
        "outputId": "03b188f0-6725-4e09-ae96-4ac3802fc520"
      },
      "source": [
        "data = pd.read_csv('google_review_ratings.csv', index_col='User')\n",
        "data"
      ],
      "execution_count": 10,
      "outputs": [
        {
          "output_type": "execute_result",
          "data": {
            "text/html": [
              "<div>\n",
              "<style scoped>\n",
              "    .dataframe tbody tr th:only-of-type {\n",
              "        vertical-align: middle;\n",
              "    }\n",
              "\n",
              "    .dataframe tbody tr th {\n",
              "        vertical-align: top;\n",
              "    }\n",
              "\n",
              "    .dataframe thead th {\n",
              "        text-align: right;\n",
              "    }\n",
              "</style>\n",
              "<table border=\"1\" class=\"dataframe\">\n",
              "  <thead>\n",
              "    <tr style=\"text-align: right;\">\n",
              "      <th></th>\n",
              "      <th>Category 1</th>\n",
              "      <th>Category 2</th>\n",
              "      <th>Category 3</th>\n",
              "      <th>Category 4</th>\n",
              "      <th>Category 5</th>\n",
              "      <th>Category 6</th>\n",
              "      <th>Category 7</th>\n",
              "      <th>Category 8</th>\n",
              "      <th>Category 9</th>\n",
              "      <th>Category 10</th>\n",
              "      <th>Category 11</th>\n",
              "      <th>Category 12</th>\n",
              "      <th>Category 13</th>\n",
              "      <th>Category 14</th>\n",
              "      <th>Category 15</th>\n",
              "      <th>Category 16</th>\n",
              "      <th>Category 17</th>\n",
              "      <th>Category 18</th>\n",
              "      <th>Category 19</th>\n",
              "      <th>Category 20</th>\n",
              "      <th>Category 21</th>\n",
              "      <th>Category 22</th>\n",
              "      <th>Category 23</th>\n",
              "      <th>Category 24</th>\n",
              "      <th>Unnamed: 25</th>\n",
              "    </tr>\n",
              "    <tr>\n",
              "      <th>User</th>\n",
              "      <th></th>\n",
              "      <th></th>\n",
              "      <th></th>\n",
              "      <th></th>\n",
              "      <th></th>\n",
              "      <th></th>\n",
              "      <th></th>\n",
              "      <th></th>\n",
              "      <th></th>\n",
              "      <th></th>\n",
              "      <th></th>\n",
              "      <th></th>\n",
              "      <th></th>\n",
              "      <th></th>\n",
              "      <th></th>\n",
              "      <th></th>\n",
              "      <th></th>\n",
              "      <th></th>\n",
              "      <th></th>\n",
              "      <th></th>\n",
              "      <th></th>\n",
              "      <th></th>\n",
              "      <th></th>\n",
              "      <th></th>\n",
              "      <th></th>\n",
              "    </tr>\n",
              "  </thead>\n",
              "  <tbody>\n",
              "    <tr>\n",
              "      <th>User 1</th>\n",
              "      <td>0.00</td>\n",
              "      <td>0.00</td>\n",
              "      <td>3.63</td>\n",
              "      <td>3.65</td>\n",
              "      <td>5.00</td>\n",
              "      <td>2.92</td>\n",
              "      <td>5.00</td>\n",
              "      <td>2.35</td>\n",
              "      <td>2.33</td>\n",
              "      <td>2.64</td>\n",
              "      <td>1.7</td>\n",
              "      <td>1.69</td>\n",
              "      <td>1.70</td>\n",
              "      <td>1.72</td>\n",
              "      <td>1.74</td>\n",
              "      <td>0.59</td>\n",
              "      <td>0.50</td>\n",
              "      <td>0.00</td>\n",
              "      <td>0.50</td>\n",
              "      <td>0.00</td>\n",
              "      <td>0.00</td>\n",
              "      <td>0.0</td>\n",
              "      <td>0.0</td>\n",
              "      <td>0.00</td>\n",
              "      <td>NaN</td>\n",
              "    </tr>\n",
              "    <tr>\n",
              "      <th>User 2</th>\n",
              "      <td>0.00</td>\n",
              "      <td>0.00</td>\n",
              "      <td>3.63</td>\n",
              "      <td>3.65</td>\n",
              "      <td>5.00</td>\n",
              "      <td>2.92</td>\n",
              "      <td>5.00</td>\n",
              "      <td>2.64</td>\n",
              "      <td>2.33</td>\n",
              "      <td>2.65</td>\n",
              "      <td>1.7</td>\n",
              "      <td>1.69</td>\n",
              "      <td>1.70</td>\n",
              "      <td>1.72</td>\n",
              "      <td>1.74</td>\n",
              "      <td>0.59</td>\n",
              "      <td>0.50</td>\n",
              "      <td>0.00</td>\n",
              "      <td>0.50</td>\n",
              "      <td>0.00</td>\n",
              "      <td>0.00</td>\n",
              "      <td>0.0</td>\n",
              "      <td>0.0</td>\n",
              "      <td>0.00</td>\n",
              "      <td>NaN</td>\n",
              "    </tr>\n",
              "    <tr>\n",
              "      <th>User 3</th>\n",
              "      <td>0.00</td>\n",
              "      <td>0.00</td>\n",
              "      <td>3.63</td>\n",
              "      <td>3.63</td>\n",
              "      <td>5.00</td>\n",
              "      <td>2.92</td>\n",
              "      <td>5.00</td>\n",
              "      <td>2.64</td>\n",
              "      <td>2.33</td>\n",
              "      <td>2.64</td>\n",
              "      <td>1.7</td>\n",
              "      <td>1.69</td>\n",
              "      <td>1.70</td>\n",
              "      <td>1.72</td>\n",
              "      <td>1.74</td>\n",
              "      <td>0.59</td>\n",
              "      <td>0.50</td>\n",
              "      <td>0.00</td>\n",
              "      <td>0.50</td>\n",
              "      <td>0.00</td>\n",
              "      <td>0.00</td>\n",
              "      <td>0.0</td>\n",
              "      <td>0.0</td>\n",
              "      <td>0.00</td>\n",
              "      <td>NaN</td>\n",
              "    </tr>\n",
              "    <tr>\n",
              "      <th>User 4</th>\n",
              "      <td>0.00</td>\n",
              "      <td>0.50</td>\n",
              "      <td>3.63</td>\n",
              "      <td>3.63</td>\n",
              "      <td>5.00</td>\n",
              "      <td>2.92</td>\n",
              "      <td>5.00</td>\n",
              "      <td>2.35</td>\n",
              "      <td>2.33</td>\n",
              "      <td>2.64</td>\n",
              "      <td>1.73</td>\n",
              "      <td>1.69</td>\n",
              "      <td>1.70</td>\n",
              "      <td>1.72</td>\n",
              "      <td>1.74</td>\n",
              "      <td>0.59</td>\n",
              "      <td>0.50</td>\n",
              "      <td>0.00</td>\n",
              "      <td>0.50</td>\n",
              "      <td>0.00</td>\n",
              "      <td>0.00</td>\n",
              "      <td>0.0</td>\n",
              "      <td>0.0</td>\n",
              "      <td>0.00</td>\n",
              "      <td>NaN</td>\n",
              "    </tr>\n",
              "    <tr>\n",
              "      <th>User 5</th>\n",
              "      <td>0.00</td>\n",
              "      <td>0.00</td>\n",
              "      <td>3.63</td>\n",
              "      <td>3.63</td>\n",
              "      <td>5.00</td>\n",
              "      <td>2.92</td>\n",
              "      <td>5.00</td>\n",
              "      <td>2.64</td>\n",
              "      <td>2.33</td>\n",
              "      <td>2.64</td>\n",
              "      <td>1.7</td>\n",
              "      <td>1.69</td>\n",
              "      <td>1.70</td>\n",
              "      <td>1.72</td>\n",
              "      <td>1.74</td>\n",
              "      <td>0.59</td>\n",
              "      <td>0.50</td>\n",
              "      <td>0.00</td>\n",
              "      <td>0.50</td>\n",
              "      <td>0.00</td>\n",
              "      <td>0.00</td>\n",
              "      <td>0.0</td>\n",
              "      <td>0.0</td>\n",
              "      <td>0.00</td>\n",
              "      <td>NaN</td>\n",
              "    </tr>\n",
              "    <tr>\n",
              "      <th>...</th>\n",
              "      <td>...</td>\n",
              "      <td>...</td>\n",
              "      <td>...</td>\n",
              "      <td>...</td>\n",
              "      <td>...</td>\n",
              "      <td>...</td>\n",
              "      <td>...</td>\n",
              "      <td>...</td>\n",
              "      <td>...</td>\n",
              "      <td>...</td>\n",
              "      <td>...</td>\n",
              "      <td>...</td>\n",
              "      <td>...</td>\n",
              "      <td>...</td>\n",
              "      <td>...</td>\n",
              "      <td>...</td>\n",
              "      <td>...</td>\n",
              "      <td>...</td>\n",
              "      <td>...</td>\n",
              "      <td>...</td>\n",
              "      <td>...</td>\n",
              "      <td>...</td>\n",
              "      <td>...</td>\n",
              "      <td>...</td>\n",
              "      <td>...</td>\n",
              "    </tr>\n",
              "    <tr>\n",
              "      <th>User 5452</th>\n",
              "      <td>0.91</td>\n",
              "      <td>5.00</td>\n",
              "      <td>4.00</td>\n",
              "      <td>2.79</td>\n",
              "      <td>2.77</td>\n",
              "      <td>2.57</td>\n",
              "      <td>2.43</td>\n",
              "      <td>1.09</td>\n",
              "      <td>1.77</td>\n",
              "      <td>1.04</td>\n",
              "      <td>1.02</td>\n",
              "      <td>1.06</td>\n",
              "      <td>1.29</td>\n",
              "      <td>1.29</td>\n",
              "      <td>5.00</td>\n",
              "      <td>0.66</td>\n",
              "      <td>0.65</td>\n",
              "      <td>0.66</td>\n",
              "      <td>0.69</td>\n",
              "      <td>5.00</td>\n",
              "      <td>1.05</td>\n",
              "      <td>5.0</td>\n",
              "      <td>5.0</td>\n",
              "      <td>1.56</td>\n",
              "      <td>NaN</td>\n",
              "    </tr>\n",
              "    <tr>\n",
              "      <th>User 5453</th>\n",
              "      <td>0.93</td>\n",
              "      <td>5.00</td>\n",
              "      <td>4.02</td>\n",
              "      <td>2.79</td>\n",
              "      <td>2.78</td>\n",
              "      <td>2.57</td>\n",
              "      <td>1.77</td>\n",
              "      <td>1.07</td>\n",
              "      <td>1.76</td>\n",
              "      <td>1.02</td>\n",
              "      <td>1.01</td>\n",
              "      <td>1.04</td>\n",
              "      <td>1.27</td>\n",
              "      <td>1.27</td>\n",
              "      <td>0.89</td>\n",
              "      <td>0.65</td>\n",
              "      <td>0.64</td>\n",
              "      <td>0.65</td>\n",
              "      <td>1.59</td>\n",
              "      <td>1.62</td>\n",
              "      <td>1.06</td>\n",
              "      <td>5.0</td>\n",
              "      <td>5.0</td>\n",
              "      <td>1.09</td>\n",
              "      <td>NaN</td>\n",
              "    </tr>\n",
              "    <tr>\n",
              "      <th>User 5454</th>\n",
              "      <td>0.94</td>\n",
              "      <td>5.00</td>\n",
              "      <td>4.03</td>\n",
              "      <td>2.80</td>\n",
              "      <td>2.78</td>\n",
              "      <td>2.57</td>\n",
              "      <td>1.75</td>\n",
              "      <td>1.05</td>\n",
              "      <td>1.75</td>\n",
              "      <td>1.00</td>\n",
              "      <td>0.99</td>\n",
              "      <td>1.00</td>\n",
              "      <td>1.08</td>\n",
              "      <td>1.25</td>\n",
              "      <td>0.87</td>\n",
              "      <td>0.65</td>\n",
              "      <td>0.63</td>\n",
              "      <td>0.64</td>\n",
              "      <td>0.74</td>\n",
              "      <td>5.00</td>\n",
              "      <td>1.07</td>\n",
              "      <td>5.0</td>\n",
              "      <td>5.0</td>\n",
              "      <td>1.11</td>\n",
              "      <td>NaN</td>\n",
              "    </tr>\n",
              "    <tr>\n",
              "      <th>User 5455</th>\n",
              "      <td>0.95</td>\n",
              "      <td>4.05</td>\n",
              "      <td>4.05</td>\n",
              "      <td>2.81</td>\n",
              "      <td>2.79</td>\n",
              "      <td>2.44</td>\n",
              "      <td>1.76</td>\n",
              "      <td>1.03</td>\n",
              "      <td>1.74</td>\n",
              "      <td>0.98</td>\n",
              "      <td>0.97</td>\n",
              "      <td>0.98</td>\n",
              "      <td>1.06</td>\n",
              "      <td>1.23</td>\n",
              "      <td>5.00</td>\n",
              "      <td>0.64</td>\n",
              "      <td>0.63</td>\n",
              "      <td>0.64</td>\n",
              "      <td>0.75</td>\n",
              "      <td>5.00</td>\n",
              "      <td>1.08</td>\n",
              "      <td>5.0</td>\n",
              "      <td>5.0</td>\n",
              "      <td>1.12</td>\n",
              "      <td>NaN</td>\n",
              "    </tr>\n",
              "    <tr>\n",
              "      <th>User 5456</th>\n",
              "      <td>0.95</td>\n",
              "      <td>4.07</td>\n",
              "      <td>5.00</td>\n",
              "      <td>2.82</td>\n",
              "      <td>2.80</td>\n",
              "      <td>2.57</td>\n",
              "      <td>2.42</td>\n",
              "      <td>1.02</td>\n",
              "      <td>1.74</td>\n",
              "      <td>0.96</td>\n",
              "      <td>0.95</td>\n",
              "      <td>0.96</td>\n",
              "      <td>1.01</td>\n",
              "      <td>1.21</td>\n",
              "      <td>0.85</td>\n",
              "      <td>0.64</td>\n",
              "      <td>0.62</td>\n",
              "      <td>0.63</td>\n",
              "      <td>0.78</td>\n",
              "      <td>5.00</td>\n",
              "      <td>1.08</td>\n",
              "      <td>5.0</td>\n",
              "      <td>5.0</td>\n",
              "      <td>1.17</td>\n",
              "      <td>NaN</td>\n",
              "    </tr>\n",
              "  </tbody>\n",
              "</table>\n",
              "<p>5456 rows × 25 columns</p>\n",
              "</div>"
            ],
            "text/plain": [
              "           Category 1  Category 2  ...  Category 24  Unnamed: 25\n",
              "User                               ...                          \n",
              "User 1           0.00        0.00  ...         0.00          NaN\n",
              "User 2           0.00        0.00  ...         0.00          NaN\n",
              "User 3           0.00        0.00  ...         0.00          NaN\n",
              "User 4           0.00        0.50  ...         0.00          NaN\n",
              "User 5           0.00        0.00  ...         0.00          NaN\n",
              "...               ...         ...  ...          ...          ...\n",
              "User 5452        0.91        5.00  ...         1.56          NaN\n",
              "User 5453        0.93        5.00  ...         1.09          NaN\n",
              "User 5454        0.94        5.00  ...         1.11          NaN\n",
              "User 5455        0.95        4.05  ...         1.12          NaN\n",
              "User 5456        0.95        4.07  ...         1.17          NaN\n",
              "\n",
              "[5456 rows x 25 columns]"
            ]
          },
          "metadata": {
            "tags": []
          },
          "execution_count": 10
        }
      ]
    },
    {
      "cell_type": "code",
      "metadata": {
        "id": "KkWHWBgRMQSB",
        "colab_type": "code",
        "colab": {
          "base_uri": "https://localhost:8080/",
          "height": 572
        },
        "outputId": "2cb6d37c-6874-4ea4-cfe9-a768112b7018"
      },
      "source": [
        "data.info()"
      ],
      "execution_count": 11,
      "outputs": [
        {
          "output_type": "stream",
          "text": [
            "<class 'pandas.core.frame.DataFrame'>\n",
            "Index: 5456 entries, User 1 to User 5456\n",
            "Data columns (total 25 columns):\n",
            " #   Column       Non-Null Count  Dtype  \n",
            "---  ------       --------------  -----  \n",
            " 0   Category 1   5456 non-null   float64\n",
            " 1   Category 2   5456 non-null   float64\n",
            " 2   Category 3   5456 non-null   float64\n",
            " 3   Category 4   5456 non-null   float64\n",
            " 4   Category 5   5456 non-null   float64\n",
            " 5   Category 6   5456 non-null   float64\n",
            " 6   Category 7   5456 non-null   float64\n",
            " 7   Category 8   5456 non-null   float64\n",
            " 8   Category 9   5456 non-null   float64\n",
            " 9   Category 10  5456 non-null   float64\n",
            " 10  Category 11  5456 non-null   object \n",
            " 11  Category 12  5455 non-null   float64\n",
            " 12  Category 13  5456 non-null   float64\n",
            " 13  Category 14  5456 non-null   float64\n",
            " 14  Category 15  5456 non-null   float64\n",
            " 15  Category 16  5456 non-null   float64\n",
            " 16  Category 17  5456 non-null   float64\n",
            " 17  Category 18  5456 non-null   float64\n",
            " 18  Category 19  5456 non-null   float64\n",
            " 19  Category 20  5456 non-null   float64\n",
            " 20  Category 21  5456 non-null   float64\n",
            " 21  Category 22  5456 non-null   float64\n",
            " 22  Category 23  5456 non-null   float64\n",
            " 23  Category 24  5455 non-null   float64\n",
            " 24  Unnamed: 25  2 non-null      float64\n",
            "dtypes: float64(24), object(1)\n",
            "memory usage: 1.1+ MB\n"
          ],
          "name": "stdout"
        }
      ]
    },
    {
      "cell_type": "code",
      "metadata": {
        "id": "nM3RT6XWZgmz",
        "colab_type": "code",
        "colab": {}
      },
      "source": [
        "# converting the col Category 11 from object to float type\n",
        "data['Category 11'] = data['Category 11'].astype(float)"
      ],
      "execution_count": 0,
      "outputs": []
    },
    {
      "cell_type": "code",
      "metadata": {
        "id": "5-6hNsIjM8d6",
        "colab_type": "code",
        "colab": {}
      },
      "source": [
        "data = data[data['Unnamed: 25'].isnull()]\n",
        "data.drop(columns=['Unnamed: 25'], inplace=True)"
      ],
      "execution_count": 0,
      "outputs": []
    },
    {
      "cell_type": "code",
      "metadata": {
        "id": "CMzqR4GSNN7Y",
        "colab_type": "code",
        "colab": {
          "base_uri": "https://localhost:8080/",
          "height": 657
        },
        "outputId": "f7b78e06-33ec-47e3-ec67-4a7f931836b1"
      },
      "source": [
        "data"
      ],
      "execution_count": 16,
      "outputs": [
        {
          "output_type": "execute_result",
          "data": {
            "text/html": [
              "<div>\n",
              "<style scoped>\n",
              "    .dataframe tbody tr th:only-of-type {\n",
              "        vertical-align: middle;\n",
              "    }\n",
              "\n",
              "    .dataframe tbody tr th {\n",
              "        vertical-align: top;\n",
              "    }\n",
              "\n",
              "    .dataframe thead th {\n",
              "        text-align: right;\n",
              "    }\n",
              "</style>\n",
              "<table border=\"1\" class=\"dataframe\">\n",
              "  <thead>\n",
              "    <tr style=\"text-align: right;\">\n",
              "      <th></th>\n",
              "      <th>Category 1</th>\n",
              "      <th>Category 2</th>\n",
              "      <th>Category 3</th>\n",
              "      <th>Category 4</th>\n",
              "      <th>Category 5</th>\n",
              "      <th>Category 6</th>\n",
              "      <th>Category 7</th>\n",
              "      <th>Category 8</th>\n",
              "      <th>Category 9</th>\n",
              "      <th>Category 10</th>\n",
              "      <th>Category 11</th>\n",
              "      <th>Category 12</th>\n",
              "      <th>Category 13</th>\n",
              "      <th>Category 14</th>\n",
              "      <th>Category 15</th>\n",
              "      <th>Category 16</th>\n",
              "      <th>Category 17</th>\n",
              "      <th>Category 18</th>\n",
              "      <th>Category 19</th>\n",
              "      <th>Category 20</th>\n",
              "      <th>Category 21</th>\n",
              "      <th>Category 22</th>\n",
              "      <th>Category 23</th>\n",
              "      <th>Category 24</th>\n",
              "    </tr>\n",
              "    <tr>\n",
              "      <th>User</th>\n",
              "      <th></th>\n",
              "      <th></th>\n",
              "      <th></th>\n",
              "      <th></th>\n",
              "      <th></th>\n",
              "      <th></th>\n",
              "      <th></th>\n",
              "      <th></th>\n",
              "      <th></th>\n",
              "      <th></th>\n",
              "      <th></th>\n",
              "      <th></th>\n",
              "      <th></th>\n",
              "      <th></th>\n",
              "      <th></th>\n",
              "      <th></th>\n",
              "      <th></th>\n",
              "      <th></th>\n",
              "      <th></th>\n",
              "      <th></th>\n",
              "      <th></th>\n",
              "      <th></th>\n",
              "      <th></th>\n",
              "      <th></th>\n",
              "    </tr>\n",
              "  </thead>\n",
              "  <tbody>\n",
              "    <tr>\n",
              "      <th>User 1</th>\n",
              "      <td>0.00</td>\n",
              "      <td>0.00</td>\n",
              "      <td>3.63</td>\n",
              "      <td>3.65</td>\n",
              "      <td>5.00</td>\n",
              "      <td>2.92</td>\n",
              "      <td>5.00</td>\n",
              "      <td>2.35</td>\n",
              "      <td>2.33</td>\n",
              "      <td>2.64</td>\n",
              "      <td>1.7</td>\n",
              "      <td>1.69</td>\n",
              "      <td>1.70</td>\n",
              "      <td>1.72</td>\n",
              "      <td>1.74</td>\n",
              "      <td>0.59</td>\n",
              "      <td>0.50</td>\n",
              "      <td>0.00</td>\n",
              "      <td>0.50</td>\n",
              "      <td>0.00</td>\n",
              "      <td>0.00</td>\n",
              "      <td>0.0</td>\n",
              "      <td>0.0</td>\n",
              "      <td>0.00</td>\n",
              "    </tr>\n",
              "    <tr>\n",
              "      <th>User 2</th>\n",
              "      <td>0.00</td>\n",
              "      <td>0.00</td>\n",
              "      <td>3.63</td>\n",
              "      <td>3.65</td>\n",
              "      <td>5.00</td>\n",
              "      <td>2.92</td>\n",
              "      <td>5.00</td>\n",
              "      <td>2.64</td>\n",
              "      <td>2.33</td>\n",
              "      <td>2.65</td>\n",
              "      <td>1.7</td>\n",
              "      <td>1.69</td>\n",
              "      <td>1.70</td>\n",
              "      <td>1.72</td>\n",
              "      <td>1.74</td>\n",
              "      <td>0.59</td>\n",
              "      <td>0.50</td>\n",
              "      <td>0.00</td>\n",
              "      <td>0.50</td>\n",
              "      <td>0.00</td>\n",
              "      <td>0.00</td>\n",
              "      <td>0.0</td>\n",
              "      <td>0.0</td>\n",
              "      <td>0.00</td>\n",
              "    </tr>\n",
              "    <tr>\n",
              "      <th>User 3</th>\n",
              "      <td>0.00</td>\n",
              "      <td>0.00</td>\n",
              "      <td>3.63</td>\n",
              "      <td>3.63</td>\n",
              "      <td>5.00</td>\n",
              "      <td>2.92</td>\n",
              "      <td>5.00</td>\n",
              "      <td>2.64</td>\n",
              "      <td>2.33</td>\n",
              "      <td>2.64</td>\n",
              "      <td>1.7</td>\n",
              "      <td>1.69</td>\n",
              "      <td>1.70</td>\n",
              "      <td>1.72</td>\n",
              "      <td>1.74</td>\n",
              "      <td>0.59</td>\n",
              "      <td>0.50</td>\n",
              "      <td>0.00</td>\n",
              "      <td>0.50</td>\n",
              "      <td>0.00</td>\n",
              "      <td>0.00</td>\n",
              "      <td>0.0</td>\n",
              "      <td>0.0</td>\n",
              "      <td>0.00</td>\n",
              "    </tr>\n",
              "    <tr>\n",
              "      <th>User 4</th>\n",
              "      <td>0.00</td>\n",
              "      <td>0.50</td>\n",
              "      <td>3.63</td>\n",
              "      <td>3.63</td>\n",
              "      <td>5.00</td>\n",
              "      <td>2.92</td>\n",
              "      <td>5.00</td>\n",
              "      <td>2.35</td>\n",
              "      <td>2.33</td>\n",
              "      <td>2.64</td>\n",
              "      <td>1.73</td>\n",
              "      <td>1.69</td>\n",
              "      <td>1.70</td>\n",
              "      <td>1.72</td>\n",
              "      <td>1.74</td>\n",
              "      <td>0.59</td>\n",
              "      <td>0.50</td>\n",
              "      <td>0.00</td>\n",
              "      <td>0.50</td>\n",
              "      <td>0.00</td>\n",
              "      <td>0.00</td>\n",
              "      <td>0.0</td>\n",
              "      <td>0.0</td>\n",
              "      <td>0.00</td>\n",
              "    </tr>\n",
              "    <tr>\n",
              "      <th>User 5</th>\n",
              "      <td>0.00</td>\n",
              "      <td>0.00</td>\n",
              "      <td>3.63</td>\n",
              "      <td>3.63</td>\n",
              "      <td>5.00</td>\n",
              "      <td>2.92</td>\n",
              "      <td>5.00</td>\n",
              "      <td>2.64</td>\n",
              "      <td>2.33</td>\n",
              "      <td>2.64</td>\n",
              "      <td>1.7</td>\n",
              "      <td>1.69</td>\n",
              "      <td>1.70</td>\n",
              "      <td>1.72</td>\n",
              "      <td>1.74</td>\n",
              "      <td>0.59</td>\n",
              "      <td>0.50</td>\n",
              "      <td>0.00</td>\n",
              "      <td>0.50</td>\n",
              "      <td>0.00</td>\n",
              "      <td>0.00</td>\n",
              "      <td>0.0</td>\n",
              "      <td>0.0</td>\n",
              "      <td>0.00</td>\n",
              "    </tr>\n",
              "    <tr>\n",
              "      <th>...</th>\n",
              "      <td>...</td>\n",
              "      <td>...</td>\n",
              "      <td>...</td>\n",
              "      <td>...</td>\n",
              "      <td>...</td>\n",
              "      <td>...</td>\n",
              "      <td>...</td>\n",
              "      <td>...</td>\n",
              "      <td>...</td>\n",
              "      <td>...</td>\n",
              "      <td>...</td>\n",
              "      <td>...</td>\n",
              "      <td>...</td>\n",
              "      <td>...</td>\n",
              "      <td>...</td>\n",
              "      <td>...</td>\n",
              "      <td>...</td>\n",
              "      <td>...</td>\n",
              "      <td>...</td>\n",
              "      <td>...</td>\n",
              "      <td>...</td>\n",
              "      <td>...</td>\n",
              "      <td>...</td>\n",
              "      <td>...</td>\n",
              "    </tr>\n",
              "    <tr>\n",
              "      <th>User 5452</th>\n",
              "      <td>0.91</td>\n",
              "      <td>5.00</td>\n",
              "      <td>4.00</td>\n",
              "      <td>2.79</td>\n",
              "      <td>2.77</td>\n",
              "      <td>2.57</td>\n",
              "      <td>2.43</td>\n",
              "      <td>1.09</td>\n",
              "      <td>1.77</td>\n",
              "      <td>1.04</td>\n",
              "      <td>1.02</td>\n",
              "      <td>1.06</td>\n",
              "      <td>1.29</td>\n",
              "      <td>1.29</td>\n",
              "      <td>5.00</td>\n",
              "      <td>0.66</td>\n",
              "      <td>0.65</td>\n",
              "      <td>0.66</td>\n",
              "      <td>0.69</td>\n",
              "      <td>5.00</td>\n",
              "      <td>1.05</td>\n",
              "      <td>5.0</td>\n",
              "      <td>5.0</td>\n",
              "      <td>1.56</td>\n",
              "    </tr>\n",
              "    <tr>\n",
              "      <th>User 5453</th>\n",
              "      <td>0.93</td>\n",
              "      <td>5.00</td>\n",
              "      <td>4.02</td>\n",
              "      <td>2.79</td>\n",
              "      <td>2.78</td>\n",
              "      <td>2.57</td>\n",
              "      <td>1.77</td>\n",
              "      <td>1.07</td>\n",
              "      <td>1.76</td>\n",
              "      <td>1.02</td>\n",
              "      <td>1.01</td>\n",
              "      <td>1.04</td>\n",
              "      <td>1.27</td>\n",
              "      <td>1.27</td>\n",
              "      <td>0.89</td>\n",
              "      <td>0.65</td>\n",
              "      <td>0.64</td>\n",
              "      <td>0.65</td>\n",
              "      <td>1.59</td>\n",
              "      <td>1.62</td>\n",
              "      <td>1.06</td>\n",
              "      <td>5.0</td>\n",
              "      <td>5.0</td>\n",
              "      <td>1.09</td>\n",
              "    </tr>\n",
              "    <tr>\n",
              "      <th>User 5454</th>\n",
              "      <td>0.94</td>\n",
              "      <td>5.00</td>\n",
              "      <td>4.03</td>\n",
              "      <td>2.80</td>\n",
              "      <td>2.78</td>\n",
              "      <td>2.57</td>\n",
              "      <td>1.75</td>\n",
              "      <td>1.05</td>\n",
              "      <td>1.75</td>\n",
              "      <td>1.00</td>\n",
              "      <td>0.99</td>\n",
              "      <td>1.00</td>\n",
              "      <td>1.08</td>\n",
              "      <td>1.25</td>\n",
              "      <td>0.87</td>\n",
              "      <td>0.65</td>\n",
              "      <td>0.63</td>\n",
              "      <td>0.64</td>\n",
              "      <td>0.74</td>\n",
              "      <td>5.00</td>\n",
              "      <td>1.07</td>\n",
              "      <td>5.0</td>\n",
              "      <td>5.0</td>\n",
              "      <td>1.11</td>\n",
              "    </tr>\n",
              "    <tr>\n",
              "      <th>User 5455</th>\n",
              "      <td>0.95</td>\n",
              "      <td>4.05</td>\n",
              "      <td>4.05</td>\n",
              "      <td>2.81</td>\n",
              "      <td>2.79</td>\n",
              "      <td>2.44</td>\n",
              "      <td>1.76</td>\n",
              "      <td>1.03</td>\n",
              "      <td>1.74</td>\n",
              "      <td>0.98</td>\n",
              "      <td>0.97</td>\n",
              "      <td>0.98</td>\n",
              "      <td>1.06</td>\n",
              "      <td>1.23</td>\n",
              "      <td>5.00</td>\n",
              "      <td>0.64</td>\n",
              "      <td>0.63</td>\n",
              "      <td>0.64</td>\n",
              "      <td>0.75</td>\n",
              "      <td>5.00</td>\n",
              "      <td>1.08</td>\n",
              "      <td>5.0</td>\n",
              "      <td>5.0</td>\n",
              "      <td>1.12</td>\n",
              "    </tr>\n",
              "    <tr>\n",
              "      <th>User 5456</th>\n",
              "      <td>0.95</td>\n",
              "      <td>4.07</td>\n",
              "      <td>5.00</td>\n",
              "      <td>2.82</td>\n",
              "      <td>2.80</td>\n",
              "      <td>2.57</td>\n",
              "      <td>2.42</td>\n",
              "      <td>1.02</td>\n",
              "      <td>1.74</td>\n",
              "      <td>0.96</td>\n",
              "      <td>0.95</td>\n",
              "      <td>0.96</td>\n",
              "      <td>1.01</td>\n",
              "      <td>1.21</td>\n",
              "      <td>0.85</td>\n",
              "      <td>0.64</td>\n",
              "      <td>0.62</td>\n",
              "      <td>0.63</td>\n",
              "      <td>0.78</td>\n",
              "      <td>5.00</td>\n",
              "      <td>1.08</td>\n",
              "      <td>5.0</td>\n",
              "      <td>5.0</td>\n",
              "      <td>1.17</td>\n",
              "    </tr>\n",
              "  </tbody>\n",
              "</table>\n",
              "<p>5454 rows × 24 columns</p>\n",
              "</div>"
            ],
            "text/plain": [
              "           Category 1  Category 2  ...  Category 23  Category 24\n",
              "User                               ...                          \n",
              "User 1           0.00        0.00  ...          0.0         0.00\n",
              "User 2           0.00        0.00  ...          0.0         0.00\n",
              "User 3           0.00        0.00  ...          0.0         0.00\n",
              "User 4           0.00        0.50  ...          0.0         0.00\n",
              "User 5           0.00        0.00  ...          0.0         0.00\n",
              "...               ...         ...  ...          ...          ...\n",
              "User 5452        0.91        5.00  ...          5.0         1.56\n",
              "User 5453        0.93        5.00  ...          5.0         1.09\n",
              "User 5454        0.94        5.00  ...          5.0         1.11\n",
              "User 5455        0.95        4.05  ...          5.0         1.12\n",
              "User 5456        0.95        4.07  ...          5.0         1.17\n",
              "\n",
              "[5454 rows x 24 columns]"
            ]
          },
          "metadata": {
            "tags": []
          },
          "execution_count": 16
        }
      ]
    },
    {
      "cell_type": "code",
      "metadata": {
        "id": "zsMEk9ZlPHAt",
        "colab_type": "code",
        "colab": {
          "base_uri": "https://localhost:8080/",
          "height": 331
        },
        "outputId": "fa136649-b606-4925-b155-db695d6bfb7d"
      },
      "source": [
        "data.describe()"
      ],
      "execution_count": 37,
      "outputs": [
        {
          "output_type": "execute_result",
          "data": {
            "text/html": [
              "<div>\n",
              "<style scoped>\n",
              "    .dataframe tbody tr th:only-of-type {\n",
              "        vertical-align: middle;\n",
              "    }\n",
              "\n",
              "    .dataframe tbody tr th {\n",
              "        vertical-align: top;\n",
              "    }\n",
              "\n",
              "    .dataframe thead th {\n",
              "        text-align: right;\n",
              "    }\n",
              "</style>\n",
              "<table border=\"1\" class=\"dataframe\">\n",
              "  <thead>\n",
              "    <tr style=\"text-align: right;\">\n",
              "      <th></th>\n",
              "      <th>Category 1</th>\n",
              "      <th>Category 2</th>\n",
              "      <th>Category 3</th>\n",
              "      <th>Category 4</th>\n",
              "      <th>Category 5</th>\n",
              "      <th>Category 6</th>\n",
              "      <th>Category 7</th>\n",
              "      <th>Category 8</th>\n",
              "      <th>Category 9</th>\n",
              "      <th>Category 10</th>\n",
              "      <th>Category 11</th>\n",
              "      <th>Category 12</th>\n",
              "      <th>Category 13</th>\n",
              "      <th>Category 14</th>\n",
              "      <th>Category 15</th>\n",
              "      <th>Category 16</th>\n",
              "      <th>Category 17</th>\n",
              "      <th>Category 18</th>\n",
              "      <th>Category 19</th>\n",
              "      <th>Category 20</th>\n",
              "      <th>Category 21</th>\n",
              "      <th>Category 22</th>\n",
              "      <th>Category 23</th>\n",
              "      <th>Category 24</th>\n",
              "    </tr>\n",
              "  </thead>\n",
              "  <tbody>\n",
              "    <tr>\n",
              "      <th>count</th>\n",
              "      <td>5454.000000</td>\n",
              "      <td>5454.000000</td>\n",
              "      <td>5454.000000</td>\n",
              "      <td>5454.000000</td>\n",
              "      <td>5454.000000</td>\n",
              "      <td>5454.000000</td>\n",
              "      <td>5454.000000</td>\n",
              "      <td>5454.000000</td>\n",
              "      <td>5454.000000</td>\n",
              "      <td>5454.000000</td>\n",
              "      <td>5454.000000</td>\n",
              "      <td>5454.000000</td>\n",
              "      <td>5454.000000</td>\n",
              "      <td>5454.000000</td>\n",
              "      <td>5454.000000</td>\n",
              "      <td>5454.000000</td>\n",
              "      <td>5454.000000</td>\n",
              "      <td>5454.000000</td>\n",
              "      <td>5454.000000</td>\n",
              "      <td>5454.000000</td>\n",
              "      <td>5454.000000</td>\n",
              "      <td>5454.000000</td>\n",
              "      <td>5454.000000</td>\n",
              "      <td>5454.000000</td>\n",
              "    </tr>\n",
              "    <tr>\n",
              "      <th>mean</th>\n",
              "      <td>1.455746</td>\n",
              "      <td>2.320048</td>\n",
              "      <td>2.489059</td>\n",
              "      <td>2.797103</td>\n",
              "      <td>2.958904</td>\n",
              "      <td>2.893423</td>\n",
              "      <td>3.351476</td>\n",
              "      <td>2.541177</td>\n",
              "      <td>3.126542</td>\n",
              "      <td>2.832695</td>\n",
              "      <td>2.549622</td>\n",
              "      <td>2.078401</td>\n",
              "      <td>2.125820</td>\n",
              "      <td>2.190429</td>\n",
              "      <td>2.206140</td>\n",
              "      <td>1.192710</td>\n",
              "      <td>0.949349</td>\n",
              "      <td>0.822525</td>\n",
              "      <td>0.969250</td>\n",
              "      <td>0.999626</td>\n",
              "      <td>0.965275</td>\n",
              "      <td>1.749345</td>\n",
              "      <td>1.531051</td>\n",
              "      <td>1.560570</td>\n",
              "    </tr>\n",
              "    <tr>\n",
              "      <th>std</th>\n",
              "      <td>0.827732</td>\n",
              "      <td>1.421576</td>\n",
              "      <td>1.247503</td>\n",
              "      <td>1.309188</td>\n",
              "      <td>1.338785</td>\n",
              "      <td>1.282101</td>\n",
              "      <td>1.413291</td>\n",
              "      <td>1.111398</td>\n",
              "      <td>1.356774</td>\n",
              "      <td>1.307299</td>\n",
              "      <td>1.381498</td>\n",
              "      <td>1.249315</td>\n",
              "      <td>1.406682</td>\n",
              "      <td>1.576505</td>\n",
              "      <td>1.715848</td>\n",
              "      <td>1.107176</td>\n",
              "      <td>0.973628</td>\n",
              "      <td>0.948015</td>\n",
              "      <td>1.202883</td>\n",
              "      <td>1.193129</td>\n",
              "      <td>0.928326</td>\n",
              "      <td>1.597816</td>\n",
              "      <td>1.316180</td>\n",
              "      <td>1.171784</td>\n",
              "    </tr>\n",
              "    <tr>\n",
              "      <th>min</th>\n",
              "      <td>0.000000</td>\n",
              "      <td>0.000000</td>\n",
              "      <td>0.000000</td>\n",
              "      <td>0.830000</td>\n",
              "      <td>1.120000</td>\n",
              "      <td>1.110000</td>\n",
              "      <td>1.120000</td>\n",
              "      <td>0.860000</td>\n",
              "      <td>0.840000</td>\n",
              "      <td>0.810000</td>\n",
              "      <td>0.780000</td>\n",
              "      <td>0.780000</td>\n",
              "      <td>0.770000</td>\n",
              "      <td>0.760000</td>\n",
              "      <td>0.000000</td>\n",
              "      <td>0.000000</td>\n",
              "      <td>0.000000</td>\n",
              "      <td>0.000000</td>\n",
              "      <td>0.000000</td>\n",
              "      <td>0.000000</td>\n",
              "      <td>0.000000</td>\n",
              "      <td>0.000000</td>\n",
              "      <td>0.000000</td>\n",
              "      <td>0.000000</td>\n",
              "    </tr>\n",
              "    <tr>\n",
              "      <th>25%</th>\n",
              "      <td>0.920000</td>\n",
              "      <td>1.360000</td>\n",
              "      <td>1.540000</td>\n",
              "      <td>1.730000</td>\n",
              "      <td>1.770000</td>\n",
              "      <td>1.790000</td>\n",
              "      <td>1.930000</td>\n",
              "      <td>1.620000</td>\n",
              "      <td>1.800000</td>\n",
              "      <td>1.640000</td>\n",
              "      <td>1.580000</td>\n",
              "      <td>1.290000</td>\n",
              "      <td>1.190000</td>\n",
              "      <td>1.030000</td>\n",
              "      <td>0.860000</td>\n",
              "      <td>0.690000</td>\n",
              "      <td>0.580000</td>\n",
              "      <td>0.530000</td>\n",
              "      <td>0.520000</td>\n",
              "      <td>0.540000</td>\n",
              "      <td>0.570000</td>\n",
              "      <td>0.740000</td>\n",
              "      <td>0.790000</td>\n",
              "      <td>0.880000</td>\n",
              "    </tr>\n",
              "    <tr>\n",
              "      <th>50%</th>\n",
              "      <td>1.340000</td>\n",
              "      <td>1.910000</td>\n",
              "      <td>2.060000</td>\n",
              "      <td>2.460000</td>\n",
              "      <td>2.670000</td>\n",
              "      <td>2.680000</td>\n",
              "      <td>3.230000</td>\n",
              "      <td>2.170000</td>\n",
              "      <td>2.800000</td>\n",
              "      <td>2.680000</td>\n",
              "      <td>2.000000</td>\n",
              "      <td>1.690000</td>\n",
              "      <td>1.610000</td>\n",
              "      <td>1.490000</td>\n",
              "      <td>1.330000</td>\n",
              "      <td>0.800000</td>\n",
              "      <td>0.740000</td>\n",
              "      <td>0.690000</td>\n",
              "      <td>0.690000</td>\n",
              "      <td>0.690000</td>\n",
              "      <td>0.760000</td>\n",
              "      <td>1.030000</td>\n",
              "      <td>1.070000</td>\n",
              "      <td>1.290000</td>\n",
              "    </tr>\n",
              "    <tr>\n",
              "      <th>75%</th>\n",
              "      <td>1.810000</td>\n",
              "      <td>2.687500</td>\n",
              "      <td>2.740000</td>\n",
              "      <td>4.097500</td>\n",
              "      <td>4.310000</td>\n",
              "      <td>3.837500</td>\n",
              "      <td>5.000000</td>\n",
              "      <td>3.190000</td>\n",
              "      <td>5.000000</td>\n",
              "      <td>3.527500</td>\n",
              "      <td>3.217500</td>\n",
              "      <td>2.287500</td>\n",
              "      <td>2.360000</td>\n",
              "      <td>2.740000</td>\n",
              "      <td>4.440000</td>\n",
              "      <td>1.160000</td>\n",
              "      <td>0.910000</td>\n",
              "      <td>0.840000</td>\n",
              "      <td>0.860000</td>\n",
              "      <td>0.860000</td>\n",
              "      <td>1.000000</td>\n",
              "      <td>2.070000</td>\n",
              "      <td>1.560000</td>\n",
              "      <td>1.660000</td>\n",
              "    </tr>\n",
              "    <tr>\n",
              "      <th>max</th>\n",
              "      <td>5.000000</td>\n",
              "      <td>5.000000</td>\n",
              "      <td>5.000000</td>\n",
              "      <td>5.000000</td>\n",
              "      <td>5.000000</td>\n",
              "      <td>5.000000</td>\n",
              "      <td>5.000000</td>\n",
              "      <td>5.000000</td>\n",
              "      <td>5.000000</td>\n",
              "      <td>5.000000</td>\n",
              "      <td>5.000000</td>\n",
              "      <td>5.000000</td>\n",
              "      <td>5.000000</td>\n",
              "      <td>5.000000</td>\n",
              "      <td>5.000000</td>\n",
              "      <td>5.000000</td>\n",
              "      <td>5.000000</td>\n",
              "      <td>5.000000</td>\n",
              "      <td>5.000000</td>\n",
              "      <td>5.000000</td>\n",
              "      <td>5.000000</td>\n",
              "      <td>5.000000</td>\n",
              "      <td>5.000000</td>\n",
              "      <td>5.000000</td>\n",
              "    </tr>\n",
              "  </tbody>\n",
              "</table>\n",
              "</div>"
            ],
            "text/plain": [
              "        Category 1   Category 2  ...  Category 23  Category 24\n",
              "count  5454.000000  5454.000000  ...  5454.000000  5454.000000\n",
              "mean      1.455746     2.320048  ...     1.531051     1.560570\n",
              "std       0.827732     1.421576  ...     1.316180     1.171784\n",
              "min       0.000000     0.000000  ...     0.000000     0.000000\n",
              "25%       0.920000     1.360000  ...     0.790000     0.880000\n",
              "50%       1.340000     1.910000  ...     1.070000     1.290000\n",
              "75%       1.810000     2.687500  ...     1.560000     1.660000\n",
              "max       5.000000     5.000000  ...     5.000000     5.000000\n",
              "\n",
              "[8 rows x 24 columns]"
            ]
          },
          "metadata": {
            "tags": []
          },
          "execution_count": 37
        }
      ]
    },
    {
      "cell_type": "markdown",
      "metadata": {
        "id": "H7PEMLXWR1MX",
        "colab_type": "text"
      },
      "source": [
        "**Here we don't have a target column. we create one by taking avg rating of cols in a row.**\n",
        "* if avg <= 2 : 0 will not take membership\n",
        "* elif avg > 2: 1 will take membership"
      ]
    },
    {
      "cell_type": "code",
      "metadata": {
        "id": "LMsdUqVvRPFG",
        "colab_type": "code",
        "colab": {}
      },
      "source": [
        "def f(r):\n",
        "  a = round(np.average(np.array(r.values)))\n",
        "  if a <= 2:\n",
        "    return 0\n",
        "  else :\n",
        "    return 1\n",
        "\n",
        "\n",
        "data['take_membership'] = data.apply(f, axis=1)"
      ],
      "execution_count": 0,
      "outputs": []
    },
    {
      "cell_type": "code",
      "metadata": {
        "id": "h0pgAxkQai7Y",
        "colab_type": "code",
        "colab": {
          "base_uri": "https://localhost:8080/",
          "height": 69
        },
        "outputId": "b9184049-8bd6-4ce5-da62-8d3b6f762609"
      },
      "source": [
        "data.take_membership.value_counts()"
      ],
      "execution_count": 44,
      "outputs": [
        {
          "output_type": "execute_result",
          "data": {
            "text/plain": [
              "1    2858\n",
              "0    2596\n",
              "Name: take_membership, dtype: int64"
            ]
          },
          "metadata": {
            "tags": []
          },
          "execution_count": 44
        }
      ]
    },
    {
      "cell_type": "code",
      "metadata": {
        "id": "kB4CixvJbuiD",
        "colab_type": "code",
        "colab": {
          "base_uri": "https://localhost:8080/",
          "height": 357
        },
        "outputId": "731ca8d9-6453-424d-c806-86bad60a8a78"
      },
      "source": [
        "data.sample(5)"
      ],
      "execution_count": 49,
      "outputs": [
        {
          "output_type": "execute_result",
          "data": {
            "text/html": [
              "<div>\n",
              "<style scoped>\n",
              "    .dataframe tbody tr th:only-of-type {\n",
              "        vertical-align: middle;\n",
              "    }\n",
              "\n",
              "    .dataframe tbody tr th {\n",
              "        vertical-align: top;\n",
              "    }\n",
              "\n",
              "    .dataframe thead th {\n",
              "        text-align: right;\n",
              "    }\n",
              "</style>\n",
              "<table border=\"1\" class=\"dataframe\">\n",
              "  <thead>\n",
              "    <tr style=\"text-align: right;\">\n",
              "      <th></th>\n",
              "      <th>Category 1</th>\n",
              "      <th>Category 2</th>\n",
              "      <th>Category 3</th>\n",
              "      <th>Category 4</th>\n",
              "      <th>Category 5</th>\n",
              "      <th>Category 6</th>\n",
              "      <th>Category 7</th>\n",
              "      <th>Category 8</th>\n",
              "      <th>Category 9</th>\n",
              "      <th>Category 10</th>\n",
              "      <th>Category 11</th>\n",
              "      <th>Category 12</th>\n",
              "      <th>Category 13</th>\n",
              "      <th>Category 14</th>\n",
              "      <th>Category 15</th>\n",
              "      <th>Category 16</th>\n",
              "      <th>Category 17</th>\n",
              "      <th>Category 18</th>\n",
              "      <th>Category 19</th>\n",
              "      <th>Category 20</th>\n",
              "      <th>Category 21</th>\n",
              "      <th>Category 22</th>\n",
              "      <th>Category 23</th>\n",
              "      <th>Category 24</th>\n",
              "      <th>take_membership</th>\n",
              "    </tr>\n",
              "    <tr>\n",
              "      <th>User</th>\n",
              "      <th></th>\n",
              "      <th></th>\n",
              "      <th></th>\n",
              "      <th></th>\n",
              "      <th></th>\n",
              "      <th></th>\n",
              "      <th></th>\n",
              "      <th></th>\n",
              "      <th></th>\n",
              "      <th></th>\n",
              "      <th></th>\n",
              "      <th></th>\n",
              "      <th></th>\n",
              "      <th></th>\n",
              "      <th></th>\n",
              "      <th></th>\n",
              "      <th></th>\n",
              "      <th></th>\n",
              "      <th></th>\n",
              "      <th></th>\n",
              "      <th></th>\n",
              "      <th></th>\n",
              "      <th></th>\n",
              "      <th></th>\n",
              "      <th></th>\n",
              "    </tr>\n",
              "  </thead>\n",
              "  <tbody>\n",
              "    <tr>\n",
              "      <th>User 3819</th>\n",
              "      <td>1.40</td>\n",
              "      <td>1.41</td>\n",
              "      <td>5.00</td>\n",
              "      <td>1.48</td>\n",
              "      <td>3.22</td>\n",
              "      <td>3.21</td>\n",
              "      <td>3.21</td>\n",
              "      <td>3.23</td>\n",
              "      <td>3.87</td>\n",
              "      <td>5.00</td>\n",
              "      <td>5.00</td>\n",
              "      <td>1.54</td>\n",
              "      <td>1.55</td>\n",
              "      <td>1.51</td>\n",
              "      <td>0.83</td>\n",
              "      <td>1.55</td>\n",
              "      <td>0.56</td>\n",
              "      <td>0.00</td>\n",
              "      <td>0.00</td>\n",
              "      <td>0.51</td>\n",
              "      <td>0.53</td>\n",
              "      <td>0.58</td>\n",
              "      <td>1.47</td>\n",
              "      <td>1.40</td>\n",
              "      <td>1</td>\n",
              "    </tr>\n",
              "    <tr>\n",
              "      <th>User 2038</th>\n",
              "      <td>1.42</td>\n",
              "      <td>1.67</td>\n",
              "      <td>1.68</td>\n",
              "      <td>1.71</td>\n",
              "      <td>1.73</td>\n",
              "      <td>1.82</td>\n",
              "      <td>3.25</td>\n",
              "      <td>3.16</td>\n",
              "      <td>4.38</td>\n",
              "      <td>3.68</td>\n",
              "      <td>5.00</td>\n",
              "      <td>1.96</td>\n",
              "      <td>1.29</td>\n",
              "      <td>1.29</td>\n",
              "      <td>1.28</td>\n",
              "      <td>1.28</td>\n",
              "      <td>0.59</td>\n",
              "      <td>0.56</td>\n",
              "      <td>0.54</td>\n",
              "      <td>0.53</td>\n",
              "      <td>0.55</td>\n",
              "      <td>0.68</td>\n",
              "      <td>0.95</td>\n",
              "      <td>1.40</td>\n",
              "      <td>0</td>\n",
              "    </tr>\n",
              "    <tr>\n",
              "      <th>User 4557</th>\n",
              "      <td>0.98</td>\n",
              "      <td>1.02</td>\n",
              "      <td>1.04</td>\n",
              "      <td>5.00</td>\n",
              "      <td>2.75</td>\n",
              "      <td>2.75</td>\n",
              "      <td>2.48</td>\n",
              "      <td>1.82</td>\n",
              "      <td>1.83</td>\n",
              "      <td>1.19</td>\n",
              "      <td>1.16</td>\n",
              "      <td>1.15</td>\n",
              "      <td>1.17</td>\n",
              "      <td>1.40</td>\n",
              "      <td>1.01</td>\n",
              "      <td>0.71</td>\n",
              "      <td>0.68</td>\n",
              "      <td>0.68</td>\n",
              "      <td>0.71</td>\n",
              "      <td>5.00</td>\n",
              "      <td>0.96</td>\n",
              "      <td>0.97</td>\n",
              "      <td>0.97</td>\n",
              "      <td>0.97</td>\n",
              "      <td>0</td>\n",
              "    </tr>\n",
              "    <tr>\n",
              "      <th>User 222</th>\n",
              "      <td>1.39</td>\n",
              "      <td>1.39</td>\n",
              "      <td>1.42</td>\n",
              "      <td>2.55</td>\n",
              "      <td>1.95</td>\n",
              "      <td>1.84</td>\n",
              "      <td>3.23</td>\n",
              "      <td>3.24</td>\n",
              "      <td>3.89</td>\n",
              "      <td>3.88</td>\n",
              "      <td>5.00</td>\n",
              "      <td>1.59</td>\n",
              "      <td>1.54</td>\n",
              "      <td>1.58</td>\n",
              "      <td>1.19</td>\n",
              "      <td>0.81</td>\n",
              "      <td>0.51</td>\n",
              "      <td>0.00</td>\n",
              "      <td>0.00</td>\n",
              "      <td>0.00</td>\n",
              "      <td>0.00</td>\n",
              "      <td>5.00</td>\n",
              "      <td>1.02</td>\n",
              "      <td>1.42</td>\n",
              "      <td>0</td>\n",
              "    </tr>\n",
              "    <tr>\n",
              "      <th>User 846</th>\n",
              "      <td>2.65</td>\n",
              "      <td>2.63</td>\n",
              "      <td>2.65</td>\n",
              "      <td>1.87</td>\n",
              "      <td>1.85</td>\n",
              "      <td>1.86</td>\n",
              "      <td>1.31</td>\n",
              "      <td>1.30</td>\n",
              "      <td>1.31</td>\n",
              "      <td>1.58</td>\n",
              "      <td>1.18</td>\n",
              "      <td>0.90</td>\n",
              "      <td>0.80</td>\n",
              "      <td>0.78</td>\n",
              "      <td>0.80</td>\n",
              "      <td>0.92</td>\n",
              "      <td>0.85</td>\n",
              "      <td>0.92</td>\n",
              "      <td>0.82</td>\n",
              "      <td>0.81</td>\n",
              "      <td>0.83</td>\n",
              "      <td>4.42</td>\n",
              "      <td>3.64</td>\n",
              "      <td>5.00</td>\n",
              "      <td>0</td>\n",
              "    </tr>\n",
              "  </tbody>\n",
              "</table>\n",
              "</div>"
            ],
            "text/plain": [
              "           Category 1  Category 2  ...  Category 24  take_membership\n",
              "User                               ...                              \n",
              "User 3819        1.40        1.41  ...         1.40                1\n",
              "User 2038        1.42        1.67  ...         1.40                0\n",
              "User 4557        0.98        1.02  ...         0.97                0\n",
              "User 222         1.39        1.39  ...         1.42                0\n",
              "User 846         2.65        2.63  ...         5.00                0\n",
              "\n",
              "[5 rows x 25 columns]"
            ]
          },
          "metadata": {
            "tags": []
          },
          "execution_count": 49
        }
      ]
    },
    {
      "cell_type": "markdown",
      "metadata": {
        "id": "PKhQ6LZNoHz1",
        "colab_type": "text"
      },
      "source": [
        "# **Spliting Data**"
      ]
    },
    {
      "cell_type": "code",
      "metadata": {
        "id": "So-CHsjQdJS6",
        "colab_type": "code",
        "colab": {}
      },
      "source": [
        "feature_data = data.drop(columns=['take_membership'])\n",
        "target_data = data.take_membership"
      ],
      "execution_count": 0,
      "outputs": []
    },
    {
      "cell_type": "code",
      "metadata": {
        "id": "GQ-msxRzgSBy",
        "colab_type": "code",
        "colab": {}
      },
      "source": [
        "from sklearn.model_selection import train_test_split\n",
        "trainX, testX, trainY, testY = train_test_split(feature_data, target_data)"
      ],
      "execution_count": 0,
      "outputs": []
    },
    {
      "cell_type": "markdown",
      "metadata": {
        "id": "FFtu6C_1oAck",
        "colab_type": "text"
      },
      "source": [
        "# **RandomForest Classifier**"
      ]
    },
    {
      "cell_type": "code",
      "metadata": {
        "id": "xT6Pr4BtgNzz",
        "colab_type": "code",
        "colab": {}
      },
      "source": [
        "from sklearn.preprocessing import StandardScaler\n",
        "from sklearn.ensemble import RandomForestClassifier"
      ],
      "execution_count": 0,
      "outputs": []
    },
    {
      "cell_type": "code",
      "metadata": {
        "id": "SZaqPJA2fbfY",
        "colab_type": "code",
        "colab": {
          "base_uri": "https://localhost:8080/",
          "height": 295
        },
        "outputId": "ce678e5f-2c66-4f33-b4c8-b38c9a22b5a5"
      },
      "source": [
        "from sklearn.pipeline import make_pipeline\n",
        "pipeline = make_pipeline(StandardScaler(), RandomForestClassifier())\n",
        "pipeline.fit(trainX, trainY)"
      ],
      "execution_count": 54,
      "outputs": [
        {
          "output_type": "execute_result",
          "data": {
            "text/plain": [
              "Pipeline(memory=None,\n",
              "         steps=[('standardscaler',\n",
              "                 StandardScaler(copy=True, with_mean=True, with_std=True)),\n",
              "                ('randomforestclassifier',\n",
              "                 RandomForestClassifier(bootstrap=True, ccp_alpha=0.0,\n",
              "                                        class_weight=None, criterion='gini',\n",
              "                                        max_depth=None, max_features='auto',\n",
              "                                        max_leaf_nodes=None, max_samples=None,\n",
              "                                        min_impurity_decrease=0.0,\n",
              "                                        min_impurity_split=None,\n",
              "                                        min_samples_leaf=1, min_samples_split=2,\n",
              "                                        min_weight_fraction_leaf=0.0,\n",
              "                                        n_estimators=100, n_jobs=None,\n",
              "                                        oob_score=False, random_state=None,\n",
              "                                        verbose=0, warm_start=False))],\n",
              "         verbose=False)"
            ]
          },
          "metadata": {
            "tags": []
          },
          "execution_count": 54
        }
      ]
    },
    {
      "cell_type": "code",
      "metadata": {
        "id": "3aGK0HJ9gmcM",
        "colab_type": "code",
        "colab": {
          "base_uri": "https://localhost:8080/",
          "height": 35
        },
        "outputId": "ddf631ad-610f-4ea6-d8b4-3338610224d0"
      },
      "source": [
        "pipeline.score(testX,testY)"
      ],
      "execution_count": 55,
      "outputs": [
        {
          "output_type": "execute_result",
          "data": {
            "text/plain": [
              "0.8922287390029325"
            ]
          },
          "metadata": {
            "tags": []
          },
          "execution_count": 55
        }
      ]
    },
    {
      "cell_type": "code",
      "metadata": {
        "id": "77iCWehljiYk",
        "colab_type": "code",
        "colab": {}
      },
      "source": [
        "y_pred = pipeline.predict(testX)"
      ],
      "execution_count": 0,
      "outputs": []
    },
    {
      "cell_type": "code",
      "metadata": {
        "id": "dqjEMfCRhpJF",
        "colab_type": "code",
        "colab": {
          "base_uri": "https://localhost:8080/",
          "height": 52
        },
        "outputId": "6786eed9-ea5f-4ead-cb35-062f75389e82"
      },
      "source": [
        "from sklearn.metrics import confusion_matrix\n",
        "confusion_matrix(testY, y_pred)"
      ],
      "execution_count": 57,
      "outputs": [
        {
          "output_type": "execute_result",
          "data": {
            "text/plain": [
              "array([[602,  74],\n",
              "       [ 73, 615]])"
            ]
          },
          "metadata": {
            "tags": []
          },
          "execution_count": 57
        }
      ]
    },
    {
      "cell_type": "markdown",
      "metadata": {
        "id": "1i9edftikWF-",
        "colab_type": "text"
      },
      "source": [
        "<hr>"
      ]
    },
    {
      "cell_type": "markdown",
      "metadata": {
        "id": "IbakZDyAnlUM",
        "colab_type": "text"
      },
      "source": [
        "# **Applying feature Selection**"
      ]
    },
    {
      "cell_type": "code",
      "metadata": {
        "id": "4UPCKozPgxfH",
        "colab_type": "code",
        "colab": {}
      },
      "source": [
        "from sklearn.feature_selection import SelectKBest, f_classif"
      ],
      "execution_count": 0,
      "outputs": []
    },
    {
      "cell_type": "code",
      "metadata": {
        "id": "UQgmmrzdkBPa",
        "colab_type": "code",
        "colab": {}
      },
      "source": [
        "pipeline = make_pipeline(StandardScaler(), SelectKBest(k=10, score_func=f_classif), RandomForestClassifier(n_estimators=100))"
      ],
      "execution_count": 0,
      "outputs": []
    },
    {
      "cell_type": "code",
      "metadata": {
        "id": "9L0RMV4NkIun",
        "colab_type": "code",
        "colab": {
          "base_uri": "https://localhost:8080/",
          "height": 347
        },
        "outputId": "6f5cf72b-a237-4608-a4ce-45ce400a77a7"
      },
      "source": [
        "pipeline.fit(trainX, trainY)"
      ],
      "execution_count": 61,
      "outputs": [
        {
          "output_type": "execute_result",
          "data": {
            "text/plain": [
              "Pipeline(memory=None,\n",
              "         steps=[('standardscaler',\n",
              "                 StandardScaler(copy=True, with_mean=True, with_std=True)),\n",
              "                ('selectkbest',\n",
              "                 SelectKBest(k=10,\n",
              "                             score_func=<function f_classif at 0x7f33b16e3e18>)),\n",
              "                ('randomforestclassifier',\n",
              "                 RandomForestClassifier(bootstrap=True, ccp_alpha=0.0,\n",
              "                                        class_weight=None, criterion='gini',\n",
              "                                        max_depth=None, max_features='auto',\n",
              "                                        max_leaf_nodes=None, max_samples=None,\n",
              "                                        min_impurity_decrease=0.0,\n",
              "                                        min_impurity_split=None,\n",
              "                                        min_samples_leaf=1, min_samples_split=2,\n",
              "                                        min_weight_fraction_leaf=0.0,\n",
              "                                        n_estimators=100, n_jobs=None,\n",
              "                                        oob_score=False, random_state=None,\n",
              "                                        verbose=0, warm_start=False))],\n",
              "         verbose=False)"
            ]
          },
          "metadata": {
            "tags": []
          },
          "execution_count": 61
        }
      ]
    },
    {
      "cell_type": "code",
      "metadata": {
        "id": "8h9RJlzYkOLJ",
        "colab_type": "code",
        "colab": {
          "base_uri": "https://localhost:8080/",
          "height": 35
        },
        "outputId": "330991bd-b36d-41e5-88b8-2a4aca980471"
      },
      "source": [
        "pipeline.score(testX,testY)"
      ],
      "execution_count": 62,
      "outputs": [
        {
          "output_type": "execute_result",
          "data": {
            "text/plain": [
              "0.8717008797653959"
            ]
          },
          "metadata": {
            "tags": []
          },
          "execution_count": 62
        }
      ]
    },
    {
      "cell_type": "markdown",
      "metadata": {
        "id": "q-90U5z0kYr1",
        "colab_type": "text"
      },
      "source": [
        "<hr>"
      ]
    },
    {
      "cell_type": "markdown",
      "metadata": {
        "id": "o7hK0svBmyIb",
        "colab_type": "text"
      },
      "source": [
        "# **Hyper-parameter tuning GridSearchCV**"
      ]
    },
    {
      "cell_type": "code",
      "metadata": {
        "id": "XSQoI7-HkRU1",
        "colab_type": "code",
        "colab": {}
      },
      "source": [
        "from sklearn.model_selection import GridSearchCV"
      ],
      "execution_count": 0,
      "outputs": []
    },
    {
      "cell_type": "code",
      "metadata": {
        "id": "FX6iOfHGkjtV",
        "colab_type": "code",
        "colab": {}
      },
      "source": [
        "params = {'selectkbest__k':[15,20,24], 'randomforestclassifier__n_estimators':[100,200,250]}"
      ],
      "execution_count": 0,
      "outputs": []
    },
    {
      "cell_type": "code",
      "metadata": {
        "id": "pvQD0cjFkz8-",
        "colab_type": "code",
        "colab": {}
      },
      "source": [
        "gs = GridSearchCV(pipeline, param_grid=params, cv=5, n_jobs=4)"
      ],
      "execution_count": 0,
      "outputs": []
    },
    {
      "cell_type": "code",
      "metadata": {
        "id": "hJnz5Gtuk51g",
        "colab_type": "code",
        "colab": {
          "base_uri": "https://localhost:8080/",
          "height": 557
        },
        "outputId": "84637926-1692-4820-b987-04c3f3844da2"
      },
      "source": [
        "gs.fit(trainX, trainY)"
      ],
      "execution_count": 66,
      "outputs": [
        {
          "output_type": "execute_result",
          "data": {
            "text/plain": [
              "GridSearchCV(cv=5, error_score=nan,\n",
              "             estimator=Pipeline(memory=None,\n",
              "                                steps=[('standardscaler',\n",
              "                                        StandardScaler(copy=True,\n",
              "                                                       with_mean=True,\n",
              "                                                       with_std=True)),\n",
              "                                       ('selectkbest',\n",
              "                                        SelectKBest(k=10,\n",
              "                                                    score_func=<function f_classif at 0x7f33b16e3e18>)),\n",
              "                                       ('randomforestclassifier',\n",
              "                                        RandomForestClassifier(bootstrap=True,\n",
              "                                                               ccp_alpha=0.0,\n",
              "                                                               class_weight=None,\n",
              "                                                               criterion='gini',\n",
              "                                                               max_depth=...\n",
              "                                                               min_samples_split=2,\n",
              "                                                               min_weight_fraction_leaf=0.0,\n",
              "                                                               n_estimators=100,\n",
              "                                                               n_jobs=None,\n",
              "                                                               oob_score=False,\n",
              "                                                               random_state=None,\n",
              "                                                               verbose=0,\n",
              "                                                               warm_start=False))],\n",
              "                                verbose=False),\n",
              "             iid='deprecated', n_jobs=4,\n",
              "             param_grid={'randomforestclassifier__n_estimators': [100, 200,\n",
              "                                                                  250],\n",
              "                         'selectkbest__k': [15, 20, 24]},\n",
              "             pre_dispatch='2*n_jobs', refit=True, return_train_score=False,\n",
              "             scoring=None, verbose=0)"
            ]
          },
          "metadata": {
            "tags": []
          },
          "execution_count": 66
        }
      ]
    },
    {
      "cell_type": "code",
      "metadata": {
        "id": "rsh5NyfEk9BK",
        "colab_type": "code",
        "colab": {
          "base_uri": "https://localhost:8080/",
          "height": 35
        },
        "outputId": "0ee73c04-67f4-4dc2-e6e3-042402aa9af9"
      },
      "source": [
        "gs.best_params_"
      ],
      "execution_count": 67,
      "outputs": [
        {
          "output_type": "execute_result",
          "data": {
            "text/plain": [
              "{'randomforestclassifier__n_estimators': 200, 'selectkbest__k': 24}"
            ]
          },
          "metadata": {
            "tags": []
          },
          "execution_count": 67
        }
      ]
    },
    {
      "cell_type": "code",
      "metadata": {
        "id": "tQ0_BSEglOR6",
        "colab_type": "code",
        "colab": {
          "base_uri": "https://localhost:8080/",
          "height": 35
        },
        "outputId": "f59c0690-7ab6-41f9-c4fc-776920141284"
      },
      "source": [
        "gs.best_score_"
      ],
      "execution_count": 68,
      "outputs": [
        {
          "output_type": "execute_result",
          "data": {
            "text/plain": [
              "0.8975550122249387"
            ]
          },
          "metadata": {
            "tags": []
          },
          "execution_count": 68
        }
      ]
    },
    {
      "cell_type": "markdown",
      "metadata": {
        "id": "kjPhVyaeljH0",
        "colab_type": "text"
      },
      "source": [
        "<hr>"
      ]
    },
    {
      "cell_type": "markdown",
      "metadata": {
        "id": "u8Lvv50Xmpmk",
        "colab_type": "text"
      },
      "source": [
        "# **Logistic Regression**"
      ]
    },
    {
      "cell_type": "code",
      "metadata": {
        "id": "omjr7NSdlSd-",
        "colab_type": "code",
        "colab": {
          "base_uri": "https://localhost:8080/",
          "height": 35
        },
        "outputId": "f1ce8e0d-3d9c-4220-deca-d83fa7f83a33"
      },
      "source": [
        "from sklearn.linear_model import LogisticRegression\n",
        "lr = LogisticRegression()\n",
        "lr.fit(trainX,trainY)\n",
        "lr.score(testX,testY)"
      ],
      "execution_count": 69,
      "outputs": [
        {
          "output_type": "execute_result",
          "data": {
            "text/plain": [
              "0.9934017595307918"
            ]
          },
          "metadata": {
            "tags": []
          },
          "execution_count": 69
        }
      ]
    },
    {
      "cell_type": "code",
      "metadata": {
        "id": "oNCQzUe8mL9a",
        "colab_type": "code",
        "colab": {
          "base_uri": "https://localhost:8080/",
          "height": 35
        },
        "outputId": "ea7b3e26-ccd8-4f0a-fb25-95f6faa49066"
      },
      "source": [
        "y_pred = lr.predict(testX)\n",
        "y_pred"
      ],
      "execution_count": 70,
      "outputs": [
        {
          "output_type": "execute_result",
          "data": {
            "text/plain": [
              "array([0, 0, 1, ..., 1, 0, 1])"
            ]
          },
          "metadata": {
            "tags": []
          },
          "execution_count": 70
        }
      ]
    },
    {
      "cell_type": "code",
      "metadata": {
        "id": "By8HR1w0mcqs",
        "colab_type": "code",
        "colab": {
          "base_uri": "https://localhost:8080/",
          "height": 52
        },
        "outputId": "b0715190-40df-45a6-c8fe-966ab453c53e"
      },
      "source": [
        "confusion_matrix(testY, y_pred)"
      ],
      "execution_count": 71,
      "outputs": [
        {
          "output_type": "execute_result",
          "data": {
            "text/plain": [
              "array([[669,   7],\n",
              "       [  2, 686]])"
            ]
          },
          "metadata": {
            "tags": []
          },
          "execution_count": 71
        }
      ]
    },
    {
      "cell_type": "markdown",
      "metadata": {
        "id": "iCb_lk-Bodyn",
        "colab_type": "text"
      },
      "source": [
        "# **Conclusion :**\n",
        "* Some times the simple models give the best accuracy.\n",
        "\n",
        "  **What is learned ?**\n",
        "  * start impelementing the simple models first.\n"
      ]
    }
  ]
}