{
 "cells": [
  {
   "cell_type": "code",
   "execution_count": 1,
   "metadata": {},
   "outputs": [],
   "source": [
    "import pandas as pd"
   ]
  },
  {
   "cell_type": "code",
   "execution_count": 3,
   "metadata": {},
   "outputs": [],
   "source": [
    "online_retail = pd.read_excel('Online Retail.xlsx')"
   ]
  },
  {
   "cell_type": "code",
   "execution_count": 4,
   "metadata": {},
   "outputs": [
    {
     "name": "stdout",
     "output_type": "stream",
     "text": [
      "<class 'pandas.core.frame.DataFrame'>\n",
      "RangeIndex: 541909 entries, 0 to 541908\n",
      "Data columns (total 8 columns):\n",
      "InvoiceNo      541909 non-null object\n",
      "StockCode      541909 non-null object\n",
      "Description    540455 non-null object\n",
      "Quantity       541909 non-null int64\n",
      "InvoiceDate    541909 non-null datetime64[ns]\n",
      "UnitPrice      541909 non-null float64\n",
      "CustomerID     406829 non-null float64\n",
      "Country        541909 non-null object\n",
      "dtypes: datetime64[ns](1), float64(2), int64(1), object(4)\n",
      "memory usage: 24.8+ MB\n"
     ]
    }
   ],
   "source": [
    "online_retail.info()"
   ]
  },
  {
   "cell_type": "code",
   "execution_count": 5,
   "metadata": {},
   "outputs": [
    {
     "data": {
      "text/html": [
       "<div>\n",
       "<style scoped>\n",
       "    .dataframe tbody tr th:only-of-type {\n",
       "        vertical-align: middle;\n",
       "    }\n",
       "\n",
       "    .dataframe tbody tr th {\n",
       "        vertical-align: top;\n",
       "    }\n",
       "\n",
       "    .dataframe thead th {\n",
       "        text-align: right;\n",
       "    }\n",
       "</style>\n",
       "<table border=\"1\" class=\"dataframe\">\n",
       "  <thead>\n",
       "    <tr style=\"text-align: right;\">\n",
       "      <th></th>\n",
       "      <th>InvoiceNo</th>\n",
       "      <th>StockCode</th>\n",
       "      <th>Description</th>\n",
       "      <th>Quantity</th>\n",
       "      <th>InvoiceDate</th>\n",
       "      <th>UnitPrice</th>\n",
       "      <th>CustomerID</th>\n",
       "      <th>Country</th>\n",
       "    </tr>\n",
       "  </thead>\n",
       "  <tbody>\n",
       "    <tr>\n",
       "      <th>0</th>\n",
       "      <td>536365</td>\n",
       "      <td>85123A</td>\n",
       "      <td>WHITE HANGING HEART T-LIGHT HOLDER</td>\n",
       "      <td>6</td>\n",
       "      <td>2010-12-01 08:26:00</td>\n",
       "      <td>2.55</td>\n",
       "      <td>17850.0</td>\n",
       "      <td>United Kingdom</td>\n",
       "    </tr>\n",
       "    <tr>\n",
       "      <th>1</th>\n",
       "      <td>536365</td>\n",
       "      <td>71053</td>\n",
       "      <td>WHITE METAL LANTERN</td>\n",
       "      <td>6</td>\n",
       "      <td>2010-12-01 08:26:00</td>\n",
       "      <td>3.39</td>\n",
       "      <td>17850.0</td>\n",
       "      <td>United Kingdom</td>\n",
       "    </tr>\n",
       "    <tr>\n",
       "      <th>2</th>\n",
       "      <td>536365</td>\n",
       "      <td>84406B</td>\n",
       "      <td>CREAM CUPID HEARTS COAT HANGER</td>\n",
       "      <td>8</td>\n",
       "      <td>2010-12-01 08:26:00</td>\n",
       "      <td>2.75</td>\n",
       "      <td>17850.0</td>\n",
       "      <td>United Kingdom</td>\n",
       "    </tr>\n",
       "    <tr>\n",
       "      <th>3</th>\n",
       "      <td>536365</td>\n",
       "      <td>84029G</td>\n",
       "      <td>KNITTED UNION FLAG HOT WATER BOTTLE</td>\n",
       "      <td>6</td>\n",
       "      <td>2010-12-01 08:26:00</td>\n",
       "      <td>3.39</td>\n",
       "      <td>17850.0</td>\n",
       "      <td>United Kingdom</td>\n",
       "    </tr>\n",
       "    <tr>\n",
       "      <th>4</th>\n",
       "      <td>536365</td>\n",
       "      <td>84029E</td>\n",
       "      <td>RED WOOLLY HOTTIE WHITE HEART.</td>\n",
       "      <td>6</td>\n",
       "      <td>2010-12-01 08:26:00</td>\n",
       "      <td>3.39</td>\n",
       "      <td>17850.0</td>\n",
       "      <td>United Kingdom</td>\n",
       "    </tr>\n",
       "  </tbody>\n",
       "</table>\n",
       "</div>"
      ],
      "text/plain": [
       "  InvoiceNo StockCode                          Description  Quantity  \\\n",
       "0    536365    85123A   WHITE HANGING HEART T-LIGHT HOLDER         6   \n",
       "1    536365     71053                  WHITE METAL LANTERN         6   \n",
       "2    536365    84406B       CREAM CUPID HEARTS COAT HANGER         8   \n",
       "3    536365    84029G  KNITTED UNION FLAG HOT WATER BOTTLE         6   \n",
       "4    536365    84029E       RED WOOLLY HOTTIE WHITE HEART.         6   \n",
       "\n",
       "          InvoiceDate  UnitPrice  CustomerID         Country  \n",
       "0 2010-12-01 08:26:00       2.55     17850.0  United Kingdom  \n",
       "1 2010-12-01 08:26:00       3.39     17850.0  United Kingdom  \n",
       "2 2010-12-01 08:26:00       2.75     17850.0  United Kingdom  \n",
       "3 2010-12-01 08:26:00       3.39     17850.0  United Kingdom  \n",
       "4 2010-12-01 08:26:00       3.39     17850.0  United Kingdom  "
      ]
     },
     "execution_count": 5,
     "metadata": {},
     "output_type": "execute_result"
    }
   ],
   "source": [
    "online_retail.head()"
   ]
  },
  {
   "cell_type": "code",
   "execution_count": 7,
   "metadata": {},
   "outputs": [
    {
     "data": {
      "text/plain": [
       "85123A    2313\n",
       "22423     2203\n",
       "85099B    2159\n",
       "47566     1727\n",
       "20725     1639\n",
       "Name: StockCode, dtype: int64"
      ]
     },
     "execution_count": 7,
     "metadata": {},
     "output_type": "execute_result"
    }
   ],
   "source": [
    "online_retail.StockCode.value_counts().head()"
   ]
  },
  {
   "cell_type": "code",
   "execution_count": 8,
   "metadata": {},
   "outputs": [
    {
     "data": {
      "text/plain": [
       "InvoiceNo      2313\n",
       "StockCode      2313\n",
       "Description    2313\n",
       "Quantity       2313\n",
       "InvoiceDate    2313\n",
       "UnitPrice      2313\n",
       "CustomerID     2077\n",
       "Country        2313\n",
       "dtype: int64"
      ]
     },
     "execution_count": 8,
     "metadata": {},
     "output_type": "execute_result"
    }
   ],
   "source": [
    "online_retail[online_retail.StockCode == '85123A'].count()"
   ]
  },
  {
   "cell_type": "markdown",
   "metadata": {},
   "source": [
    "### Understanding the data\\n\",\n",
    "* We will try to understand what each column means\n",
    "* InvoiceNo - The bill number, products which are bought together have same invoice number\n",
    "* StockCode - It's unique product id\n",
    "* Description - Information about the product\n",
    "* Quantity - Number of times in a bill that item was purchased\n",
    "* InvoiceDate - Date in which purchase was done\n",
    "* UnitPrice - Price of each item\n",
    "* CustomerId - Unique identifier of customer\n",
    "* Country - Where the purchase is happening"
   ]
  },
  {
   "cell_type": "markdown",
   "metadata": {},
   "source": [
    "### Stage 1 : Questions based on this data\n",
    "    1. How many unique billing was made?\n",
    "    2. How many total customers are there?\n",
    "    3. Which day of the week most sale was done?\n",
    "    4. What is the most popular product?\n",
    "    5. In which country should you open more stores?"
   ]
  },
  {
   "cell_type": "markdown",
   "metadata": {},
   "source": [
    "### 1. How many unique billing was made?"
   ]
  },
  {
   "cell_type": "code",
   "execution_count": 14,
   "metadata": {},
   "outputs": [
    {
     "data": {
      "text/plain": [
       "25900"
      ]
     },
     "execution_count": 14,
     "metadata": {},
     "output_type": "execute_result"
    }
   ],
   "source": [
    "#1\n",
    "online_retail.InvoiceNo.unique().size"
   ]
  },
  {
   "cell_type": "markdown",
   "metadata": {},
   "source": [
    "### 2. How many total customers are there?"
   ]
  },
  {
   "cell_type": "code",
   "execution_count": 16,
   "metadata": {},
   "outputs": [
    {
     "data": {
      "text/plain": [
       "4373"
      ]
     },
     "execution_count": 16,
     "metadata": {},
     "output_type": "execute_result"
    }
   ],
   "source": [
    "#2\n",
    "online_retail.CustomerID.unique().size"
   ]
  },
  {
   "cell_type": "markdown",
   "metadata": {},
   "source": [
    "### 3. Which day of the week most sale was done?"
   ]
  },
  {
   "cell_type": "code",
   "execution_count": 24,
   "metadata": {},
   "outputs": [],
   "source": [
    "#3\n",
    "online_retail[\"week_ofthe_day\"] = online_retail.InvoiceDate.map(lambda x: pd.Timestamp(x).day_name())\n"
   ]
  },
  {
   "cell_type": "code",
   "execution_count": 26,
   "metadata": {},
   "outputs": [],
   "source": [
    "def f(c):\n",
    "    return c.UnitPrice * c.Quantity\n",
    "online_retail['Total_Price'] = online_retail.apply(f , axis=1)"
   ]
  },
  {
   "cell_type": "code",
   "execution_count": 29,
   "metadata": {},
   "outputs": [
    {
     "data": {
      "text/plain": [
       "week_ofthe_day\n",
       "Thursday     2112519.000\n",
       "Tuesday      1966182.791\n",
       "Wednesday    1734147.010\n",
       "Monday       1588609.431\n",
       "Friday       1540610.811\n",
       "Name: Total_Price, dtype: float64"
      ]
     },
     "execution_count": 29,
     "metadata": {},
     "output_type": "execute_result"
    }
   ],
   "source": [
    "online_retail.groupby(['week_ofthe_day']).Total_Price.sum().sort_values(ascending=False)[:5]"
   ]
  },
  {
   "cell_type": "markdown",
   "metadata": {},
   "source": [
    "### 4. What is the most popular product?"
   ]
  },
  {
   "cell_type": "code",
   "execution_count": 32,
   "metadata": {},
   "outputs": [
    {
     "data": {
      "text/plain": [
       "StockCode\n",
       "22197     56450\n",
       "84077     53847\n",
       "85099B    47363\n",
       "85123A    38830\n",
       "84879     36221\n",
       "Name: Quantity, dtype: int64"
      ]
     },
     "execution_count": 32,
     "metadata": {},
     "output_type": "execute_result"
    }
   ],
   "source": [
    "#4\n",
    "top_selling_product = online_retail.groupby(['StockCode']).Quantity.sum().sort_values(ascending = False)[:5]\n",
    "top_selling_product"
   ]
  },
  {
   "cell_type": "code",
   "execution_count": 33,
   "metadata": {},
   "outputs": [
    {
     "data": {
      "text/plain": [
       "[22197, 84077, '85099B', '85123A', 84879]"
      ]
     },
     "execution_count": 33,
     "metadata": {},
     "output_type": "execute_result"
    }
   ],
   "source": [
    "top_selling_prods = list(top_selling_product.index)\n",
    "top_selling_prods"
   ]
  },
  {
   "cell_type": "code",
   "execution_count": 34,
   "metadata": {},
   "outputs": [
    {
     "name": "stdout",
     "output_type": "stream",
     "text": [
      "['SMALL POPCORN HOLDER' 'POPCORN HOLDER']\n",
      "['WORLD WAR 2 GLIDERS ASSTD DESIGNS']\n",
      "['JUMBO BAG RED RETROSPOT']\n",
      "['WHITE HANGING HEART T-LIGHT HOLDER' '?' 'wrongly marked carton 22804'\n",
      " 'CREAM HANGING HEART T-LIGHT HOLDER']\n",
      "['ASSORTED COLOUR BIRD ORNAMENT' 'damaged']\n"
     ]
    }
   ],
   "source": [
    "for prod in top_selling_prods:\n",
    "    print(online_retail[online_retail.StockCode == prod].Description.unique())"
   ]
  },
  {
   "cell_type": "markdown",
   "metadata": {},
   "source": [
    "### 5. In which country should you open more stores?"
   ]
  },
  {
   "cell_type": "code",
   "execution_count": 35,
   "metadata": {},
   "outputs": [
    {
     "data": {
      "text/plain": [
       "Country\n",
       "United Kingdom    8.187806e+06\n",
       "Netherlands       2.846615e+05\n",
       "EIRE              2.632768e+05\n",
       "Germany           2.216982e+05\n",
       "France            1.974039e+05\n",
       "Name: Total_Price, dtype: float64"
      ]
     },
     "execution_count": 35,
     "metadata": {},
     "output_type": "execute_result"
    }
   ],
   "source": [
    "#5\n",
    "online_retail.groupby(['Country']).Total_Price.sum().sort_values(ascending=False)[:5]"
   ]
  },
  {
   "cell_type": "markdown",
   "metadata": {},
   "source": [
    "### 6. Plotting top selling products"
   ]
  },
  {
   "cell_type": "code",
   "execution_count": 36,
   "metadata": {},
   "outputs": [],
   "source": [
    "import matplotlib.pyplot as plt\n",
    "%matplotlib inline"
   ]
  },
  {
   "cell_type": "code",
   "execution_count": 37,
   "metadata": {},
   "outputs": [
    {
     "data": {
      "text/plain": [
       "<matplotlib.axes._subplots.AxesSubplot at 0x1a1472b0>"
      ]
     },
     "execution_count": 37,
     "metadata": {},
     "output_type": "execute_result"
    },
    {
     "data": {
      "image/png": "[encoded data removed]",
      "text/plain": [
       "<Figure size 432x288 with 1 Axes>"
      ]
     },
     "metadata": {
      "needs_background": "light"
     },
     "output_type": "display_data"
    }
   ],
   "source": [
    "top_selling_product.plot.bar()"
   ]
  },
  {
   "cell_type": "code",
   "execution_count": 38,
   "metadata": {},
   "outputs": [
    {
     "data": {
      "text/plain": [
       "<matplotlib.axes._subplots.AxesSubplot at 0x1b71c650>"
      ]
     },
     "execution_count": 38,
     "metadata": {},
     "output_type": "execute_result"
    },
    {
     "data": {
      "image/png": "[encoded data removed]",
      "text/plain": [
       "<Figure size 432x288 with 1 Axes>"
      ]
     },
     "metadata": {
      "needs_background": "light"
     },
     "output_type": "display_data"
    }
   ],
   "source": [
    "index = ['POPCORN HOLDER','GLIDERS ASSTD DESIGNS','JUMBO BAG','T-LIGHT HOLDER','BIRD ORNAMENT']\n",
    "top_selling_product.index = index\n",
    "top_selling_product.plot.bar()"
   ]
  },
  {
   "cell_type": "markdown",
   "metadata": {},
   "source": [
    "### Stage 2 Questions\n",
    "1. Relation between country-weekday & revenue (pivot_table)\n",
    "2. Identify best week of based on the data (rolling (reading activity))\n",
    "3. Find the richest person\n",
    "4. What can you tell about spending capacity of the countries?"
   ]
  },
  {
   "cell_type": "code",
   "execution_count": 42,
   "metadata": {},
   "outputs": [
    {
     "data": {
      "text/html": [
       "<div>\n",
       "<style scoped>\n",
       "    .dataframe tbody tr th:only-of-type {\n",
       "        vertical-align: middle;\n",
       "    }\n",
       "\n",
       "    .dataframe tbody tr th {\n",
       "        vertical-align: top;\n",
       "    }\n",
       "\n",
       "    .dataframe thead th {\n",
       "        text-align: right;\n",
       "    }\n",
       "</style>\n",
       "<table border=\"1\" class=\"dataframe\">\n",
       "  <thead>\n",
       "    <tr style=\"text-align: right;\">\n",
       "      <th>week_ofthe_day</th>\n",
       "      <th>Friday</th>\n",
       "      <th>Monday</th>\n",
       "      <th>Sunday</th>\n",
       "      <th>Thursday</th>\n",
       "      <th>Tuesday</th>\n",
       "      <th>Wednesday</th>\n",
       "    </tr>\n",
       "    <tr>\n",
       "      <th>Country</th>\n",
       "      <th></th>\n",
       "      <th></th>\n",
       "      <th></th>\n",
       "      <th></th>\n",
       "      <th></th>\n",
       "      <th></th>\n",
       "    </tr>\n",
       "  </thead>\n",
       "  <tbody>\n",
       "    <tr>\n",
       "      <th>Australia</th>\n",
       "      <td>39.046078</td>\n",
       "      <td>22.611897</td>\n",
       "      <td>33.537115</td>\n",
       "      <td>134.363680</td>\n",
       "      <td>97.557795</td>\n",
       "      <td>1.391560e+02</td>\n",
       "    </tr>\n",
       "    <tr>\n",
       "      <th>Austria</th>\n",
       "      <td>22.221591</td>\n",
       "      <td>20.646250</td>\n",
       "      <td>15.860811</td>\n",
       "      <td>28.820926</td>\n",
       "      <td>23.609444</td>\n",
       "      <td>7.616727e+01</td>\n",
       "    </tr>\n",
       "    <tr>\n",
       "      <th>Bahrain</th>\n",
       "      <td>NaN</td>\n",
       "      <td>47.510000</td>\n",
       "      <td>NaN</td>\n",
       "      <td>22.250000</td>\n",
       "      <td>NaN</td>\n",
       "      <td>-2.057400e+02</td>\n",
       "    </tr>\n",
       "    <tr>\n",
       "      <th>Belgium</th>\n",
       "      <td>21.348297</td>\n",
       "      <td>19.586068</td>\n",
       "      <td>17.206711</td>\n",
       "      <td>19.832042</td>\n",
       "      <td>19.019247</td>\n",
       "      <td>1.934168e+01</td>\n",
       "    </tr>\n",
       "    <tr>\n",
       "      <th>Brazil</th>\n",
       "      <td>35.737500</td>\n",
       "      <td>NaN</td>\n",
       "      <td>NaN</td>\n",
       "      <td>NaN</td>\n",
       "      <td>NaN</td>\n",
       "      <td>NaN</td>\n",
       "    </tr>\n",
       "    <tr>\n",
       "      <th>Canada</th>\n",
       "      <td>550.940000</td>\n",
       "      <td>17.566944</td>\n",
       "      <td>NaN</td>\n",
       "      <td>10.312000</td>\n",
       "      <td>NaN</td>\n",
       "      <td>5.342400e+02</td>\n",
       "    </tr>\n",
       "    <tr>\n",
       "      <th>Channel Islands</th>\n",
       "      <td>28.650490</td>\n",
       "      <td>26.484824</td>\n",
       "      <td>40.222647</td>\n",
       "      <td>21.311176</td>\n",
       "      <td>33.258741</td>\n",
       "      <td>2.059093e+01</td>\n",
       "    </tr>\n",
       "    <tr>\n",
       "      <th>Cyprus</th>\n",
       "      <td>11.551944</td>\n",
       "      <td>21.646552</td>\n",
       "      <td>NaN</td>\n",
       "      <td>24.871688</td>\n",
       "      <td>18.715529</td>\n",
       "      <td>3.373425e+01</td>\n",
       "    </tr>\n",
       "    <tr>\n",
       "      <th>Czech Republic</th>\n",
       "      <td>10.564000</td>\n",
       "      <td>36.617333</td>\n",
       "      <td>NaN</td>\n",
       "      <td>NaN</td>\n",
       "      <td>NaN</td>\n",
       "      <td>NaN</td>\n",
       "    </tr>\n",
       "    <tr>\n",
       "      <th>Denmark</th>\n",
       "      <td>108.425000</td>\n",
       "      <td>25.282436</td>\n",
       "      <td>NaN</td>\n",
       "      <td>51.748162</td>\n",
       "      <td>2.474000</td>\n",
       "      <td>5.943929e+01</td>\n",
       "    </tr>\n",
       "    <tr>\n",
       "      <th>EIRE</th>\n",
       "      <td>34.130478</td>\n",
       "      <td>28.281036</td>\n",
       "      <td>49.441058</td>\n",
       "      <td>30.411939</td>\n",
       "      <td>33.237348</td>\n",
       "      <td>2.881900e+01</td>\n",
       "    </tr>\n",
       "    <tr>\n",
       "      <th>European Community</th>\n",
       "      <td>-8.500000</td>\n",
       "      <td>45.000000</td>\n",
       "      <td>20.371053</td>\n",
       "      <td>23.337931</td>\n",
       "      <td>17.400000</td>\n",
       "      <td>NaN</td>\n",
       "    </tr>\n",
       "    <tr>\n",
       "      <th>Finland</th>\n",
       "      <td>45.609571</td>\n",
       "      <td>20.515833</td>\n",
       "      <td>55.323077</td>\n",
       "      <td>30.907227</td>\n",
       "      <td>31.181579</td>\n",
       "      <td>3.002962e+01</td>\n",
       "    </tr>\n",
       "    <tr>\n",
       "      <th>France</th>\n",
       "      <td>26.371012</td>\n",
       "      <td>22.482162</td>\n",
       "      <td>22.948151</td>\n",
       "      <td>21.497028</td>\n",
       "      <td>20.817889</td>\n",
       "      <td>2.375962e+01</td>\n",
       "    </tr>\n",
       "    <tr>\n",
       "      <th>Germany</th>\n",
       "      <td>24.968907</td>\n",
       "      <td>20.399441</td>\n",
       "      <td>20.475621</td>\n",
       "      <td>26.842843</td>\n",
       "      <td>19.006789</td>\n",
       "      <td>2.463265e+01</td>\n",
       "    </tr>\n",
       "    <tr>\n",
       "      <th>Greece</th>\n",
       "      <td>18.812264</td>\n",
       "      <td>53.201404</td>\n",
       "      <td>NaN</td>\n",
       "      <td>NaN</td>\n",
       "      <td>18.916389</td>\n",
       "      <td>NaN</td>\n",
       "    </tr>\n",
       "    <tr>\n",
       "      <th>Hong Kong</th>\n",
       "      <td>22.772600</td>\n",
       "      <td>39.996066</td>\n",
       "      <td>NaN</td>\n",
       "      <td>NaN</td>\n",
       "      <td>42.937477</td>\n",
       "      <td>3.962250e+01</td>\n",
       "    </tr>\n",
       "    <tr>\n",
       "      <th>Iceland</th>\n",
       "      <td>NaN</td>\n",
       "      <td>27.538723</td>\n",
       "      <td>NaN</td>\n",
       "      <td>24.256429</td>\n",
       "      <td>24.466038</td>\n",
       "      <td>1.750525e+01</td>\n",
       "    </tr>\n",
       "    <tr>\n",
       "      <th>Israel</th>\n",
       "      <td>16.173636</td>\n",
       "      <td>27.131429</td>\n",
       "      <td>NaN</td>\n",
       "      <td>31.841212</td>\n",
       "      <td>4.059706</td>\n",
       "      <td>3.064778e+01</td>\n",
       "    </tr>\n",
       "    <tr>\n",
       "      <th>Italy</th>\n",
       "      <td>21.434124</td>\n",
       "      <td>20.951901</td>\n",
       "      <td>28.583333</td>\n",
       "      <td>20.727551</td>\n",
       "      <td>21.971106</td>\n",
       "      <td>1.745000e+01</td>\n",
       "    </tr>\n",
       "    <tr>\n",
       "      <th>Japan</th>\n",
       "      <td>27.203269</td>\n",
       "      <td>43.160000</td>\n",
       "      <td>61.888939</td>\n",
       "      <td>235.918889</td>\n",
       "      <td>122.785789</td>\n",
       "      <td>1.115787e+02</td>\n",
       "    </tr>\n",
       "    <tr>\n",
       "      <th>Lebanon</th>\n",
       "      <td>NaN</td>\n",
       "      <td>NaN</td>\n",
       "      <td>NaN</td>\n",
       "      <td>37.641778</td>\n",
       "      <td>NaN</td>\n",
       "      <td>NaN</td>\n",
       "    </tr>\n",
       "    <tr>\n",
       "      <th>Lithuania</th>\n",
       "      <td>NaN</td>\n",
       "      <td>NaN</td>\n",
       "      <td>47.001765</td>\n",
       "      <td>NaN</td>\n",
       "      <td>NaN</td>\n",
       "      <td>6.300000e+01</td>\n",
       "    </tr>\n",
       "    <tr>\n",
       "      <th>Malta</th>\n",
       "      <td>NaN</td>\n",
       "      <td>20.345455</td>\n",
       "      <td>NaN</td>\n",
       "      <td>28.493500</td>\n",
       "      <td>-7.875000</td>\n",
       "      <td>1.664700e+01</td>\n",
       "    </tr>\n",
       "    <tr>\n",
       "      <th>Netherlands</th>\n",
       "      <td>94.887688</td>\n",
       "      <td>102.362882</td>\n",
       "      <td>95.463934</td>\n",
       "      <td>150.365174</td>\n",
       "      <td>111.856422</td>\n",
       "      <td>1.266614e+02</td>\n",
       "    </tr>\n",
       "    <tr>\n",
       "      <th>Norway</th>\n",
       "      <td>30.485802</td>\n",
       "      <td>58.003333</td>\n",
       "      <td>26.191250</td>\n",
       "      <td>25.658819</td>\n",
       "      <td>17.976296</td>\n",
       "      <td>3.286552e+01</td>\n",
       "    </tr>\n",
       "    <tr>\n",
       "      <th>Poland</th>\n",
       "      <td>21.771562</td>\n",
       "      <td>18.970000</td>\n",
       "      <td>NaN</td>\n",
       "      <td>18.209615</td>\n",
       "      <td>25.752545</td>\n",
       "      <td>2.051599e+01</td>\n",
       "    </tr>\n",
       "    <tr>\n",
       "      <th>Portugal</th>\n",
       "      <td>23.477011</td>\n",
       "      <td>21.439869</td>\n",
       "      <td>20.559714</td>\n",
       "      <td>12.104903</td>\n",
       "      <td>26.297655</td>\n",
       "      <td>2.218326e+01</td>\n",
       "    </tr>\n",
       "    <tr>\n",
       "      <th>RSA</th>\n",
       "      <td>NaN</td>\n",
       "      <td>NaN</td>\n",
       "      <td>NaN</td>\n",
       "      <td>17.281207</td>\n",
       "      <td>NaN</td>\n",
       "      <td>NaN</td>\n",
       "    </tr>\n",
       "    <tr>\n",
       "      <th>Saudi Arabia</th>\n",
       "      <td>NaN</td>\n",
       "      <td>NaN</td>\n",
       "      <td>NaN</td>\n",
       "      <td>13.117000</td>\n",
       "      <td>NaN</td>\n",
       "      <td>NaN</td>\n",
       "    </tr>\n",
       "    <tr>\n",
       "      <th>Singapore</th>\n",
       "      <td>31.226875</td>\n",
       "      <td>46.462588</td>\n",
       "      <td>NaN</td>\n",
       "      <td>NaN</td>\n",
       "      <td>38.627870</td>\n",
       "      <td>1.136868e-13</td>\n",
       "    </tr>\n",
       "    <tr>\n",
       "      <th>Spain</th>\n",
       "      <td>26.893249</td>\n",
       "      <td>21.383057</td>\n",
       "      <td>16.603473</td>\n",
       "      <td>14.697523</td>\n",
       "      <td>30.052566</td>\n",
       "      <td>2.585754e+01</td>\n",
       "    </tr>\n",
       "    <tr>\n",
       "      <th>Sweden</th>\n",
       "      <td>65.653398</td>\n",
       "      <td>145.257403</td>\n",
       "      <td>57.335730</td>\n",
       "      <td>54.169157</td>\n",
       "      <td>79.398219</td>\n",
       "      <td>8.794054e+01</td>\n",
       "    </tr>\n",
       "    <tr>\n",
       "      <th>Switzerland</th>\n",
       "      <td>32.302152</td>\n",
       "      <td>24.757041</td>\n",
       "      <td>32.933359</td>\n",
       "      <td>38.096481</td>\n",
       "      <td>19.793706</td>\n",
       "      <td>2.530817e+01</td>\n",
       "    </tr>\n",
       "    <tr>\n",
       "      <th>USA</th>\n",
       "      <td>28.618571</td>\n",
       "      <td>17.990082</td>\n",
       "      <td>NaN</td>\n",
       "      <td>-24.541818</td>\n",
       "      <td>17.452273</td>\n",
       "      <td>-1.563871e+01</td>\n",
       "    </tr>\n",
       "    <tr>\n",
       "      <th>United Arab Emirates</th>\n",
       "      <td>NaN</td>\n",
       "      <td>29.641333</td>\n",
       "      <td>NaN</td>\n",
       "      <td>26.658947</td>\n",
       "      <td>NaN</td>\n",
       "      <td>NaN</td>\n",
       "    </tr>\n",
       "    <tr>\n",
       "      <th>United Kingdom</th>\n",
       "      <td>17.360051</td>\n",
       "      <td>15.607312</td>\n",
       "      <td>11.568784</td>\n",
       "      <td>18.436088</td>\n",
       "      <td>17.910614</td>\n",
       "      <td>1.667946e+01</td>\n",
       "    </tr>\n",
       "    <tr>\n",
       "      <th>Unspecified</th>\n",
       "      <td>6.621594</td>\n",
       "      <td>21.164792</td>\n",
       "      <td>NaN</td>\n",
       "      <td>8.423814</td>\n",
       "      <td>18.142128</td>\n",
       "      <td>1.753684e+01</td>\n",
       "    </tr>\n",
       "  </tbody>\n",
       "</table>\n",
       "</div>"
      ],
      "text/plain": [
       "week_ofthe_day            Friday      Monday     Sunday    Thursday  \\\n",
       "Country                                                               \n",
       "Australia              39.046078   22.611897  33.537115  134.363680   \n",
       "Austria                22.221591   20.646250  15.860811   28.820926   \n",
       "Bahrain                      NaN   47.510000        NaN   22.250000   \n",
       "Belgium                21.348297   19.586068  17.206711   19.832042   \n",
       "Brazil                 35.737500         NaN        NaN         NaN   \n",
       "Canada                550.940000   17.566944        NaN   10.312000   \n",
       "Channel Islands        28.650490   26.484824  40.222647   21.311176   \n",
       "Cyprus                 11.551944   21.646552        NaN   24.871688   \n",
       "Czech Republic         10.564000   36.617333        NaN         NaN   \n",
       "Denmark               108.425000   25.282436        NaN   51.748162   \n",
       "EIRE                   34.130478   28.281036  49.441058   30.411939   \n",
       "European Community     -8.500000   45.000000  20.371053   23.337931   \n",
       "Finland                45.609571   20.515833  55.323077   30.907227   \n",
       "France                 26.371012   22.482162  22.948151   21.497028   \n",
       "Germany                24.968907   20.399441  20.475621   26.842843   \n",
       "Greece                 18.812264   53.201404        NaN         NaN   \n",
       "Hong Kong              22.772600   39.996066        NaN         NaN   \n",
       "Iceland                      NaN   27.538723        NaN   24.256429   \n",
       "Israel                 16.173636   27.131429        NaN   31.841212   \n",
       "Italy                  21.434124   20.951901  28.583333   20.727551   \n",
       "Japan                  27.203269   43.160000  61.888939  235.918889   \n",
       "Lebanon                      NaN         NaN        NaN   37.641778   \n",
       "Lithuania                    NaN         NaN  47.001765         NaN   \n",
       "Malta                        NaN   20.345455        NaN   28.493500   \n",
       "Netherlands            94.887688  102.362882  95.463934  150.365174   \n",
       "Norway                 30.485802   58.003333  26.191250   25.658819   \n",
       "Poland                 21.771562   18.970000        NaN   18.209615   \n",
       "Portugal               23.477011   21.439869  20.559714   12.104903   \n",
       "RSA                          NaN         NaN        NaN   17.281207   \n",
       "Saudi Arabia                 NaN         NaN        NaN   13.117000   \n",
       "Singapore              31.226875   46.462588        NaN         NaN   \n",
       "Spain                  26.893249   21.383057  16.603473   14.697523   \n",
       "Sweden                 65.653398  145.257403  57.335730   54.169157   \n",
       "Switzerland            32.302152   24.757041  32.933359   38.096481   \n",
       "USA                    28.618571   17.990082        NaN  -24.541818   \n",
       "United Arab Emirates         NaN   29.641333        NaN   26.658947   \n",
       "United Kingdom         17.360051   15.607312  11.568784   18.436088   \n",
       "Unspecified             6.621594   21.164792        NaN    8.423814   \n",
       "\n",
       "week_ofthe_day           Tuesday     Wednesday  \n",
       "Country                                         \n",
       "Australia              97.557795  1.391560e+02  \n",
       "Austria                23.609444  7.616727e+01  \n",
       "Bahrain                      NaN -2.057400e+02  \n",
       "Belgium                19.019247  1.934168e+01  \n",
       "Brazil                       NaN           NaN  \n",
       "Canada                       NaN  5.342400e+02  \n",
       "Channel Islands        33.258741  2.059093e+01  \n",
       "Cyprus                 18.715529  3.373425e+01  \n",
       "Czech Republic               NaN           NaN  \n",
       "Denmark                 2.474000  5.943929e+01  \n",
       "EIRE                   33.237348  2.881900e+01  \n",
       "European Community     17.400000           NaN  \n",
       "Finland                31.181579  3.002962e+01  \n",
       "France                 20.817889  2.375962e+01  \n",
       "Germany                19.006789  2.463265e+01  \n",
       "Greece                 18.916389           NaN  \n",
       "Hong Kong              42.937477  3.962250e+01  \n",
       "Iceland                24.466038  1.750525e+01  \n",
       "Israel                  4.059706  3.064778e+01  \n",
       "Italy                  21.971106  1.745000e+01  \n",
       "Japan                 122.785789  1.115787e+02  \n",
       "Lebanon                      NaN           NaN  \n",
       "Lithuania                    NaN  6.300000e+01  \n",
       "Malta                  -7.875000  1.664700e+01  \n",
       "Netherlands           111.856422  1.266614e+02  \n",
       "Norway                 17.976296  3.286552e+01  \n",
       "Poland                 25.752545  2.051599e+01  \n",
       "Portugal               26.297655  2.218326e+01  \n",
       "RSA                          NaN           NaN  \n",
       "Saudi Arabia                 NaN           NaN  \n",
       "Singapore              38.627870  1.136868e-13  \n",
       "Spain                  30.052566  2.585754e+01  \n",
       "Sweden                 79.398219  8.794054e+01  \n",
       "Switzerland            19.793706  2.530817e+01  \n",
       "USA                    17.452273 -1.563871e+01  \n",
       "United Arab Emirates         NaN           NaN  \n",
       "United Kingdom         17.910614  1.667946e+01  \n",
       "Unspecified            18.142128  1.753684e+01  "
      ]
     },
     "execution_count": 42,
     "metadata": {},
     "output_type": "execute_result"
    }
   ],
   "source": [
    "online_retail.pivot_table(index='Country' , columns='week_ofthe_day' , values='Total_Price' ,aggfunc='mean')"
   ]
  },
  {
   "cell_type": "code",
   "execution_count": 39,
   "metadata": {},
   "outputs": [
    {
     "data": {
      "text/plain": [
       "Index(['InvoiceNo', 'StockCode', 'Description', 'Quantity', 'InvoiceDate',\n",
       "       'UnitPrice', 'CustomerID', 'Country', 'week_ofthe_day', 'Total_Price'],\n",
       "      dtype='object')"
      ]
     },
     "execution_count": 39,
     "metadata": {},
     "output_type": "execute_result"
    }
   ],
   "source": [
    "online_retail.columns"
   ]
  },
  {
   "cell_type": "code",
   "execution_count": 40,
   "metadata": {},
   "outputs": [
    {
     "name": "stdout",
     "output_type": "stream",
     "text": [
      "Help on function pivot_table in module pandas.core.reshape.pivot:\n",
      "\n",
      "pivot_table(data, values=None, index=None, columns=None, aggfunc='mean', fill_value=None, margins=False, dropna=True, margins_name='All')\n",
      "    Create a spreadsheet-style pivot table as a DataFrame. The levels in\n",
      "    the pivot table will be stored in MultiIndex objects (hierarchical\n",
      "    indexes) on the index and columns of the result DataFrame.\n",
      "    \n",
      "    Parameters\n",
      "    ----------\n",
      "    data : DataFrame\n",
      "    values : column to aggregate, optional\n",
      "    index : column, Grouper, array, or list of the previous\n",
      "        If an array is passed, it must be the same length as the data. The\n",
      "        list can contain any of the other types (except list).\n",
      "        Keys to group by on the pivot table index.  If an array is passed,\n",
      "        it is being used as the same manner as column values.\n",
      "    columns : column, Grouper, array, or list of the previous\n",
      "        If an array is passed, it must be the same length as the data. The\n",
      "        list can contain any of the other types (except list).\n",
      "        Keys to group by on the pivot table column.  If an array is passed,\n",
      "        it is being used as the same manner as column values.\n",
      "    aggfunc : function, list of functions, dict, default numpy.mean\n",
      "        If list of functions passed, the resulting pivot table will have\n",
      "        hierarchical columns whose top level are the function names\n",
      "        (inferred from the function objects themselves)\n",
      "        If dict is passed, the key is column to aggregate and value\n",
      "        is function or list of functions\n",
      "    fill_value : scalar, default None\n",
      "        Value to replace missing values with\n",
      "    margins : boolean, default False\n",
      "        Add all row / columns (e.g. for subtotal / grand totals)\n",
      "    dropna : boolean, default True\n",
      "        Do not include columns whose entries are all NaN\n",
      "    margins_name : string, default 'All'\n",
      "        Name of the row / column that will contain the totals\n",
      "        when margins is True.\n",
      "    \n",
      "    Returns\n",
      "    -------\n",
      "    table : DataFrame\n",
      "    \n",
      "    See Also\n",
      "    --------\n",
      "    DataFrame.pivot : Pivot without aggregation that can handle\n",
      "        non-numeric data.\n",
      "    \n",
      "    Examples\n",
      "    --------\n",
      "    >>> df = pd.DataFrame({\"A\": [\"foo\", \"foo\", \"foo\", \"foo\", \"foo\",\n",
      "    ...                          \"bar\", \"bar\", \"bar\", \"bar\"],\n",
      "    ...                    \"B\": [\"one\", \"one\", \"one\", \"two\", \"two\",\n",
      "    ...                          \"one\", \"one\", \"two\", \"two\"],\n",
      "    ...                    \"C\": [\"small\", \"large\", \"large\", \"small\",\n",
      "    ...                          \"small\", \"large\", \"small\", \"small\",\n",
      "    ...                          \"large\"],\n",
      "    ...                    \"D\": [1, 2, 2, 3, 3, 4, 5, 6, 7],\n",
      "    ...                    \"E\": [2, 4, 5, 5, 6, 6, 8, 9, 9]})\n",
      "    >>> df\n",
      "         A    B      C  D  E\n",
      "    0  foo  one  small  1  2\n",
      "    1  foo  one  large  2  4\n",
      "    2  foo  one  large  2  5\n",
      "    3  foo  two  small  3  5\n",
      "    4  foo  two  small  3  6\n",
      "    5  bar  one  large  4  6\n",
      "    6  bar  one  small  5  8\n",
      "    7  bar  two  small  6  9\n",
      "    8  bar  two  large  7  9\n",
      "    \n",
      "    This first example aggregates values by taking the sum.\n",
      "    \n",
      "    >>> table = pivot_table(df, values='D', index=['A', 'B'],\n",
      "    ...                     columns=['C'], aggfunc=np.sum)\n",
      "    >>> table\n",
      "    C        large  small\n",
      "    A   B\n",
      "    bar one      4      5\n",
      "        two      7      6\n",
      "    foo one      4      1\n",
      "        two    NaN      6\n",
      "    \n",
      "    We can also fill missing values using the `fill_value` parameter.\n",
      "    \n",
      "    >>> table = pivot_table(df, values='D', index=['A', 'B'],\n",
      "    ...                     columns=['C'], aggfunc=np.sum, fill_value=0)\n",
      "    >>> table\n",
      "    C        large  small\n",
      "    A   B\n",
      "    bar one      4      5\n",
      "        two      7      6\n",
      "    foo one      4      1\n",
      "        two      0      6\n",
      "    \n",
      "    The next example aggregates by taking the mean across multiple columns.\n",
      "    \n",
      "    >>> table = pivot_table(df, values=['D', 'E'], index=['A', 'C'],\n",
      "    ...                     aggfunc={'D': np.mean,\n",
      "    ...                              'E': np.mean})\n",
      "    >>> table\n",
      "                      D         E\n",
      "                   mean      mean\n",
      "    A   C\n",
      "    bar large  5.500000  7.500000\n",
      "        small  5.500000  8.500000\n",
      "    foo large  2.000000  4.500000\n",
      "        small  2.333333  4.333333\n",
      "    \n",
      "    We can also calculate multiple types of aggregations for any given\n",
      "    value column.\n",
      "    \n",
      "    >>> table = pivot_table(df, values=['D', 'E'], index=['A', 'C'],\n",
      "    ...                     aggfunc={'D': np.mean,\n",
      "    ...                              'E': [min, max, np.mean]})\n",
      "    >>> table\n",
      "                      D   E\n",
      "                   mean max      mean min\n",
      "    A   C\n",
      "    bar large  5.500000  9   7.500000   6\n",
      "        small  5.500000  9   8.500000   8\n",
      "    foo large  2.000000  5   4.500000   4\n",
      "        small  2.333333  6   4.333333   2\n",
      "\n"
     ]
    }
   ],
   "source": [
    "help(pd.pivot_table)"
   ]
  },
  {
   "cell_type": "code",
   "execution_count": null,
   "metadata": {},
   "outputs": [],
   "source": []
  }
 ],
 "metadata": {
  "kernelspec": {
   "display_name": "Python 3",
   "language": "python",
   "name": "python3"
  },
  "language_info": {
   "codemirror_mode": {
    "name": "ipython",
    "version": 3
   },
   "file_extension": ".py",
   "mimetype": "text/x-python",
   "name": "python",
   "nbconvert_exporter": "python",
   "pygments_lexer": "ipython3",
   "version": "3.7.0"
  }
 },
 "nbformat": 4,
 "nbformat_minor": 2
}
